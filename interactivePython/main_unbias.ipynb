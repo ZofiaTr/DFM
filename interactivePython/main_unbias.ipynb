{
 "cells": [
  {
   "cell_type": "code",
   "execution_count": 1,
   "metadata": {},
   "outputs": [
    {
     "name": "stdout",
     "output_type": "stream",
     "text": [
      "Dimer model: double-well with 2 states\n",
      "State1: r=Quantity(value=1.55, unit=angstrom)\n",
      "State2: r=Quantity(value=3.55, unit=angstrom)\n"
     ]
    }
   ],
   "source": [
    "import matplotlib.pyplot as plt\n",
    "#%matplotlib inline\n",
    "\n",
    "import sys\n",
    "import os\n",
    "sys.path.append('/Users/zofia/github/DFM/srcDiffmap')\n",
    "\n",
    "import mdtraj as md\n",
    "\n",
    "import scipy.sparse.linalg as spsl\n",
    "\n",
    "import integrator\n",
    "import sampler #as sampler\n",
    "import model #as model\n",
    "# import diffusionmap as dm\n",
    "# import statistics_dfm as stat\n",
    "\n",
    "import numpy as np\n",
    "from simtk import openmm, unit\n",
    "# from openmmtools.constants import kB\n",
    "\n",
    "from pydiffmap import diffusion_map as dmpy\n",
    "import helpers\n",
    "import model\n",
    "\n"
   ]
  },
  {
   "cell_type": "code",
   "execution_count": 2,
   "metadata": {
    "collapsed": true
   },
   "outputs": [],
   "source": [
    "\n",
    "\n",
    "############################\n",
    "# target temperature\n",
    "T=500.0\n",
    "\n",
    "T_target=300.0\n",
    "\n",
    "\n",
    "dataName='TemporaryData_T500K'\n",
    "folderName='/Users/zofia/github/DFM/'\n",
    "methodName='std_300'\n",
    "\n",
    "modelName='Dimer'\n",
    "\n",
    "modnr = 10000\n",
    "\n",
    "colective_variable = helpers.compute_radius\n",
    "cv_name = 'Radius'\n",
    "\n",
    "# results from this code will be saved here:\n",
    "simulationFolder='/Users/zofia/github/DFM/TemporaryFigures/'+modelName+'/'+methodName\n",
    "\n",
    "# load results from reference simulation already postprocessed\n",
    "addReference=0\n",
    "reference_folder = '/Users/zofia/github/DFM/TemporaryFigures/'+modelName+'/std_300'\n",
    "\n",
    "### reference at 300K\n",
    "# Raw:\n",
    "# <Radius> = Quantity(value=1.7522397, unit=angstrom)\n",
    "#\n",
    "# Unbiased:\n",
    "# <Radius> = Quantity(value=1.5599391188475216, unit=angstrom)\n",
    "# Raw:\n",
    "# <E> = Quantity(value=4.8909900846302508, unit=kilojoule/mole)\n",
    "#\n",
    "# Unbiased:\n",
    "# <E> = Quantity(value=3.1952283576218186, unit=kilojoule/mole)\n",
    "# ->3.46 :)\n",
    "#t 500:\n",
    "# Raw:\n",
    "# <Radius> = Quantity(value=2.1970608, unit=angstrom)\n",
    "#\n",
    "# Unbiased:\n",
    "# <Radius> = Quantity(value=1.5851064100553285, unit=angstrom)\n",
    "# Raw:\n",
    "# <E> = Quantity(value=8.2463439643144607, unit=kilojoule/mole)\n",
    "#\n",
    "# Unbiased:\n",
    "# <E> = Quantity(value=3.6909848345915366, unit=kilojoule/mole)\n",
    "# ############################\n",
    "\n",
    "\n"
   ]
  },
  {
   "cell_type": "code",
   "execution_count": 13,
   "metadata": {},
   "outputs": [
    {
     "name": "stdout",
     "output_type": "stream",
     "text": [
      "Dimer model: double-well with 2 states\n",
      "State1: r=Quantity(value=1.55, unit=angstrom)\n",
      "State2: r=Quantity(value=3.55, unit=angstrom)\n",
      "angstrom\n",
      "System has 2 particle(s)\n",
      "580.127850154 K\n",
      "802.177802582 K\n"
     ]
    }
   ],
   "source": [
    "mdl=model.Model(modelName)\n",
    "mdlTopology=mdl.testsystem.topology\n",
    "print (mdl.x_unit)\n",
    "print('System has %d particle(s)' % mdl.system.getNumParticles())\n",
    "# print (mdl.testsystem.positions)\n",
    "# X0=mdl.testsystem.positions.value_in_unit(mdl.x_unit)\n",
    "\n",
    "\n",
    "\n",
    "\n",
    "\n",
    "temperature =  T * unit.kelvin#300 * unit.kelvin\n",
    "temperature_target =  T_target * unit.kelvin\n",
    "\n",
    "gamma = 1.0 / unit.picosecond\n",
    "dt = 2.0 * unit.femtosecond\n",
    "\n",
    "temperatureAlpha= (T)* unit.kelvin\n",
    "\n",
    "# simulation class sampler takes integrator class with chosen parameters as input\n",
    "intg=integrator.Integrator( model=mdl, gamma=gamma, temperature=temperature, dt=dt,  temperatureAlpha=temperatureAlpha)\n",
    "smpl_raw=sampler.Sampler(model=mdl, integrator=intg, algorithm=0, dataFileName='Data')\n",
    "\n",
    "\n",
    "integrator_target=integrator.Integrator( model=mdl, gamma=gamma, temperature=temperature_target, dt=dt,  temperatureAlpha=temperatureAlpha)\n",
    "smpl_target=sampler.Sampler(model=mdl, integrator=integrator_target, algorithm=0, dataFileName='Data')\n",
    "\n",
    "if methodName == 'std_300':\n",
    "    smpl=smpl_target\n",
    "elif(methodName == 'std_500') :\n",
    "    smpl=smpl_raw\n",
    "\n",
    "\n",
    "\n",
    "\n",
    "\n",
    "newpath = os.path.join(os.getcwd(),simulationFolder)\n",
    "if not os.path.exists(newpath):\n",
    "        os.makedirs(newpath)\n"
   ]
  },
  {
   "cell_type": "code",
   "execution_count": 14,
   "metadata": {},
   "outputs": [
    {
     "name": "stdout",
     "output_type": "stream",
     "text": [
      "10\n",
      "3\n",
      "2\n",
      "Data length is 100\n"
     ]
    },
    {
     "data": {
      "image/png": "[encoded data removed]",
      "text/plain": [
       "<matplotlib.figure.Figure at 0x127d991d0>"
      ]
     },
     "metadata": {},
     "output_type": "display_data"
    }
   ],
   "source": [
    "X_FT = helpers.loadData(folderName+dataName+'/'+modelName+'/'+methodName+'/Traj/*.h5', mdl.testsystem.topology)\n",
    "\n",
    "X_FT=X_FT[::modnr]\n",
    "print('Data length is '+repr(len(X_FT)))\n",
    "\n",
    "#compute collective variable\n",
    "r=colective_variable(X_FT)\n",
    "cv=r\n",
    "\n",
    "plt.plot(range(len(r)), r)\n",
    "plt.savefig(simulationFolder+'/colvar.png')\n",
    "\n",
    "plt.show()"
   ]
  },
  {
   "cell_type": "code",
   "execution_count": 15,
   "metadata": {},
   "outputs": [
    {
     "name": "stdout",
     "output_type": "stream",
     "text": [
      "Get the target density at sampled data points\n",
      "... might take a while ...\n"
     ]
    },
    {
     "ename": "NameError",
     "evalue": "name 'smplt' is not defined",
     "output_type": "error",
     "traceback": [
      "\u001b[0;31m---------------------------------------------------------------------------\u001b[0m",
      "\u001b[0;31mNameError\u001b[0m                                 Traceback (most recent call last)",
      "\u001b[0;32m<ipython-input-15-1056cb9110ce>\u001b[0m in \u001b[0;36m<module>\u001b[0;34m()\u001b[0m\n\u001b[1;32m      7\u001b[0m \"\"\"\n\u001b[1;32m      8\u001b[0m \u001b[0;34m\u001b[0m\u001b[0m\n\u001b[0;32m----> 9\u001b[0;31m \u001b[0mqTargetDistribution\u001b[0m\u001b[0;34m,\u001b[0m \u001b[0mE\u001b[0m \u001b[0;34m=\u001b[0m \u001b[0mhelpers\u001b[0m\u001b[0;34m.\u001b[0m\u001b[0mcomputeTargetMeasure\u001b[0m\u001b[0;34m(\u001b[0m\u001b[0mX_FT\u001b[0m\u001b[0;34m,\u001b[0m \u001b[0msmplt\u001b[0m\u001b[0;34m)\u001b[0m\u001b[0;34m\u001b[0m\u001b[0m\n\u001b[0m\u001b[1;32m     10\u001b[0m \u001b[0;34m\u001b[0m\u001b[0m\n\u001b[1;32m     11\u001b[0m \u001b[0;34m\u001b[0m\u001b[0m\n",
      "\u001b[0;31mNameError\u001b[0m: name 'smplt' is not defined"
     ]
    }
   ],
   "source": [
    "\n",
    "print('Get the target density at sampled data points')\n",
    "print('... might take a while ...')\n",
    "\n",
    "\"\"\"\n",
    "target density: exp(-beta V(q)) : [V(q)] = kilojoule/mole, [beta] =  J/mol\n",
    "\"\"\"\n",
    "\n",
    "qTargetDistribution, E = helpers.computeTargetMeasure(X_FT, smplt)\n",
    "\n",
    "\n",
    "fig = plt.figure(figsize=(16,6))\n",
    "ax = fig.add_subplot(121)\n",
    "cax = ax.hist(E, 1000, normed=True)\n",
    "ax.set_title('Histogram Energy')\n",
    "\n",
    "\n",
    "ax2 = fig.add_subplot(122)\n",
    "cax2 = ax2.scatter(colective_variable(X_FT), E ,s=5 )\n",
    "ax2.set_xlabel(cv_name)\n",
    "ax2.set_ylabel('Energy')\n",
    "ax2.set_title('Potential Energy')\n",
    "\n",
    "fig.savefig(simulationFolder+'/energy.png')\n",
    "\n",
    "plt.show()"
   ]
  },
  {
   "cell_type": "code",
   "execution_count": null,
   "metadata": {
    "collapsed": true
   },
   "outputs": [],
   "source": [
    "\n",
    "#### define rmsd metric\n",
    "\n",
    "\n",
    "def myRMSDmetricPrecentered(arr1, arr2):\n",
    "    \"\"\"\n",
    "    This is built under the assumption that the space dimension is 3!!!\n",
    "    Requirement from sklearn radius_neighbors_graph: The callable should take two arrays as input and return one value indicating the distance between them.\n",
    "     Input: One row from reshaped xyz trajectory as number of steps times nDOF\n",
    "     Inside: Reshape back to md.Trajectory and apply md.rmsd as r=md.rmsd(X[i], X[j])\n",
    "     Output: r\n",
    "    \"\"\"\n",
    "\n",
    "\n",
    "    nParticles = len(arr1) / 3;\n",
    "    assert (nParticles == int(nParticles))\n",
    "\n",
    "    arr1 = arr1.reshape(int(nParticles), 3 )\n",
    "    arr2 = arr2.reshape(int(nParticles), 3 )\n",
    "\n",
    "\n",
    "    p1MD=md.Trajectory(arr1, mdl.testsystem.topology)\n",
    "    p2MD=md.Trajectory(arr2,  mdl.testsystem.topology)\n",
    "\n",
    "    d=md.rmsd(p1MD, p2MD, precentered=True, parallel=True)\n",
    "\n",
    "    return d\n"
   ]
  },
  {
   "cell_type": "code",
   "execution_count": 16,
   "metadata": {},
   "outputs": [
    {
     "name": "stderr",
     "output_type": "stream",
     "text": [
      "/Users/zofia/miniconda3/lib/python3.6/site-packages/ipykernel_launcher.py:25: RuntimeWarning: in rmsd(), precentered is ignored when atom_indices != None\n"
     ]
    },
    {
     "data": {
      "image/png": "[encoded data removed]",
      "text/plain": [
       "<matplotlib.figure.Figure at 0x10f8770f0>"
      ]
     },
     "metadata": {},
     "output_type": "display_data"
    }
   ],
   "source": [
    "################ diffusion diffmaps\n",
    "\n",
    "epsilon=0.01\n",
    "\n",
    "Xresh=X_FT.reshape(X_FT.shape[0], X_FT.shape[1]*X_FT.shape[2])\n",
    "\n",
    "mydmap = dmpy.DiffusionMap(n_evecs = 1, epsilon = epsilon, alpha = 0.5, k=2000, metric=myRMSDmetricPrecentered)\n",
    "dmap = mydmap.fit_transform(Xresh)\n",
    "\n",
    "P = mydmap.P\n",
    "evals = mydmap.evals\n",
    "evecs = mydmap.evecs\n",
    "\n",
    "[evalsT, evecsT] = spsl.eigs(P.transpose(),k=1, which='LM')\n",
    "phi = np.real(evecsT.ravel())\n",
    "\n",
    "\n",
    "fig = plt.figure(figsize=(6,6))\n",
    "plt.scatter(cv, evecs[:,0], s=5)\n",
    "plt.xlabel('Radius')\n",
    "plt.ylabel('Dominant eigenvector')\n",
    "\n",
    "fig.savefig(simulationFolder+'/dominant_eigenvector.png')\n",
    "plt.show()\n",
    "#####\n"
   ]
  },
  {
   "cell_type": "code",
   "execution_count": 17,
   "metadata": {},
   "outputs": [
    {
     "name": "stdout",
     "output_type": "stream",
     "text": [
      "Error on the density: 0.19677421219717264\n",
      "Sum weights is 0.50406345124826168\n",
      "mean weight is 0.0050406345124826167\n",
      "sum weight is 0.50406345124826168\n",
      "max weight is 0.0074708141907058366\n",
      "min weight is 0.00056416655639525014\n",
      "Max error is 0.0035910926807045445\n",
      "Mean error is 0.0019677421219717272\n"
     ]
    }
   ],
   "source": [
    "\n",
    "# estimated density by KDE\n",
    "q_est = phi*mydmap.q\n",
    "q_estNormalized = q_est/sum(q_est)\n",
    "\n",
    "qTargetDistributionNormalized = qTargetDistribution/sum(qTargetDistribution)\n",
    "print(\"Error on the density: \"+repr(np.linalg.norm(q_estNormalized - qTargetDistributionNormalized,1)))\n",
    "\n",
    "## compute weights\n",
    "\n",
    "weight = qTargetDistribution/(mydmap.q)\n",
    "qTargetDistributionNormalized=qTargetDistribution/np.sum(qTargetDistribution)\n",
    "\n",
    "print('Sum weights is '+repr(np.sum(weight)))\n",
    "print('mean weight is '+repr(np.mean(weight)))\n",
    "print('sum weight is '+repr(np.sum(weight)))\n",
    "print('max weight is '+repr(np.max(weight)))\n",
    "print('min weight is '+repr(np.min(weight)))\n",
    "print('Max error is '+repr(np.max(np.abs(qTargetDistributionNormalized-q_estNormalized))))\n",
    "print('Mean error is '+repr(np.mean(np.abs(qTargetDistributionNormalized-q_estNormalized))))\n",
    "\n"
   ]
  },
  {
   "cell_type": "code",
   "execution_count": 20,
   "metadata": {},
   "outputs": [
    {
     "data": {
      "image/png": "[encoded data removed]",
      "text/plain": [
       "<matplotlib.figure.Figure at 0x1190ac518>"
      ]
     },
     "metadata": {},
     "output_type": "display_data"
    }
   ],
   "source": [
    "\n",
    "if addReference:\n",
    "    q_estNormalized_ref = np.load(reference_folder+'/density_300K.npy')\n",
    "    qTargetDistributionNormalized_ref = np.load(reference_folder+'/kde_300K.npy')\n",
    "    cv_ref = np.load(reference_folder+'/cv_300K.npy')\n",
    "    \n",
    "else:\n",
    "        np.save(reference_folder+'/density_300K.npy',  (qTargetDistributionNormalized))\n",
    "        np.save(reference_folder+'/kde_300K.npy',  (q_estNormalized))\n",
    "        np.save(reference_folder+'/cv_300K.npy',  cv)\n",
    "\n",
    "\n",
    "\n",
    "\n",
    "\n",
    "### plot densities and weights\n",
    "\n",
    "\n",
    "fig = plt.figure(figsize=(16,6))\n",
    "ax = fig.add_subplot(121)\n",
    "ax.scatter(cv, -np.log(q_estNormalized), s=5, c='r')\n",
    "ax.scatter(cv, -np.log(qTargetDistributionNormalized), s=5, c='b')\n",
    "if addReference:\n",
    "    ax.scatter(cv_ref, -np.log(q_estNormalized_ref), s=5, c='g')\n",
    "    ax.scatter(cv_ref, -np.log(qTargetDistributionNormalized_ref), s=5, c='k')\n",
    "    ax.legend(['KDE','Target', 'KDE_ref', 'Target ref'])\n",
    "else:\n",
    "    ax.legend(['KDE T=','Target'])\n",
    "ax.set_xlabel('Radius')\n",
    "ax.set_ylabel('Density')\n",
    "\n",
    "\n",
    "ax.set_title('Densities: '+repr(smpl.kT.value_in_unit(smpl.model.energy_unit)))\n",
    "\n",
    "\n",
    "ax2 = fig.add_subplot(122)\n",
    "cax2 = ax2.scatter(colective_variable(X_FT), weight  ,s=5 )\n",
    "ax2.set_xlabel(cv_name)\n",
    "ax2.set_ylabel('Weight')\n",
    "#ax2.set_title('Potential Energy')\n",
    "\n",
    "fig.savefig(simulationFolder+'/KDE_weight.png')\n",
    "\n",
    "\n",
    "plt.show()\n"
   ]
  },
  {
   "cell_type": "code",
   "execution_count": 112,
   "metadata": {},
   "outputs": [
    {
     "name": "stdout",
     "output_type": "stream",
     "text": [
      "Raw:\n",
      "<Radius> = Quantity(value=2.3677268, unit=angstrom)\n",
      "\n",
      "Unbiased:\n",
      "<Radius> = Quantity(value=1.7572033442562822, unit=angstrom)\n",
      "Raw:\n",
      "<E> = Quantity(value=9.1855678910017016, unit=kilojoule/mole)\n",
      "\n",
      "Unbiased:\n",
      "<E> = Quantity(value=5.3768172693913083, unit=kilojoule/mole)\n"
     ]
    }
   ],
   "source": [
    "\n",
    "##### compute Averages\n",
    "\n",
    "observable=cv\n",
    "\n",
    "meanR=np.mean(observable)\n",
    "meanRunbiased=np.mean(observable*weight)/np.mean(weight)\n",
    "\n",
    "print('Raw:')\n",
    "print('<'+cv_name+'> = '+repr(meanR*smpl.model.x_unit))\n",
    "\n",
    "print('\\nUnbiased:')\n",
    "print('<'+cv_name+'> = '+repr(meanRunbiased*smpl.model.x_unit))\n",
    "\n",
    "#compute mean energy\n",
    "\n",
    "meanE=np.mean(E)\n",
    "meanEunbiased=np.mean(E*weight)/np.mean(weight)\n",
    "\n",
    "print('Raw:')\n",
    "print('<E> = '+repr(meanE*smpl.model.energy_unit))\n",
    "\n",
    "print('\\nUnbiased:')\n",
    "print('<E> = '+repr(meanEunbiased*smpl.model.energy_unit))\n",
    "\n",
    "##############\n"
   ]
  },
  {
   "cell_type": "code",
   "execution_count": 113,
   "metadata": {},
   "outputs": [
    {
     "data": {
      "image/png": "[encoded data removed]",
      "text/plain": [
       "<matplotlib.figure.Figure at 0x119a3ea20>"
      ]
     },
     "metadata": {},
     "output_type": "display_data"
    }
   ],
   "source": [
    "import imp\n",
    "imp.reload(helpers)\n",
    "\n",
    "width=0.1\n",
    "cv=colective_variable(X_FT)\n",
    "addReference=0\n",
    "\n",
    "free_energy_raw=helpers.compute_free_energy(X_FT, cv, width=width, kBT=smpl.kT)\n",
    "free_energy_unbiased=helpers.compute_free_energy(X_FT, cv, width=width, weights=weight, kBT=smpl.kT)\n",
    "\n",
    "if(addReference):\n",
    "    free_energy_raw_ref = np.load(reference_folder+'/free_energy.npy')\n",
    "    free_energy_unbiased_ref = np.load(reference_folder+'/free_energy_unbiased.npy')\n",
    "    cv_ref = np.load(reference_folder+'/cv_for_free_energy.npy')\n",
    "\n",
    "\n",
    "\n",
    "\n",
    "fig = plt.figure(figsize=(6,6))\n",
    "ax = fig.add_subplot(111)\n",
    "ax.scatter(cv, free_energy_raw, s=5, c='r')\n",
    "ax.scatter(cv, free_energy_unbiased, s=5, c='b')\n",
    "if(addReference):\n",
    "    ax.scatter(cv_ref, free_energy_raw_ref, s=5, c='g')\n",
    "    ax.scatter(cv_ref, free_energy_unbiased_ref, s=5, c='k')\n",
    "ax.set_xlabel(cv_name)\n",
    "ax.set_ylabel('free energy [kBT]')\n",
    "if(addReference):\n",
    "    ax.legend(['Raw','Unbiased', 'Ref raw', 'Ref unbiased'])\n",
    "else:\n",
    "    ax.legend(['Raw','Unbiased'])\n",
    "ax.set_title('Free energy: '+repr(modelName))\n",
    "\n",
    "fig.savefig(simulationFolder+'/free_energy.png')\n",
    "\n",
    "np.save(simulationFolder+'/free_energy_raw', free_energy_raw)\n",
    "np.save(simulationFolder+'/free_energy_unbiased', free_energy_unbiased)\n",
    "np.save(simulationFolder+'/radius_for_free_energy', cv)\n",
    "plt.show()"
   ]
  },
  {
   "cell_type": "code",
   "execution_count": null,
   "metadata": {
    "collapsed": true
   },
   "outputs": [],
   "source": []
  }
 ],
 "metadata": {
  "kernelspec": {
   "display_name": "Python 3",
   "language": "python",
   "name": "python3"
  },
  "language_info": {
   "codemirror_mode": {
    "name": "ipython",
    "version": 3
   },
   "file_extension": ".py",
   "mimetype": "text/x-python",
   "name": "python",
   "nbconvert_exporter": "python",
   "pygments_lexer": "ipython3",
   "version": "3.6.1"
  }
 },
 "nbformat": 4,
 "nbformat_minor": 2
}
