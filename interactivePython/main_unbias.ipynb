{
 "cells": [
  {
   "cell_type": "code",
   "execution_count": 1,
   "metadata": {
    "collapsed": true
   },
   "outputs": [],
   "source": [
    "import ipyparallel as ipp\n",
    "\n",
    "# c = ipp.Client()\n",
    "\n",
    "# c.ids\n",
    "\n",
    "\n",
    "# c[:].apply_sync(lambda : \"Hello, World\")\n"
   ]
  },
  {
   "cell_type": "code",
   "execution_count": 88,
   "metadata": {},
   "outputs": [],
   "source": [
    "import matplotlib.pyplot as plt\n",
    "#%matplotlib inline\n",
    "\n",
    "import sys\n",
    "import os\n",
    "sys.path.append('/Users/zofia/github/DFM/srcDiffmap')\n",
    "\n",
    "import mdtraj as md\n",
    "\n",
    "import scipy.sparse.linalg as spsl\n",
    "\n",
    "import integrator\n",
    "import sampler #as sampler\n",
    "import model #as model\n",
    "# import diffusionmap as dm\n",
    "# import statistics_dfm as stat\n",
    "\n",
    "import numpy as np\n",
    "from simtk import openmm, unit\n",
    "# from openmmtools.constants import kB\n",
    "\n",
    "from pydiffmap import diffusion_map as dmpy\n",
    "import helpers\n",
    "import model\n",
    "\n"
   ]
  },
  {
   "cell_type": "code",
   "execution_count": 172,
   "metadata": {},
   "outputs": [],
   "source": [
    "\n",
    "methodName='std_500'#'frontier_points_corner'#'frontier_points_corner'#\n",
    "\n",
    "############################\n",
    "\n",
    "#######################\n",
    "# simulation temperature\n",
    "T=500.0\n",
    "# target temperature\n",
    "T_target=300.0\n",
    "\n",
    "\n",
    "metric_choice = 'rmsd'#'euclidean'#'rmsd'#\n",
    "\n",
    "computeReference=0\n",
    "\n",
    "if methodName=='std_ref':\n",
    "    addReference=0\n",
    "else:\n",
    "    addReference=1\n",
    "\n",
    "  \n",
    "dataName='Results/'\n",
    "folderName='/Users/zofia/github/DFM/'\n",
    "modelName='Dimer'\n",
    "temperatureName = 'T'+repr(np.int(T))\n",
    "\n",
    "finalLength = None#30000\n",
    "modnr = 5#1000\n",
    "\n",
    "colective_variable = helpers.compute_radius\n",
    "cv_name = 'Radius'\n",
    "\n",
    "# results from this code will be saved here:\n",
    "simulationFolder=folderName+dataName+'/'+modelName+'/TemporaryFigures_'+metric_choice+temperatureName+'/'+methodName\n",
    "dataFolderName=folderName+dataName+modelName+'/'+temperatureName+'/'+methodName\n",
    "\n",
    "# load results from reference simulation already postprocessed\n",
    "\n",
    "# reference at T300 saved at \n",
    "reference_folder='/Users/zofia/github/DFM/TemporaryResults/Dimer/T300/'\n",
    "  \n",
    "\n"
   ]
  },
  {
   "cell_type": "code",
   "execution_count": 173,
   "metadata": {},
   "outputs": [
    {
     "name": "stdout",
     "output_type": "stream",
     "text": [
      "Dimer model: double-well with 2 states\n",
      "State1: r=Quantity(value=1.55, unit=angstrom)\n",
      "State2: r=Quantity(value=3.55, unit=angstrom)\n",
      "angstrom\n",
      "System has 2 particle(s)\n",
      "196.941170697 K\n",
      "796.175549278 K\n"
     ]
    }
   ],
   "source": [
    "mdl=model.Model(modelName)\n",
    "mdlTopology=mdl.testsystem.topology\n",
    "print (mdl.x_unit)\n",
    "print('System has %d particle(s)' % mdl.system.getNumParticles())\n",
    "# print (mdl.testsystem.positions)\n",
    "# X0=mdl.testsystem.positions.value_in_unit(mdl.x_unit)\n",
    "\n",
    "\n",
    "\n",
    "\n",
    "\n",
    "temperature =  T * unit.kelvin#300 * unit.kelvin\n",
    "temperature_target =  T_target * unit.kelvin\n",
    "\n",
    "gamma = 1.0 / unit.picosecond\n",
    "dt = 2.0 * unit.femtosecond\n",
    "\n",
    "temperatureAlpha= (T)* unit.kelvin\n",
    "\n",
    "# simulation class sampler takes integrator class with chosen parameters as input\n",
    "intg=integrator.Integrator( model=mdl, gamma=gamma, temperature=temperature, dt=dt,  temperatureAlpha=temperatureAlpha)\n",
    "smpl=sampler.Sampler(model=mdl, integrator=intg, algorithm=0, dataFileName='Data')\n",
    "\n",
    "# this will be used only to compare the target distributions\n",
    "integrator_target=integrator.Integrator( model=mdl, gamma=gamma, temperature=temperature_target, dt=dt,  temperatureAlpha=temperatureAlpha)\n",
    "smpl_target=sampler.Sampler(model=mdl, integrator=integrator_target, algorithm=0, dataFileName='Data')\n",
    "\n",
    "newpath = os.path.join(os.getcwd(),simulationFolder)\n",
    "if not os.path.exists(newpath):\n",
    "        os.makedirs(newpath)\n"
   ]
  },
  {
   "cell_type": "code",
   "execution_count": 174,
   "metadata": {},
   "outputs": [
    {
     "data": {
      "text/plain": [
       "'/Users/zofia/github/DFM/Results/Dimer/T500/std_500'"
      ]
     },
     "execution_count": 174,
     "metadata": {},
     "output_type": "execute_result"
    }
   ],
   "source": [
    "dataFolderName"
   ]
  },
  {
   "cell_type": "code",
   "execution_count": 175,
   "metadata": {},
   "outputs": [
    {
     "name": "stdout",
     "output_type": "stream",
     "text": [
      "Loaded trajectory of length 20000\n"
     ]
    },
    {
     "data": {
      "image/png": "[encoded data removed]",
      "text/plain": [
       "<matplotlib.figure.Figure at 0x11fe3eba8>"
      ]
     },
     "metadata": {},
     "output_type": "display_data"
    }
   ],
   "source": [
    "if metric_choice == 'rmsd':\n",
    "    al = False\n",
    "elif metric_choice == 'euclidean':\n",
    "    al = True\n",
    "\n",
    "X_FT = helpers.loadData(dataFolderName+'/Traj/*.h5', mdl.testsystem.topology, modnr, align=al)\n",
    "print('Loaded trajectory of length '+repr(X_FT.shape[0]))\n",
    "# X_FT =X_FT[:finalLength]\n",
    "# print('Final lenght of trajectory is '+repr(X_FT.shape[0]))\n",
    "# X_FT=X_FT[::modnr]\n",
    "# print('After subsampling, the data length is '+repr(len(X_FT)))\n",
    "\n",
    "#compute collective variable\n",
    "r=colective_variable(X_FT)\n",
    "cv=r\n",
    "\n",
    "plt.plot(range(len(r)), r)\n",
    "plt.ylabel(cv_name)\n",
    "plt.savefig(simulationFolder+'/colvar.png')\n",
    "\n",
    "plt.show()"
   ]
  },
  {
   "cell_type": "code",
   "execution_count": 176,
   "metadata": {},
   "outputs": [
    {
     "name": "stdout",
     "output_type": "stream",
     "text": [
      "Get the target density at sampled data points\n",
      "... might take a while ...\n",
      "Done\n",
      "Done\n"
     ]
    },
    {
     "data": {
      "image/png": "[encoded data removed]",
      "text/plain": [
       "<matplotlib.figure.Figure at 0x11fc6af60>"
      ]
     },
     "metadata": {},
     "output_type": "display_data"
    }
   ],
   "source": [
    "\n",
    "print('Get the target density at sampled data points')\n",
    "print('... might take a while ...')\n",
    "\n",
    "\"\"\"\n",
    "target density: exp(-beta V(q)) : [V(q)] = kilojoule/mole, [beta] =  J/mol\n",
    "\"\"\"\n",
    "\n",
    "E = helpers.computeEnergy(X_FT, smpl)\n",
    "\n",
    "qTargetDistribution= helpers.computeTargetMeasure(X_FT, smpl, E)\n",
    "qTargetDistribution_targetTemperature = helpers.computeTargetMeasure(X_FT, smpl_target, E)\n",
    "\n",
    "\n",
    "fig = plt.figure(figsize=(16,6))\n",
    "ax = fig.add_subplot(121)\n",
    "cax = ax.hist(E, 1000, normed=True)\n",
    "ax.set_title('Histogram Energy')\n",
    "\n",
    "\n",
    "ax2 = fig.add_subplot(122)\n",
    "cax2 = ax2.scatter(colective_variable(X_FT), E ,s=5 )\n",
    "ax2.set_xlabel(cv_name)\n",
    "ax2.set_ylabel('Energy')\n",
    "ax2.set_title('Potential Energy')\n",
    "\n",
    "fig.savefig(simulationFolder+'/energy.png')\n",
    "\n",
    "plt.show()"
   ]
  },
  {
   "cell_type": "code",
   "execution_count": 177,
   "metadata": {
    "collapsed": true
   },
   "outputs": [],
   "source": [
    "\n",
    "#### define rmsd metric\n",
    "\n",
    "\n",
    "def myRMSDmetricPrecentered(arr1, arr2):\n",
    "    \"\"\"\n",
    "    This is built under the assumption that the space dimension is 3!!!\n",
    "    Requirement from sklearn radius_neighbors_graph: The callable should take two arrays as input and return one value indicating the distance between them.\n",
    "     Input: One row from reshaped xyz trajectory as number of steps times nDOF\n",
    "     Inside: Reshape back to md.Trajectory and apply md.rmsd as r=md.rmsd(X[i], X[j])\n",
    "     Output: r\n",
    "    \"\"\"\n",
    "\n",
    "\n",
    "    nParticles = len(arr1) / 3;\n",
    "    assert (nParticles == int(nParticles))\n",
    "\n",
    "    arr1 = arr1.reshape(int(nParticles), 3 )\n",
    "    arr2 = arr2.reshape(int(nParticles), 3 )\n",
    "\n",
    "\n",
    "    p1MD=md.Trajectory(arr1, mdl.testsystem.topology)\n",
    "    p2MD=md.Trajectory(arr2,  mdl.testsystem.topology)\n",
    "\n",
    "    d=md.rmsd(p1MD, p2MD)#, precentered=True, parallel=True)\n",
    "\n",
    "    return d\n",
    "\n",
    "import scipy.sparse as sps\n",
    "\n",
    "def computeRMSDdistances(X_mdtraj, cutoff):\n",
    "    \"\"\"\n",
    "    Parameters\n",
    "    ----------\n",
    "    X : mdtraj trajectory\n",
    "    \n",
    "    Returns\n",
    "    -------\n",
    "    S : csr.matrix of distances\n",
    "    \"\"\"\n",
    "    \n",
    "    distances = np.zeros((X_mdtraj.n_frames, X_mdtraj.n_frames))\n",
    "    for i in range(X_mdtraj.n_frames):\n",
    "        for j in range(i, X_mdtraj.n_frames):\n",
    "            dist =md.rmsd(X_mdtraj[i], X_mdtraj[j])\n",
    "            if dist < cutoff:\n",
    "               \n",
    "                distances[j,i] = dist\n",
    "              \n",
    "    return sps.csr_matrix(distances)\n",
    "   \n",
    "\n",
    "# def computeRMSDdistances(X_mdtraj):\n",
    "#     \"\"\"\n",
    "#     Parameters\n",
    "#     ----------\n",
    "#     X : mdtraj trajectory\n",
    "    \n",
    "#     Returns\n",
    "#     -------\n",
    "#     S : (TBD csr.)matrix of distances\n",
    "#     \"\"\"\n",
    "    \n",
    "#     distances = np.empty((X_mdtraj.n_frames, X_mdtraj.n_frames))\n",
    "#     for i in range(X_mdtraj.n_frames):\n",
    "#         distances[i] =md.rmsd(X_mdtraj, X_mdtraj, i)\n",
    "\n",
    "#     return distances\n",
    "\n"
   ]
  },
  {
   "cell_type": "code",
   "execution_count": 178,
   "metadata": {},
   "outputs": [
    {
     "data": {
      "image/png": "[encoded data removed]",
      "text/plain": [
       "<matplotlib.figure.Figure at 0x11fe33438>"
      ]
     },
     "metadata": {},
     "output_type": "display_data"
    }
   ],
   "source": [
    "if metric_choice == 'rmsd':\n",
    "    import scipy.sparse as sps\n",
    "\n",
    "    traj = md.Trajectory(X_FT, mdl.testsystem.topology)\n",
    "\n",
    "    indptr = [0]\n",
    "    indices = []\n",
    "    data = []\n",
    "    k = 100\n",
    "    epsilon = 0.1\n",
    "\n",
    "    for i in range(traj.n_frames):\n",
    "        # compute distances to frame i\n",
    "        distances = md.rmsd(traj, traj, i)\n",
    "        # this performs a partial sort so that idx[:k] are the indices of the k smallest elements\n",
    "        idx = np.argpartition(distances, k)\n",
    "        # retrieve corresponding k smallest distances\n",
    "        distances = distances[idx[:k]]\n",
    "        # append to data structure\n",
    "        data.extend(np.exp(-1.0/epsilon*distances**2).tolist())\n",
    "        indices.extend(idx[:k].tolist())\n",
    "        indptr.append(len(indices))\n",
    "\n",
    "    kernel_matrix = sps.csr_matrix((data, indices, indptr), dtype=float, shape=(traj.n_frames, traj.n_frames))\n",
    "\n",
    "    # this is all stolen from pydiffmap\n",
    "    weights_tmdmap = qTargetDistribution\n",
    "\n",
    "    alpha = 1.0\n",
    "    q = np.array(kernel_matrix.sum(axis=1)).ravel()\n",
    "    # Apply right normalization\n",
    "    right_norm_vec = np.power(q, -alpha)\n",
    "    if weights_tmdmap is not None:\n",
    "        right_norm_vec *= np.sqrt(weights_tmdmap)\n",
    "\n",
    "    m = right_norm_vec.shape[0]\n",
    "    Dalpha = sps.spdiags(right_norm_vec, 0, m, m)\n",
    "    kernel_matrix = kernel_matrix * Dalpha\n",
    "\n",
    "    # Perform  row (or left) normalization\n",
    "    row_sum = kernel_matrix.sum(axis=1).transpose()\n",
    "    n = row_sum.shape[1]\n",
    "    Dalpha = sps.spdiags(np.power(row_sum, -1), 0, n, n)\n",
    "    P = Dalpha * kernel_matrix\n",
    "\n",
    "    n_evecs = 2\n",
    "\n",
    "    evals, evecs = spsl.eigs(P, k=(n_evecs+1), which='LM')\n",
    "    ix = evals.argsort()[::-1][1:]\n",
    "    evals = np.real(evals[ix])\n",
    "    evecs = np.real(evecs[:, ix])\n",
    "    dmap = np.dot(evecs, np.diag(evals))\n",
    "\n",
    "    [evalsT, evecsT] = spsl.eigs(P.transpose(),k=1, which='LM')\n",
    "    phi = np.real(evecsT.ravel())\n",
    "\n",
    "    fig = plt.figure(figsize=(6,6))\n",
    "    plt.scatter(cv, evecs[:,0], s=5)\n",
    "    plt.xlabel('Radius')\n",
    "    plt.ylabel('Dominant eigenvector')\n",
    "    plt.show()"
   ]
  },
  {
   "cell_type": "code",
   "execution_count": 179,
   "metadata": {},
   "outputs": [],
   "source": [
    "################ diffusion diffmaps\n",
    "if metric_choice == 'euclidean':\n",
    "    epsilon=0.1\n",
    "\n",
    "    Xresh=X_FT.reshape(X_FT.shape[0], X_FT.shape[1]*X_FT.shape[2])\n",
    "\n",
    "    mydmap = dmpy.DiffusionMap(alpha = 1, n_evecs = 1, epsilon = epsilon,  k=1000, metric='euclidean')#, neighbor_params = {'n_jobs':-4})\n",
    "    dmap = mydmap.fit_transform(Xresh, weights =qTargetDistribution_targetTemperature)\n",
    "\n",
    "    P = mydmap.P\n",
    "    evals = mydmap.evals\n",
    "    evecs = mydmap.evecs\n",
    "\n",
    "    [evalsT, evecsT] = spsl.eigs(P.transpose(),k=1, which='LM')\n",
    "    phi = np.real(evecsT.ravel())\n",
    "\n",
    "    q = mydmap.q"
   ]
  },
  {
   "cell_type": "code",
   "execution_count": 180,
   "metadata": {},
   "outputs": [
    {
     "data": {
      "image/png": "[encoded data removed]",
      "text/plain": [
       "<matplotlib.figure.Figure at 0x1200db828>"
      ]
     },
     "metadata": {},
     "output_type": "display_data"
    }
   ],
   "source": [
    "\n",
    "fig = plt.figure(figsize=(6,6))\n",
    "plt.scatter(cv, evecs[:,0], s=5)\n",
    "plt.xlabel('Radius')\n",
    "plt.ylabel('Dominant eigenvector')\n",
    "plt.show()"
   ]
  },
  {
   "cell_type": "code",
   "execution_count": 181,
   "metadata": {},
   "outputs": [],
   "source": [
    "\n",
    "\n",
    "# if addReference:\n",
    "#     evecs_ref = np.load(reference_folder+'/dominant_eigenvector_300.npy')\n",
    "#     cv_ref = np.load(reference_folder+'/cv_eigenvector_300.npy')\n",
    "    \n",
    "# else:\n",
    "        \n",
    "#     np.save(reference_folder+'/dominant_eigenvector_300.npy', evecs)\n",
    "#     np.save(reference_folder+'/cv_eigenvector_300.npy', cv)\n",
    "\n",
    "\n",
    "\n",
    "# fig = plt.figure(figsize=(6,6))\n",
    "# plt.scatter(cv,  evecs[:,0], s=5, c='b')\n",
    "# if addReference:\n",
    "#     plt.scatter(cv_ref, evecs_ref[:,0], s=5, c='r')\n",
    "# plt.xlabel('Radius')\n",
    "# plt.ylabel('Dominant eigenvector')\n",
    "# if addReference:\n",
    "#     plt.legend(['Eigenvector','Ref'])\n",
    "\n",
    "# fig.savefig(simulationFolder+'/dominant_eigenvector.png')\n",
    "# plt.show()\n",
    "\n",
    "\n",
    "\n",
    "\n",
    "#####\n"
   ]
  },
  {
   "cell_type": "code",
   "execution_count": 182,
   "metadata": {},
   "outputs": [
    {
     "name": "stdout",
     "output_type": "stream",
     "text": [
      "Error on the density: 0.65263756712891641\n",
      "Sum weights is 116.21463422997708\n",
      "mean weight is 0.0058107317114988542\n",
      "sum weight is 116.21463422997708\n",
      "max weight is 0.0099999999997115781\n",
      "min weight is 8.9542667160566801e-08\n",
      "Max error is 0.00022254206406531588\n",
      "Mean error is 3.2631878356445818e-05\n"
     ]
    }
   ],
   "source": [
    "\n",
    "# estimated density by KDE\n",
    "q_est = q*phi#mydmap.q\n",
    "q_estNormalized = q_est/sum(q_est)\n",
    "\n",
    "qTargetDistributionNormalized = qTargetDistribution/sum(qTargetDistribution)\n",
    "print(\"Error on the density: \"+repr(np.linalg.norm(q_estNormalized - qTargetDistributionNormalized,1)))\n",
    "\n",
    "## compute weights w.r.t. taget density \n",
    "\n",
    "weight = qTargetDistribution_targetTemperature/q#(mydmap.q)\n",
    "qTargetDistributionNormalized_targetTemperature=qTargetDistribution_targetTemperature/np.sum(qTargetDistribution_targetTemperature)\n",
    "\n",
    "print('Sum weights is '+repr(np.sum(weight)))\n",
    "print('mean weight is '+repr(np.mean(weight)))\n",
    "print('sum weight is '+repr(np.sum(weight)))\n",
    "print('max weight is '+repr(np.max(weight)))\n",
    "print('min weight is '+repr(np.min(weight)))\n",
    "print('Max error is '+repr(np.max(np.abs(qTargetDistributionNormalized-q_estNormalized))))\n",
    "print('Mean error is '+repr(np.mean(np.abs(qTargetDistributionNormalized-q_estNormalized))))\n",
    "\n"
   ]
  },
  {
   "cell_type": "code",
   "execution_count": 183,
   "metadata": {},
   "outputs": [],
   "source": [
    "# # compare estimated and target density (not actual density !!!)\n",
    "# if addReference:\n",
    "#     q_estNormalized_ref = np.load(reference_folder+'/density_300K.npy')\n",
    "#     qTargetDistributionNormalized_ref = np.load(reference_folder+'/kde_300K.npy')\n",
    "#     cv_ref = np.load(reference_folder+'/cv_300K.npy')\n",
    "    \n",
    "# else:\n",
    "#         np.save(reference_folder+'/density_300K.npy',  (qTargetDistributionNormalized_targetTemperature))\n",
    "#         np.save(reference_folder+'/kde_300K.npy',  (q_estNormalized))\n",
    "#         np.save(reference_folder+'/cv_300K.npy',  cv)\n",
    "\n",
    "\n",
    "# ### plot densities and weights\n",
    "\n",
    "\n",
    "# fig = plt.figure(figsize=(16,6))\n",
    "# ax = fig.add_subplot(121)\n",
    "# ax.scatter(cv, -np.log(q_estNormalized), s=5, c='r')\n",
    "# ax.scatter(cv, -np.log(qTargetDistributionNormalized_targetTemperature), s=5, c='b')\n",
    "# if addReference:\n",
    "#     ax.scatter(cv_ref, -np.log(q_estNormalized_ref), s=5, c='g')\n",
    "#     ax.scatter(cv_ref, -np.log(qTargetDistributionNormalized_ref), s=5, c='k')\n",
    "#     ax.legend(['KDE 500K','Target 500K', 'KDE 300K', 'Target 300K'])\n",
    "# else:\n",
    "#     ax.legend(['KDE T=','Target'])\n",
    "# ax.set_xlabel('Radius')\n",
    "# ax.set_ylabel('Density')\n",
    "\n",
    "\n",
    "# ax.set_title('Densities')\n",
    "\n",
    "\n",
    "# ax2 = fig.add_subplot(122)\n",
    "# cax2 = ax2.scatter(colective_variable(X_FT), weight  ,s=5 )\n",
    "# ax2.set_xlabel(cv_name)\n",
    "# ax2.set_ylabel('Weight')\n",
    "# #ax2.set_title('Potential Energy')\n",
    "\n",
    "# fig.savefig(simulationFolder+'/KDE_weight.png')\n",
    "\n",
    "\n",
    "# plt.show()\n"
   ]
  },
  {
   "cell_type": "code",
   "execution_count": 184,
   "metadata": {},
   "outputs": [
    {
     "name": "stdout",
     "output_type": "stream",
     "text": [
      "Raw:\n",
      "<Radius> = Quantity(value=3.1995144, unit=angstrom)\n",
      "\n",
      "Unbiased:\n",
      "<Radius> = Quantity(value=3.2483575492944254, unit=angstrom)\n",
      "Raw:\n",
      "<E> = Quantity(value=2.2572818902638123, unit=kilojoule/mole)\n",
      "\n",
      "Unbiased:\n",
      "<E> = Quantity(value=0.83954580556249414, unit=kilojoule/mole)\n"
     ]
    }
   ],
   "source": [
    "\n",
    "##### compute Averages\n",
    "\n",
    "observable=cv\n",
    "\n",
    "meanR=np.mean(observable)\n",
    "meanRunbiased=np.mean(observable*weight)/np.mean(weight)\n",
    "\n",
    "print('Raw:')\n",
    "print('<'+cv_name+'> = '+repr(meanR*smpl.model.x_unit))\n",
    "\n",
    "print('\\nUnbiased:')\n",
    "print('<'+cv_name+'> = '+repr(meanRunbiased*smpl.model.x_unit))\n",
    "\n",
    "#compute mean energy\n",
    "\n",
    "meanE=np.mean(E)\n",
    "meanEunbiased=np.mean(E*weight)/np.mean(weight)\n",
    "\n",
    "print('Raw:')\n",
    "print('<E> = '+repr(meanE*smpl.model.energy_unit))\n",
    "\n",
    "print('\\nUnbiased:')\n",
    "print('<E> = '+repr(meanEunbiased*smpl.model.energy_unit))\n",
    "\n",
    "##############\n"
   ]
  },
  {
   "cell_type": "code",
   "execution_count": null,
   "metadata": {
    "collapsed": true
   },
   "outputs": [],
   "source": []
  },
  {
   "cell_type": "code",
   "execution_count": 185,
   "metadata": {},
   "outputs": [
    {
     "name": "stdout",
     "output_type": "stream",
     "text": [
      "(41,)\n",
      "(41,)\n"
     ]
    },
    {
     "data": {
      "image/png": "[encoded data removed]",
      "text/plain": [
       "<matplotlib.figure.Figure at 0x121d70780>"
      ]
     },
     "metadata": {},
     "output_type": "display_data"
    }
   ],
   "source": [
    "import imp\n",
    "imp.reload(helpers)\n",
    "\n",
    "\n",
    "cv=colective_variable(X_FT)\n",
    "\n",
    "nrbins=40\n",
    "free_energy_raw, edges=helpers.compute_free_energy(cv, nrbins=nrbins, kBT=smpl_target.kT)\n",
    "free_energy_unbiased, edges_unb=helpers.compute_free_energy(cv, nrbins=nrbins, weights=weight*(cv**2), kBT=smpl_target.kT)\n",
    "\n",
    "if(addReference):\n",
    "    free_energy_raw_ref = np.load(reference_folder+'/free_energy_ref.npy')\n",
    "    #free_energy_unbiased_ref = np.load(reference_folder+'/free_energy_unbiased_ref.npy')\n",
    "    edges_ref = np.load(reference_folder+'/cv_for_free_energy_ref.npy')\n",
    "elif(computeReference):\n",
    "\n",
    "    np.save(reference_folder+'/free_energy_raw_ref', free_energy_raw)\n",
    "    np.save(reference_folder+'/free_energy_unbiased_ref', free_energy_unbiased)\n",
    "    np.save(reference_folder+'/cv_for_free_energy_ref', cv)\n",
    "\n",
    "\n",
    "fig = plt.figure(figsize=(6,6))\n",
    "ax = fig.add_subplot(111)\n",
    "ax.scatter(edges, free_energy_raw, s=5, c='r', marker='o')\n",
    "ax.scatter(edges_unb, free_energy_unbiased, s=5, c='b', marker='.')\n",
    "if(addReference):\n",
    "    ax.scatter(edges_ref, free_energy_raw_ref, s=5, c='g')\n",
    "    #ax.scatter(cv_ref, free_energy_unbiased_ref, s=5, c='k')\n",
    "ax.set_xlabel(cv_name)\n",
    "ax.set_ylabel('free energy [kBT]')\n",
    "if(addReference):\n",
    "    ax.legend(['Raw','Unbiased', 'Ref raw', 'Ref unbiased'])\n",
    "elif(computeReference):\n",
    "    ax.legend(['Raw','Unbiased'])\n",
    "ax.set_title('Free energy: '+repr(modelName))\n",
    "\n",
    "fig.savefig(simulationFolder+'/free_energy.png')\n",
    "plt.show()"
   ]
  },
  {
   "cell_type": "code",
   "execution_count": null,
   "metadata": {},
   "outputs": [],
   "source": []
  },
  {
   "cell_type": "code",
   "execution_count": 186,
   "metadata": {},
   "outputs": [],
   "source": [
    "import imp\n",
    "imp.reload(helpers)\n",
    "\n",
    "if computeReference==1:\n",
    "    cv=colective_variable(X_FT)\n",
    "    print(cv.shape)\n",
    "    free_energy_raw, edges=helpers.compute_free_energy(cv, nrbins=100, kBT=smpl_target.kT)\n",
    "\n",
    "    np.save('/Users/zofia/github/DFM/Results/Dimer/T300/free_energy_ref.npy', free_energy_raw)\n",
    "    np.save('/Users/zofia/github/DFM/Results/Dimer/T300/cv_for_free_energy_ref.npy', edges)\n",
    "\n",
    "\n",
    "    fig = plt.figure(figsize=(6,6))\n",
    "    ax = fig.add_subplot(111)\n",
    "    ax.scatter(edges, free_energy_raw, s=5, c='r', marker='o')\n",
    "    #ax.scatter(cv, free_energy_unbiased, s=5, c='b', marker='.')\n",
    "\n",
    "    ax.set_xlabel(cv_name)\n",
    "    ax.set_ylabel('free energy [kBT]')\n",
    "    ax.legend(['Raw','Unbiased'])\n",
    "    ax.set_title('Free energy: '+repr(modelName))\n",
    "\n",
    "    fig.savefig(simulationFolder+'/free_energy.png')\n",
    "    plt.show()"
   ]
  },
  {
   "cell_type": "code",
   "execution_count": 187,
   "metadata": {},
   "outputs": [
    {
     "ename": "ValueError",
     "evalue": "x and y must be the same size",
     "output_type": "error",
     "traceback": [
      "\u001b[0;31m---------------------------------------------------------------------------\u001b[0m",
      "\u001b[0;31mValueError\u001b[0m                                Traceback (most recent call last)",
      "\u001b[0;32m<ipython-input-187-67f19a9c37ab>\u001b[0m in \u001b[0;36m<module>\u001b[0;34m()\u001b[0m\n\u001b[1;32m      2\u001b[0m \u001b[0mfig\u001b[0m \u001b[0;34m=\u001b[0m \u001b[0mplt\u001b[0m\u001b[0;34m.\u001b[0m\u001b[0mfigure\u001b[0m\u001b[0;34m(\u001b[0m\u001b[0mfigsize\u001b[0m\u001b[0;34m=\u001b[0m\u001b[0;34m(\u001b[0m\u001b[0;36m6\u001b[0m\u001b[0;34m,\u001b[0m\u001b[0;36m6\u001b[0m\u001b[0;34m)\u001b[0m\u001b[0;34m)\u001b[0m\u001b[0;34m\u001b[0m\u001b[0m\n\u001b[1;32m      3\u001b[0m \u001b[0max\u001b[0m \u001b[0;34m=\u001b[0m \u001b[0mfig\u001b[0m\u001b[0;34m.\u001b[0m\u001b[0madd_subplot\u001b[0m\u001b[0;34m(\u001b[0m\u001b[0;36m111\u001b[0m\u001b[0;34m)\u001b[0m\u001b[0;34m\u001b[0m\u001b[0m\n\u001b[0;32m----> 4\u001b[0;31m \u001b[0max\u001b[0m\u001b[0;34m.\u001b[0m\u001b[0mscatter\u001b[0m\u001b[0;34m(\u001b[0m\u001b[0mcv\u001b[0m\u001b[0;34m,\u001b[0m \u001b[0mfree_energy_raw\u001b[0m\u001b[0;34m,\u001b[0m \u001b[0ms\u001b[0m\u001b[0;34m=\u001b[0m\u001b[0;36m5\u001b[0m\u001b[0;34m,\u001b[0m \u001b[0mc\u001b[0m\u001b[0;34m=\u001b[0m\u001b[0;34m'r'\u001b[0m\u001b[0;34m,\u001b[0m \u001b[0mmarker\u001b[0m\u001b[0;34m=\u001b[0m\u001b[0;34m'o'\u001b[0m\u001b[0;34m)\u001b[0m\u001b[0;34m\u001b[0m\u001b[0m\n\u001b[0m\u001b[1;32m      5\u001b[0m \u001b[0;31m#ax.scatter(cv, free_energy_unbiased, s=5, c='b', marker='.')\u001b[0m\u001b[0;34m\u001b[0m\u001b[0;34m\u001b[0m\u001b[0m\n\u001b[1;32m      6\u001b[0m \u001b[0;34m\u001b[0m\u001b[0m\n",
      "\u001b[0;32m~/miniconda3/lib/python3.6/site-packages/matplotlib/__init__.py\u001b[0m in \u001b[0;36minner\u001b[0;34m(ax, *args, **kwargs)\u001b[0m\n\u001b[1;32m   1708\u001b[0m                     warnings.warn(msg % (label_namer, func.__name__),\n\u001b[1;32m   1709\u001b[0m                                   RuntimeWarning, stacklevel=2)\n\u001b[0;32m-> 1710\u001b[0;31m             \u001b[0;32mreturn\u001b[0m \u001b[0mfunc\u001b[0m\u001b[0;34m(\u001b[0m\u001b[0max\u001b[0m\u001b[0;34m,\u001b[0m \u001b[0;34m*\u001b[0m\u001b[0margs\u001b[0m\u001b[0;34m,\u001b[0m \u001b[0;34m**\u001b[0m\u001b[0mkwargs\u001b[0m\u001b[0;34m)\u001b[0m\u001b[0;34m\u001b[0m\u001b[0m\n\u001b[0m\u001b[1;32m   1711\u001b[0m         \u001b[0mpre_doc\u001b[0m \u001b[0;34m=\u001b[0m \u001b[0minner\u001b[0m\u001b[0;34m.\u001b[0m\u001b[0m__doc__\u001b[0m\u001b[0;34m\u001b[0m\u001b[0m\n\u001b[1;32m   1712\u001b[0m         \u001b[0;32mif\u001b[0m \u001b[0mpre_doc\u001b[0m \u001b[0;32mis\u001b[0m \u001b[0;32mNone\u001b[0m\u001b[0;34m:\u001b[0m\u001b[0;34m\u001b[0m\u001b[0m\n",
      "\u001b[0;32m~/miniconda3/lib/python3.6/site-packages/matplotlib/axes/_axes.py\u001b[0m in \u001b[0;36mscatter\u001b[0;34m(self, x, y, s, c, marker, cmap, norm, vmin, vmax, alpha, linewidths, verts, edgecolors, **kwargs)\u001b[0m\n\u001b[1;32m   4017\u001b[0m         \u001b[0my\u001b[0m \u001b[0;34m=\u001b[0m \u001b[0mnp\u001b[0m\u001b[0;34m.\u001b[0m\u001b[0mma\u001b[0m\u001b[0;34m.\u001b[0m\u001b[0mravel\u001b[0m\u001b[0;34m(\u001b[0m\u001b[0my\u001b[0m\u001b[0;34m)\u001b[0m\u001b[0;34m\u001b[0m\u001b[0m\n\u001b[1;32m   4018\u001b[0m         \u001b[0;32mif\u001b[0m \u001b[0mx\u001b[0m\u001b[0;34m.\u001b[0m\u001b[0msize\u001b[0m \u001b[0;34m!=\u001b[0m \u001b[0my\u001b[0m\u001b[0;34m.\u001b[0m\u001b[0msize\u001b[0m\u001b[0;34m:\u001b[0m\u001b[0;34m\u001b[0m\u001b[0m\n\u001b[0;32m-> 4019\u001b[0;31m             \u001b[0;32mraise\u001b[0m \u001b[0mValueError\u001b[0m\u001b[0;34m(\u001b[0m\u001b[0;34m\"x and y must be the same size\"\u001b[0m\u001b[0;34m)\u001b[0m\u001b[0;34m\u001b[0m\u001b[0m\n\u001b[0m\u001b[1;32m   4020\u001b[0m \u001b[0;34m\u001b[0m\u001b[0m\n\u001b[1;32m   4021\u001b[0m         \u001b[0;32mif\u001b[0m \u001b[0ms\u001b[0m \u001b[0;32mis\u001b[0m \u001b[0;32mNone\u001b[0m\u001b[0;34m:\u001b[0m\u001b[0;34m\u001b[0m\u001b[0m\n",
      "\u001b[0;31mValueError\u001b[0m: x and y must be the same size"
     ]
    }
   ],
   "source": [
    "\n",
    "fig = plt.figure(figsize=(6,6))\n",
    "ax = fig.add_subplot(111)\n",
    "ax.scatter(cv, free_energy_raw, s=5, c='r', marker='o')\n",
    "#ax.scatter(cv, free_energy_unbiased, s=5, c='b', marker='.')\n",
    "\n",
    "ax.set_xlabel(cv_name)\n",
    "ax.set_ylabel('free energy [kBT]')\n",
    "ax.legend(['Raw','Unbiased'])\n",
    "ax.set_title('Free energy: '+repr(modelName))\n",
    "\n",
    "fig.savefig(simulationFolder+'/free_energy.png')\n",
    "plt.show()"
   ]
  },
  {
   "cell_type": "code",
   "execution_count": null,
   "metadata": {},
   "outputs": [],
   "source": [
    "reference_folder"
   ]
  },
  {
   "cell_type": "code",
   "execution_count": null,
   "metadata": {
    "collapsed": true
   },
   "outputs": [],
   "source": []
  }
 ],
 "metadata": {
  "kernelspec": {
   "display_name": "Python 3",
   "language": "python",
   "name": "python3"
  },
  "language_info": {
   "codemirror_mode": {
    "name": "ipython",
    "version": 3
   },
   "file_extension": ".py",
   "mimetype": "text/x-python",
   "name": "python",
   "nbconvert_exporter": "python",
   "pygments_lexer": "ipython3",
   "version": "3.6.1"
  }
 },
 "nbformat": 4,
 "nbformat_minor": 2
}
