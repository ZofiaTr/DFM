{
 "cells": [
  {
   "cell_type": "code",
   "execution_count": 1,
   "metadata": {
    "collapsed": true
   },
   "outputs": [],
   "source": [
    "import ipyparallel as ipp\n",
    "\n",
    "# c = ipp.Client()\n",
    "\n",
    "# c.ids\n",
    "\n",
    "\n",
    "# c[:].apply_sync(lambda : \"Hello, World\")\n"
   ]
  },
  {
   "cell_type": "code",
   "execution_count": 1,
   "metadata": {},
   "outputs": [
    {
     "name": "stdout",
     "output_type": "stream",
     "text": [
      "Dimer model: double-well with 2 states\n",
      "State1: r=Quantity(value=1.55, unit=angstrom)\n",
      "State2: r=Quantity(value=3.55, unit=angstrom)\n"
     ]
    }
   ],
   "source": [
    "import matplotlib.pyplot as plt\n",
    "#%matplotlib inline\n",
    "\n",
    "import sys\n",
    "import os\n",
    "sys.path.append('/Users/zofia/github/DFM/srcDiffmap')\n",
    "\n",
    "import mdtraj as md\n",
    "\n",
    "import scipy.sparse.linalg as spsl\n",
    "\n",
    "import integrator\n",
    "import sampler #as sampler\n",
    "import model #as model\n",
    "# import diffusionmap as dm\n",
    "# import statistics_dfm as stat\n",
    "\n",
    "import numpy as np\n",
    "from simtk import openmm, unit\n",
    "# from openmmtools.constants import kB\n",
    "\n",
    "from pydiffmap import diffusion_map as dmpy\n",
    "import helpers\n",
    "import model\n",
    "\n"
   ]
  },
  {
   "cell_type": "code",
   "execution_count": 59,
   "metadata": {},
   "outputs": [],
   "source": [
    "\n",
    "methodName='T500/frontier_points_corner_euclidean'#'frontier_points_corner'#'frontier_points_corner'#\n",
    "\n",
    "############################\n",
    "\n",
    "#######################\n",
    "# simulation temperature\n",
    "T=500.0\n",
    "# target temperature\n",
    "T_target=300.0\n",
    "\n",
    "metric_choice = 'euclidean'#'euclidean'#'rmsd'#\n",
    "\n",
    "computeReference=0\n",
    "\n",
    "if methodName=='std_ref':\n",
    "    addReference=0\n",
    "else:\n",
    "    addReference=1\n",
    "\n",
    "  \n",
    "dataName='TemporaryResults/'\n",
    "folderName='/Users/zofia/github/DFM/'\n",
    "modelName='Dimer'\n",
    "\n",
    "finalLength = None#30000\n",
    "modnr = 50#1000\n",
    "\n",
    "colective_variable = helpers.compute_radius\n",
    "cv_name = 'Radius'\n",
    "\n",
    "# results from this code will be saved here:\n",
    "simulationFolder=folderName+dataName+'/TemporaryFigures_'+metric_choice+'/'+modelName+'/'+methodName\n",
    "\n",
    "# load results from reference simulation already postprocessed\n",
    "\n",
    "# reference at T300 saved at \n",
    "reference_folder='/Users/zofia/github/DFM/TemporaryResults/Dimer/T300/'\n",
    "  \n",
    "\n"
   ]
  },
  {
   "cell_type": "code",
   "execution_count": 60,
   "metadata": {},
   "outputs": [
    {
     "name": "stdout",
     "output_type": "stream",
     "text": [
      "Dimer model: double-well with 2 states\n",
      "State1: r=Quantity(value=1.55, unit=angstrom)\n",
      "State2: r=Quantity(value=3.55, unit=angstrom)\n",
      "angstrom\n",
      "System has 2 particle(s)\n",
      "973.143033333 K\n",
      "345.91632757 K\n"
     ]
    }
   ],
   "source": [
    "mdl=model.Model(modelName)\n",
    "mdlTopology=mdl.testsystem.topology\n",
    "print (mdl.x_unit)\n",
    "print('System has %d particle(s)' % mdl.system.getNumParticles())\n",
    "# print (mdl.testsystem.positions)\n",
    "# X0=mdl.testsystem.positions.value_in_unit(mdl.x_unit)\n",
    "\n",
    "\n",
    "\n",
    "\n",
    "\n",
    "temperature =  T * unit.kelvin#300 * unit.kelvin\n",
    "temperature_target =  T_target * unit.kelvin\n",
    "\n",
    "gamma = 1.0 / unit.picosecond\n",
    "dt = 2.0 * unit.femtosecond\n",
    "\n",
    "temperatureAlpha= (T)* unit.kelvin\n",
    "\n",
    "# simulation class sampler takes integrator class with chosen parameters as input\n",
    "intg=integrator.Integrator( model=mdl, gamma=gamma, temperature=temperature, dt=dt,  temperatureAlpha=temperatureAlpha)\n",
    "smpl=sampler.Sampler(model=mdl, integrator=intg, algorithm=0, dataFileName='Data')\n",
    "\n",
    "# this will be used only to compare the target distributions\n",
    "integrator_target=integrator.Integrator( model=mdl, gamma=gamma, temperature=temperature_target, dt=dt,  temperatureAlpha=temperatureAlpha)\n",
    "smpl_target=sampler.Sampler(model=mdl, integrator=integrator_target, algorithm=0, dataFileName='Data')\n",
    "\n",
    "newpath = os.path.join(os.getcwd(),simulationFolder)\n",
    "if not os.path.exists(newpath):\n",
    "        os.makedirs(newpath)\n"
   ]
  },
  {
   "cell_type": "code",
   "execution_count": 61,
   "metadata": {},
   "outputs": [
    {
     "ename": "ValueError",
     "evalue": "No trajectories specified. filename_or_filenames was an empty list",
     "output_type": "error",
     "traceback": [
      "\u001b[0;31m---------------------------------------------------------------------------\u001b[0m",
      "\u001b[0;31mValueError\u001b[0m                                Traceback (most recent call last)",
      "\u001b[0;32m<ipython-input-61-ab68a52ddc6c>\u001b[0m in \u001b[0;36m<module>\u001b[0;34m()\u001b[0m\n\u001b[1;32m      4\u001b[0m     \u001b[0mal\u001b[0m \u001b[0;34m=\u001b[0m \u001b[0;32mTrue\u001b[0m\u001b[0;34m\u001b[0m\u001b[0m\n\u001b[1;32m      5\u001b[0m \u001b[0;34m\u001b[0m\u001b[0m\n\u001b[0;32m----> 6\u001b[0;31m \u001b[0mX_FT\u001b[0m \u001b[0;34m=\u001b[0m \u001b[0mhelpers\u001b[0m\u001b[0;34m.\u001b[0m\u001b[0mloadData\u001b[0m\u001b[0;34m(\u001b[0m\u001b[0mfolderName\u001b[0m\u001b[0;34m+\u001b[0m\u001b[0mdataName\u001b[0m\u001b[0;34m+\u001b[0m\u001b[0;34m'/'\u001b[0m\u001b[0;34m+\u001b[0m\u001b[0mmodelName\u001b[0m\u001b[0;34m+\u001b[0m\u001b[0;34m'/'\u001b[0m\u001b[0;34m+\u001b[0m\u001b[0mmethodName\u001b[0m\u001b[0;34m+\u001b[0m\u001b[0;34m'/Traj/*.h5'\u001b[0m\u001b[0;34m,\u001b[0m \u001b[0mmdl\u001b[0m\u001b[0;34m.\u001b[0m\u001b[0mtestsystem\u001b[0m\u001b[0;34m.\u001b[0m\u001b[0mtopology\u001b[0m\u001b[0;34m,\u001b[0m \u001b[0mmodnr\u001b[0m\u001b[0;34m,\u001b[0m \u001b[0malign\u001b[0m\u001b[0;34m=\u001b[0m\u001b[0mal\u001b[0m\u001b[0;34m)\u001b[0m\u001b[0;34m\u001b[0m\u001b[0m\n\u001b[0m\u001b[1;32m      7\u001b[0m \u001b[0mprint\u001b[0m\u001b[0;34m(\u001b[0m\u001b[0;34m'Loaded trajectory of length '\u001b[0m\u001b[0;34m+\u001b[0m\u001b[0mrepr\u001b[0m\u001b[0;34m(\u001b[0m\u001b[0mX_FT\u001b[0m\u001b[0;34m.\u001b[0m\u001b[0mshape\u001b[0m\u001b[0;34m[\u001b[0m\u001b[0;36m0\u001b[0m\u001b[0;34m]\u001b[0m\u001b[0;34m)\u001b[0m\u001b[0;34m)\u001b[0m\u001b[0;34m\u001b[0m\u001b[0m\n\u001b[1;32m      8\u001b[0m \u001b[0;31m# X_FT =X_FT[:finalLength]\u001b[0m\u001b[0;34m\u001b[0m\u001b[0;34m\u001b[0m\u001b[0m\n",
      "\u001b[0;32m~/github/DFM/srcDiffmap/helpers.py\u001b[0m in \u001b[0;36mloadData\u001b[0;34m(dataName, top, modnr, align)\u001b[0m\n\u001b[1;32m     11\u001b[0m         \u001b[0mfile_names\u001b[0m\u001b[0;34m.\u001b[0m\u001b[0mappend\u001b[0m\u001b[0;34m(\u001b[0m\u001b[0mnp_name\u001b[0m\u001b[0;34m)\u001b[0m\u001b[0;34m\u001b[0m\u001b[0m\n\u001b[1;32m     12\u001b[0m \u001b[0;34m\u001b[0m\u001b[0m\n\u001b[0;32m---> 13\u001b[0;31m     \u001b[0mX\u001b[0m \u001b[0;34m=\u001b[0m \u001b[0mmd\u001b[0m\u001b[0;34m.\u001b[0m\u001b[0mload\u001b[0m\u001b[0;34m(\u001b[0m\u001b[0mfile_names\u001b[0m\u001b[0;34m,\u001b[0m \u001b[0mtop\u001b[0m\u001b[0;34m,\u001b[0m \u001b[0mstride\u001b[0m\u001b[0;34m=\u001b[0m\u001b[0mmodnr\u001b[0m\u001b[0;34m)\u001b[0m\u001b[0;34m\u001b[0m\u001b[0m\n\u001b[0m\u001b[1;32m     14\u001b[0m \u001b[0;34m\u001b[0m\u001b[0m\n\u001b[1;32m     15\u001b[0m     \u001b[0;31m#print('ok')\u001b[0m\u001b[0;34m\u001b[0m\u001b[0;34m\u001b[0m\u001b[0m\n",
      "\u001b[0;32m~/miniconda3/lib/python3.6/site-packages/mdtraj/core/trajectory.py\u001b[0m in \u001b[0;36mload\u001b[0;34m(filename_or_filenames, discard_overlapping_frames, **kwargs)\u001b[0m\n\u001b[1;32m    379\u001b[0m         \u001b[0mextensions\u001b[0m \u001b[0;34m=\u001b[0m \u001b[0;34m[\u001b[0m\u001b[0m_get_extension\u001b[0m\u001b[0;34m(\u001b[0m\u001b[0mf\u001b[0m\u001b[0;34m)\u001b[0m \u001b[0;32mfor\u001b[0m \u001b[0mf\u001b[0m \u001b[0;32min\u001b[0m \u001b[0mfilename_or_filenames\u001b[0m\u001b[0;34m]\u001b[0m\u001b[0;34m\u001b[0m\u001b[0m\n\u001b[1;32m    380\u001b[0m         \u001b[0;32mif\u001b[0m \u001b[0mlen\u001b[0m\u001b[0;34m(\u001b[0m\u001b[0mset\u001b[0m\u001b[0;34m(\u001b[0m\u001b[0mextensions\u001b[0m\u001b[0;34m)\u001b[0m\u001b[0;34m)\u001b[0m \u001b[0;34m==\u001b[0m \u001b[0;36m0\u001b[0m\u001b[0;34m:\u001b[0m\u001b[0;34m\u001b[0m\u001b[0m\n\u001b[0;32m--> 381\u001b[0;31m             raise ValueError('No trajectories specified. '\n\u001b[0m\u001b[1;32m    382\u001b[0m                              'filename_or_filenames was an empty list')\n\u001b[1;32m    383\u001b[0m         \u001b[0;32melif\u001b[0m \u001b[0mlen\u001b[0m\u001b[0;34m(\u001b[0m\u001b[0mset\u001b[0m\u001b[0;34m(\u001b[0m\u001b[0mextensions\u001b[0m\u001b[0;34m)\u001b[0m\u001b[0;34m)\u001b[0m \u001b[0;34m>\u001b[0m \u001b[0;36m1\u001b[0m\u001b[0;34m:\u001b[0m\u001b[0;34m\u001b[0m\u001b[0m\n",
      "\u001b[0;31mValueError\u001b[0m: No trajectories specified. filename_or_filenames was an empty list"
     ]
    }
   ],
   "source": [
    "if metric_choice == 'rmsd':\n",
    "    al = False\n",
    "elif metric_choice == 'euclidean':\n",
    "    al = True\n",
    "\n",
    "X_FT = helpers.loadData(folderName+dataName+'/'+modelName+'/'+methodName+'/Traj/*.h5', mdl.testsystem.topology, modnr, align=al)\n",
    "print('Loaded trajectory of length '+repr(X_FT.shape[0]))\n",
    "# X_FT =X_FT[:finalLength]\n",
    "# print('Final lenght of trajectory is '+repr(X_FT.shape[0]))\n",
    "# X_FT=X_FT[::modnr]\n",
    "# print('After subsampling, the data length is '+repr(len(X_FT)))\n",
    "\n",
    "#compute collective variable\n",
    "r=colective_variable(X_FT)\n",
    "cv=r\n",
    "\n",
    "plt.plot(range(len(r)), r)\n",
    "plt.ylabel(cv_name)\n",
    "plt.savefig(simulationFolder+'/colvar.png')\n",
    "\n",
    "plt.show()"
   ]
  },
  {
   "cell_type": "code",
   "execution_count": 47,
   "metadata": {},
   "outputs": [
    {
     "name": "stdout",
     "output_type": "stream",
     "text": [
      "Get the target density at sampled data points\n",
      "... might take a while ...\n",
      "Done\n",
      "Done\n"
     ]
    },
    {
     "data": {
      "image/png": "[encoded data removed]",
      "text/plain": [
       "<matplotlib.figure.Figure at 0x11e8f2b00>"
      ]
     },
     "metadata": {},
     "output_type": "display_data"
    }
   ],
   "source": [
    "\n",
    "print('Get the target density at sampled data points')\n",
    "print('... might take a while ...')\n",
    "\n",
    "\"\"\"\n",
    "target density: exp(-beta V(q)) : [V(q)] = kilojoule/mole, [beta] =  J/mol\n",
    "\"\"\"\n",
    "\n",
    "E = helpers.computeEnergy(X_FT, smpl)\n",
    "\n",
    "qTargetDistribution= helpers.computeTargetMeasure(X_FT, smpl, E)\n",
    "qTargetDistribution_targetTemperature = helpers.computeTargetMeasure(X_FT, smpl_target, E)\n",
    "\n",
    "\n",
    "fig = plt.figure(figsize=(16,6))\n",
    "ax = fig.add_subplot(121)\n",
    "cax = ax.hist(E, 1000, normed=True)\n",
    "ax.set_title('Histogram Energy')\n",
    "\n",
    "\n",
    "ax2 = fig.add_subplot(122)\n",
    "cax2 = ax2.scatter(colective_variable(X_FT), E ,s=5 )\n",
    "ax2.set_xlabel(cv_name)\n",
    "ax2.set_ylabel('Energy')\n",
    "ax2.set_title('Potential Energy')\n",
    "\n",
    "fig.savefig(simulationFolder+'/energy.png')\n",
    "\n",
    "plt.show()"
   ]
  },
  {
   "cell_type": "code",
   "execution_count": 48,
   "metadata": {
    "collapsed": true
   },
   "outputs": [],
   "source": [
    "\n",
    "#### define rmsd metric\n",
    "\n",
    "\n",
    "def myRMSDmetricPrecentered(arr1, arr2):\n",
    "    \"\"\"\n",
    "    This is built under the assumption that the space dimension is 3!!!\n",
    "    Requirement from sklearn radius_neighbors_graph: The callable should take two arrays as input and return one value indicating the distance between them.\n",
    "     Input: One row from reshaped xyz trajectory as number of steps times nDOF\n",
    "     Inside: Reshape back to md.Trajectory and apply md.rmsd as r=md.rmsd(X[i], X[j])\n",
    "     Output: r\n",
    "    \"\"\"\n",
    "\n",
    "\n",
    "    nParticles = len(arr1) / 3;\n",
    "    assert (nParticles == int(nParticles))\n",
    "\n",
    "    arr1 = arr1.reshape(int(nParticles), 3 )\n",
    "    arr2 = arr2.reshape(int(nParticles), 3 )\n",
    "\n",
    "\n",
    "    p1MD=md.Trajectory(arr1, mdl.testsystem.topology)\n",
    "    p2MD=md.Trajectory(arr2,  mdl.testsystem.topology)\n",
    "\n",
    "    d=md.rmsd(p1MD, p2MD)#, precentered=True, parallel=True)\n",
    "\n",
    "    return d\n",
    "\n",
    "import scipy.sparse as sps\n",
    "\n",
    "def computeRMSDdistances(X_mdtraj, cutoff):\n",
    "    \"\"\"\n",
    "    Parameters\n",
    "    ----------\n",
    "    X : mdtraj trajectory\n",
    "    \n",
    "    Returns\n",
    "    -------\n",
    "    S : csr.matrix of distances\n",
    "    \"\"\"\n",
    "    \n",
    "    distances = np.zeros((X_mdtraj.n_frames, X_mdtraj.n_frames))\n",
    "    for i in range(X_mdtraj.n_frames):\n",
    "        for j in range(i, X_mdtraj.n_frames):\n",
    "            dist =md.rmsd(X_mdtraj[i], X_mdtraj[j])\n",
    "            if dist < cutoff:\n",
    "               \n",
    "                distances[j,i] = dist\n",
    "              \n",
    "    return sps.csr_matrix(distances)\n",
    "   \n",
    "\n",
    "# def computeRMSDdistances(X_mdtraj):\n",
    "#     \"\"\"\n",
    "#     Parameters\n",
    "#     ----------\n",
    "#     X : mdtraj trajectory\n",
    "    \n",
    "#     Returns\n",
    "#     -------\n",
    "#     S : (TBD csr.)matrix of distances\n",
    "#     \"\"\"\n",
    "    \n",
    "#     distances = np.empty((X_mdtraj.n_frames, X_mdtraj.n_frames))\n",
    "#     for i in range(X_mdtraj.n_frames):\n",
    "#         distances[i] =md.rmsd(X_mdtraj, X_mdtraj, i)\n",
    "\n",
    "#     return distances\n",
    "\n"
   ]
  },
  {
   "cell_type": "code",
   "execution_count": 49,
   "metadata": {
    "collapsed": true
   },
   "outputs": [],
   "source": [
    "if metric_choice == 'rmsd':\n",
    "    import scipy.sparse as sps\n",
    "\n",
    "    traj = md.Trajectory(X_FT, mdl.testsystem.topology)\n",
    "\n",
    "    indptr = [0]\n",
    "    indices = []\n",
    "    data = []\n",
    "    k = 100\n",
    "    epsilon = 0.001\n",
    "\n",
    "    for i in range(traj.n_frames):\n",
    "        # compute distances to frame i\n",
    "        distances = md.rmsd(traj, traj, i)\n",
    "        # this performs a partial sort so that idx[:k] are the indices of the k smallest elements\n",
    "        idx = np.argpartition(distances, k)\n",
    "        # retrieve corresponding k smallest distances\n",
    "        distances = distances[idx[:k]]\n",
    "        # append to data structure\n",
    "        data.extend(np.exp(-1.0/epsilon*distances**2).tolist())\n",
    "        indices.extend(idx[:k].tolist())\n",
    "        indptr.append(len(indices))\n",
    "\n",
    "    kernel_matrix = sps.csr_matrix((data, indices, indptr), dtype=float, shape=(traj.n_frames, traj.n_frames))\n",
    "\n",
    "    # this is all stolen from pydiffmap\n",
    "    weights_tmdmap = qTargetDistribution\n",
    "\n",
    "    alpha = 1.0\n",
    "    q = np.array(kernel_matrix.sum(axis=1)).ravel()\n",
    "    # Apply right normalization\n",
    "    right_norm_vec = np.power(q, -alpha)\n",
    "    if weights_tmdmap is not None:\n",
    "        right_norm_vec *= np.sqrt(weights_tmdmap)\n",
    "\n",
    "    m = right_norm_vec.shape[0]\n",
    "    Dalpha = sps.spdiags(right_norm_vec, 0, m, m)\n",
    "    kernel_matrix = kernel_matrix * Dalpha\n",
    "\n",
    "    # Perform  row (or left) normalization\n",
    "    row_sum = kernel_matrix.sum(axis=1).transpose()\n",
    "    n = row_sum.shape[1]\n",
    "    Dalpha = sps.spdiags(np.power(row_sum, -1), 0, n, n)\n",
    "    P = Dalpha * kernel_matrix\n",
    "\n",
    "    n_evecs = 2\n",
    "\n",
    "    evals, evecs = spsl.eigs(P, k=(n_evecs+1), which='LM')\n",
    "    ix = evals.argsort()[::-1][1:]\n",
    "    evals = np.real(evals[ix])\n",
    "    evecs = np.real(evecs[:, ix])\n",
    "    dmap = np.dot(evecs, np.diag(evals))\n",
    "\n",
    "    [evalsT, evecsT] = spsl.eigs(P.transpose(),k=1, which='LM')\n",
    "    phi = np.real(evecsT.ravel())\n",
    "\n",
    "    fig = plt.figure(figsize=(6,6))\n",
    "    plt.scatter(cv, evecs[:,0], s=5)\n",
    "    plt.xlabel('Radius')\n",
    "    plt.ylabel('Dominant eigenvector')\n",
    "    plt.show()"
   ]
  },
  {
   "cell_type": "code",
   "execution_count": 50,
   "metadata": {},
   "outputs": [],
   "source": [
    "################ diffusion diffmaps\n",
    "if metric_choice == 'euclidean':\n",
    "    epsilon=0.0001\n",
    "\n",
    "    Xresh=X_FT.reshape(X_FT.shape[0], X_FT.shape[1]*X_FT.shape[2])\n",
    "\n",
    "    mydmap = dmpy.DiffusionMap(alpha = 1, n_evecs = 1, epsilon = epsilon,  k=1000, metric='euclidean')#, neighbor_params = {'n_jobs':-4})\n",
    "    dmap = mydmap.fit_transform(Xresh, weights =qTargetDistribution_targetTemperature)\n",
    "\n",
    "    P = mydmap.P\n",
    "    evals = mydmap.evals\n",
    "    evecs = mydmap.evecs\n",
    "\n",
    "    [evalsT, evecsT] = spsl.eigs(P.transpose(),k=1, which='LM')\n",
    "    phi = np.real(evecsT.ravel())\n",
    "\n",
    "    q = mydmap.q"
   ]
  },
  {
   "cell_type": "code",
   "execution_count": 51,
   "metadata": {},
   "outputs": [
    {
     "data": {
      "image/png": "[encoded data removed]",
      "text/plain": [
       "<matplotlib.figure.Figure at 0x118bb0588>"
      ]
     },
     "metadata": {},
     "output_type": "display_data"
    }
   ],
   "source": [
    "\n",
    "fig = plt.figure(figsize=(6,6))\n",
    "plt.scatter(cv, evecs[:,0], s=5)\n",
    "plt.xlabel('Radius')\n",
    "plt.ylabel('Dominant eigenvector')\n",
    "plt.show()"
   ]
  },
  {
   "cell_type": "code",
   "execution_count": 52,
   "metadata": {},
   "outputs": [],
   "source": [
    "\n",
    "\n",
    "# if addReference:\n",
    "#     evecs_ref = np.load(reference_folder+'/dominant_eigenvector_300.npy')\n",
    "#     cv_ref = np.load(reference_folder+'/cv_eigenvector_300.npy')\n",
    "    \n",
    "# else:\n",
    "        \n",
    "#     np.save(reference_folder+'/dominant_eigenvector_300.npy', evecs)\n",
    "#     np.save(reference_folder+'/cv_eigenvector_300.npy', cv)\n",
    "\n",
    "\n",
    "\n",
    "# fig = plt.figure(figsize=(6,6))\n",
    "# plt.scatter(cv,  evecs[:,0], s=5, c='b')\n",
    "# if addReference:\n",
    "#     plt.scatter(cv_ref, evecs_ref[:,0], s=5, c='r')\n",
    "# plt.xlabel('Radius')\n",
    "# plt.ylabel('Dominant eigenvector')\n",
    "# if addReference:\n",
    "#     plt.legend(['Eigenvector','Ref'])\n",
    "\n",
    "# fig.savefig(simulationFolder+'/dominant_eigenvector.png')\n",
    "# plt.show()\n",
    "\n",
    "\n",
    "\n",
    "\n",
    "#####\n"
   ]
  },
  {
   "cell_type": "code",
   "execution_count": 53,
   "metadata": {},
   "outputs": [
    {
     "name": "stdout",
     "output_type": "stream",
     "text": [
      "Error on the density: 4.412107986206582\n",
      "Sum weights is 617.65650882258774\n",
      "mean weight is 0.30882825441129386\n",
      "sum weight is 617.65650882258774\n",
      "max weight is 0.9999953235143294\n",
      "min weight is 0.00021639075469340633\n",
      "Max error is 0.034139301208427009\n",
      "Mean error is 0.0022060539931032909\n"
     ]
    }
   ],
   "source": [
    "\n",
    "# estimated density by KDE\n",
    "q_est = q*phi#mydmap.q\n",
    "q_estNormalized = q_est/sum(q_est)\n",
    "\n",
    "qTargetDistributionNormalized = qTargetDistribution/sum(qTargetDistribution)\n",
    "print(\"Error on the density: \"+repr(np.linalg.norm(q_estNormalized - qTargetDistributionNormalized,1)))\n",
    "\n",
    "## compute weights w.r.t. taget density \n",
    "\n",
    "weight = qTargetDistribution_targetTemperature/q#(mydmap.q)\n",
    "qTargetDistributionNormalized_targetTemperature=qTargetDistribution_targetTemperature/np.sum(qTargetDistribution_targetTemperature)\n",
    "\n",
    "print('Sum weights is '+repr(np.sum(weight)))\n",
    "print('mean weight is '+repr(np.mean(weight)))\n",
    "print('sum weight is '+repr(np.sum(weight)))\n",
    "print('max weight is '+repr(np.max(weight)))\n",
    "print('min weight is '+repr(np.min(weight)))\n",
    "print('Max error is '+repr(np.max(np.abs(qTargetDistributionNormalized-q_estNormalized))))\n",
    "print('Mean error is '+repr(np.mean(np.abs(qTargetDistributionNormalized-q_estNormalized))))\n",
    "\n"
   ]
  },
  {
   "cell_type": "code",
   "execution_count": 54,
   "metadata": {},
   "outputs": [],
   "source": [
    "# # compare estimated and target density (not actual density !!!)\n",
    "# if addReference:\n",
    "#     q_estNormalized_ref = np.load(reference_folder+'/density_300K.npy')\n",
    "#     qTargetDistributionNormalized_ref = np.load(reference_folder+'/kde_300K.npy')\n",
    "#     cv_ref = np.load(reference_folder+'/cv_300K.npy')\n",
    "    \n",
    "# else:\n",
    "#         np.save(reference_folder+'/density_300K.npy',  (qTargetDistributionNormalized_targetTemperature))\n",
    "#         np.save(reference_folder+'/kde_300K.npy',  (q_estNormalized))\n",
    "#         np.save(reference_folder+'/cv_300K.npy',  cv)\n",
    "\n",
    "\n",
    "# ### plot densities and weights\n",
    "\n",
    "\n",
    "# fig = plt.figure(figsize=(16,6))\n",
    "# ax = fig.add_subplot(121)\n",
    "# ax.scatter(cv, -np.log(q_estNormalized), s=5, c='r')\n",
    "# ax.scatter(cv, -np.log(qTargetDistributionNormalized_targetTemperature), s=5, c='b')\n",
    "# if addReference:\n",
    "#     ax.scatter(cv_ref, -np.log(q_estNormalized_ref), s=5, c='g')\n",
    "#     ax.scatter(cv_ref, -np.log(qTargetDistributionNormalized_ref), s=5, c='k')\n",
    "#     ax.legend(['KDE 500K','Target 500K', 'KDE 300K', 'Target 300K'])\n",
    "# else:\n",
    "#     ax.legend(['KDE T=','Target'])\n",
    "# ax.set_xlabel('Radius')\n",
    "# ax.set_ylabel('Density')\n",
    "\n",
    "\n",
    "# ax.set_title('Densities')\n",
    "\n",
    "\n",
    "# ax2 = fig.add_subplot(122)\n",
    "# cax2 = ax2.scatter(colective_variable(X_FT), weight  ,s=5 )\n",
    "# ax2.set_xlabel(cv_name)\n",
    "# ax2.set_ylabel('Weight')\n",
    "# #ax2.set_title('Potential Energy')\n",
    "\n",
    "# fig.savefig(simulationFolder+'/KDE_weight.png')\n",
    "\n",
    "\n",
    "# plt.show()\n"
   ]
  },
  {
   "cell_type": "code",
   "execution_count": 55,
   "metadata": {},
   "outputs": [
    {
     "name": "stdout",
     "output_type": "stream",
     "text": [
      "Raw:\n",
      "<Radius> = Quantity(value=3.2058883, unit=angstrom)\n",
      "\n",
      "Unbiased:\n",
      "<Radius> = Quantity(value=3.1917401304326054, unit=angstrom)\n",
      "Raw:\n",
      "<E> = Quantity(value=2.2839553755681123, unit=kilojoule/mole)\n",
      "\n",
      "Unbiased:\n",
      "<E> = Quantity(value=0.86943157569352791, unit=kilojoule/mole)\n"
     ]
    }
   ],
   "source": [
    "\n",
    "##### compute Averages\n",
    "\n",
    "observable=cv\n",
    "\n",
    "meanR=np.mean(observable)\n",
    "meanRunbiased=np.mean(observable*weight)/np.mean(weight)\n",
    "\n",
    "print('Raw:')\n",
    "print('<'+cv_name+'> = '+repr(meanR*smpl.model.x_unit))\n",
    "\n",
    "print('\\nUnbiased:')\n",
    "print('<'+cv_name+'> = '+repr(meanRunbiased*smpl.model.x_unit))\n",
    "\n",
    "#compute mean energy\n",
    "\n",
    "meanE=np.mean(E)\n",
    "meanEunbiased=np.mean(E*weight)/np.mean(weight)\n",
    "\n",
    "print('Raw:')\n",
    "print('<E> = '+repr(meanE*smpl.model.energy_unit))\n",
    "\n",
    "print('\\nUnbiased:')\n",
    "print('<E> = '+repr(meanEunbiased*smpl.model.energy_unit))\n",
    "\n",
    "##############\n"
   ]
  },
  {
   "cell_type": "code",
   "execution_count": null,
   "metadata": {
    "collapsed": true
   },
   "outputs": [],
   "source": []
  },
  {
   "cell_type": "code",
   "execution_count": 58,
   "metadata": {},
   "outputs": [
    {
     "name": "stdout",
     "output_type": "stream",
     "text": [
      "(101,)\n",
      "(101,)\n"
     ]
    },
    {
     "name": "stderr",
     "output_type": "stream",
     "text": [
      "/Users/zofia/github/DFM/srcDiffmap/helpers.py:164: RuntimeWarning: divide by zero encountered in log\n",
      "  if weights is not None:\n"
     ]
    },
    {
     "data": {
      "image/png": "[encoded data removed]",
      "text/plain": [
       "<matplotlib.figure.Figure at 0x11e589eb8>"
      ]
     },
     "metadata": {},
     "output_type": "display_data"
    }
   ],
   "source": [
    "import imp\n",
    "imp.reload(helpers)\n",
    "\n",
    "\n",
    "cv=colective_variable(X_FT)\n",
    "\n",
    "\n",
    "free_energy_raw, edges=helpers.compute_free_energy(cv, nrbins=100, kBT=smpl_target.kT)\n",
    "free_energy_unbiased, edges_unb=helpers.compute_free_energy(cv, nrbins=100, weights=weight, kBT=smpl_target.kT)\n",
    "\n",
    "if(addReference):\n",
    "    free_energy_raw_ref = np.load(reference_folder+'/free_energy_ref.npy')\n",
    "    #free_energy_unbiased_ref = np.load(reference_folder+'/free_energy_unbiased_ref.npy')\n",
    "    edges_ref = np.load(reference_folder+'/cv_for_free_energy_ref.npy')\n",
    "elif(computeReference):\n",
    "\n",
    "    np.save(reference_folder+'/free_energy_raw_ref', free_energy_raw)\n",
    "    np.save(reference_folder+'/free_energy_unbiased_ref', free_energy_unbiased)\n",
    "    np.save(reference_folder+'/cv_for_free_energy_ref', cv)\n",
    "\n",
    "\n",
    "fig = plt.figure(figsize=(6,6))\n",
    "ax = fig.add_subplot(111)\n",
    "ax.scatter(edges, free_energy_raw, s=5, c='r', marker='o')\n",
    "ax.scatter(edges_unb, free_energy_unbiased, s=5, c='b', marker='.')\n",
    "if(addReference):\n",
    "    ax.scatter(edges_ref, free_energy_raw_ref, s=5, c='g')\n",
    "    #ax.scatter(cv_ref, free_energy_unbiased_ref, s=5, c='k')\n",
    "ax.set_xlabel(cv_name)\n",
    "ax.set_ylabel('free energy [kBT]')\n",
    "if(addReference):\n",
    "    ax.legend(['Raw','Unbiased', 'Ref raw', 'Ref unbiased'])\n",
    "elif(computeReference):\n",
    "    ax.legend(['Raw','Unbiased'])\n",
    "ax.set_title('Free energy: '+repr(modelName))\n",
    "\n",
    "fig.savefig(simulationFolder+'/free_energy.png')\n",
    "plt.show()"
   ]
  },
  {
   "cell_type": "code",
   "execution_count": null,
   "metadata": {},
   "outputs": [],
   "source": []
  },
  {
   "cell_type": "code",
   "execution_count": 57,
   "metadata": {},
   "outputs": [],
   "source": [
    "import imp\n",
    "imp.reload(helpers)\n",
    "\n",
    "if computeReference==1:\n",
    "    cv=colective_variable(X_FT)\n",
    "    print(cv.shape)\n",
    "    free_energy_raw, edges=helpers.compute_free_energy(cv, nrbins=100, kBT=smpl_target.kT)\n",
    "\n",
    "    np.save('/Users/zofia/github/DFM/TemporaryResults/Dimer/T300/free_energy_ref.npy', free_energy_raw)\n",
    "    np.save('/Users/zofia/github/DFM/TemporaryResults/Dimer/T300/cv_for_free_energy_ref.npy', edges)\n",
    "\n",
    "\n",
    "    fig = plt.figure(figsize=(6,6))\n",
    "    ax = fig.add_subplot(111)\n",
    "    ax.scatter(edges, free_energy_raw, s=5, c='r', marker='o')\n",
    "    #ax.scatter(cv, free_energy_unbiased, s=5, c='b', marker='.')\n",
    "\n",
    "    ax.set_xlabel(cv_name)\n",
    "    ax.set_ylabel('free energy [kBT]')\n",
    "    ax.legend(['Raw','Unbiased'])\n",
    "    ax.set_title('Free energy: '+repr(modelName))\n",
    "\n",
    "    fig.savefig(simulationFolder+'/free_energy.png')\n",
    "    plt.show()"
   ]
  },
  {
   "cell_type": "code",
   "execution_count": null,
   "metadata": {},
   "outputs": [],
   "source": [
    "\n",
    "fig = plt.figure(figsize=(6,6))\n",
    "ax = fig.add_subplot(111)\n",
    "ax.scatter(cv, free_energy_raw, s=5, c='r', marker='o')\n",
    "#ax.scatter(cv, free_energy_unbiased, s=5, c='b', marker='.')\n",
    "\n",
    "ax.set_xlabel(cv_name)\n",
    "ax.set_ylabel('free energy [kBT]')\n",
    "ax.legend(['Raw','Unbiased'])\n",
    "ax.set_title('Free energy: '+repr(modelName))\n",
    "\n",
    "fig.savefig(simulationFolder+'/free_energy.png')\n",
    "plt.show()"
   ]
  },
  {
   "cell_type": "code",
   "execution_count": null,
   "metadata": {},
   "outputs": [],
   "source": [
    "reference_folder"
   ]
  },
  {
   "cell_type": "code",
   "execution_count": null,
   "metadata": {
    "collapsed": true
   },
   "outputs": [],
   "source": []
  }
 ],
 "metadata": {
  "kernelspec": {
   "display_name": "Python 3",
   "language": "python",
   "name": "python3"
  },
  "language_info": {
   "codemirror_mode": {
    "name": "ipython",
    "version": 3
   },
   "file_extension": ".py",
   "mimetype": "text/x-python",
   "name": "python",
   "nbconvert_exporter": "python",
   "pygments_lexer": "ipython3",
   "version": "3.6.1"
  }
 },
 "nbformat": 4,
 "nbformat_minor": 2
}
