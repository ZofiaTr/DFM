{
 "cells": [
  {
   "cell_type": "code",
   "execution_count": 1,
   "metadata": {},
   "outputs": [],
   "source": [
    "import matplotlib.pyplot as plt\n",
    "#%matplotlib inline\n",
    "\n",
    "import sys\n",
    "import os\n",
    "sys.path.append('/Users/zofia/github/DFM/srcDiffmap')\n",
    "\n",
    "import integrator\n",
    "import sampler \n",
    "import model \n",
    "\n",
    "import numpy as np\n",
    "from simtk import openmm, unit\n",
    "\n",
    "import helpers\n",
    "import stein"
   ]
  },
  {
   "cell_type": "code",
   "execution_count": 11,
   "metadata": {},
   "outputs": [
    {
     "name": "stdout",
     "output_type": "stream",
     "text": [
      "/Users/zofia/github/DFM/Results/Alanine/T300/TMDiffMap/frontier_points_corner_change_temperature\n",
      "Maximal position value in one direction is 0.86477354000000006\n",
      "PBC box size set to 8.6477354000000002\n",
      "nanometer\n",
      "System has 22 particle(s)\n",
      "542.068919623 K\n"
     ]
    }
   ],
   "source": [
    "diffmapmethod='T300/TMDiffMap/'\n",
    "methodName='frontier_points_corner_change_temperature'\n",
    "methodNameFolder=diffmapmethod+methodName\n",
    "\n",
    "#######################\n",
    "# target temperature\n",
    "T=300.0\n",
    "\n",
    "\n",
    "metric_choice = 'euclidean'\n",
    "  \n",
    "dataName='Results/'\n",
    "folderName='/Users/zofia/github/DFM/'\n",
    "modelName='Alanine'\n",
    "\n",
    "dataFolderName = folderName+dataName+modelName+'/'+methodNameFolder\n",
    "\n",
    "# results from this code will be saved here:\n",
    "simulationFolder=dataFolderName+'/Figures'\n",
    "\n",
    "newpath = os.path.join(os.getcwd(),simulationFolder)\n",
    "if not os.path.exists(newpath):\n",
    "        os.makedirs(newpath)\n",
    "\n",
    "print(dataFolderName)\n",
    "\n",
    "mdl=model.Model(modelName)\n",
    "mdlTopology=mdl.testsystem.topology\n",
    "print (mdl.x_unit)\n",
    "print('System has %d particle(s)' % mdl.system.getNumParticles())\n",
    "\n",
    "temperature =  T * unit.kelvin#300 * unit.kelvin\n",
    "\n",
    "gamma = 1.0 / unit.picosecond\n",
    "dt = 2.0 * unit.femtosecond\n",
    "\n",
    "temperatureAlpha= (T)* unit.kelvin\n",
    "\n",
    "# simulation class sampler takes integrator class with chosen parameters as input\n",
    "intg=integrator.Integrator( model=mdl, gamma=gamma, temperature=temperature, dt=dt,  temperatureAlpha=temperatureAlpha)\n",
    "smpl=sampler.Sampler(model=mdl, integrator=intg, algorithm=0, dataFileName='Data')\n",
    "\n"
   ]
  },
  {
   "cell_type": "code",
   "execution_count": 3,
   "metadata": {},
   "outputs": [
    {
     "name": "stderr",
     "output_type": "stream",
     "text": [
      "/Users/zofia/miniconda3/lib/python3.6/site-packages/MDAnalysis/__init__.py:245: UserWarning: #####\n",
      "MDAnalysis on python 3 is highly experimental!\n",
      "It is mostly non functional and dramatically untested.\n",
      "Use at your own risks!!!\n",
      "\n",
      "  ''')\n"
     ]
    },
    {
     "name": "stdout",
     "output_type": "stream",
     "text": [
      "(100, 22, 3)\n",
      "Stein iteration 0\n",
      "Stein done\n"
     ]
    }
   ],
   "source": [
    "st = stein.Stein(smpl, dataFolderName, modnr = 100)\n",
    "print(st.q.shape)\n",
    "# change the stein step size\n",
    "st.epsilon_step=unit.Quantity(0.01, smpl.model.x_unit)**2\n",
    "\n",
    "st.run_stein(numberOfSteinSteps = 1)\n",
    "print('Stein done')"
   ]
  },
  {
   "cell_type": "code",
   "execution_count": 6,
   "metadata": {
    "collapsed": true
   },
   "outputs": [],
   "source": [
    "import mdtraj as md\n",
    "\n",
    "def plotSamplingDihedrals_fromData(X_FT, topology, methodName=None, color=None, title=None, leader_set=None):\n",
    "    \n",
    "    psi_indices, phi_indices = [6, 8, 14, 16], [4, 6, 8, 14]\n",
    "    top=topology #md.Topology().from_openmm(samplerAlgo.model.testsystem.topology)\n",
    "    \n",
    "    inp=md.Trajectory(X_FT, top)\n",
    "\n",
    "    angles = md.geometry.compute_dihedrals(inp, [phi_indices, psi_indices]) \n",
    "    \n",
    "    fig = plt.figure(figsize=(6,4.5))\n",
    "    ax = fig.add_subplot(111)\n",
    "    \n",
    "    if color is None:\n",
    "        clr =[1,1,0.5]\n",
    "    else:\n",
    "        clr = color\n",
    "        \n",
    "    if leader_set is None:\n",
    "        pass\n",
    "    else:\n",
    "        clr = np.zeros(angles.shape[0])\n",
    "        clr[leader_set] += 0.1 \n",
    "        \n",
    "    ax.scatter(angles[:, 0], angles[:, 1], s=2, c=clr);\n",
    "    ax.set_title(title)\n",
    "    ax.set_xlabel(r'$\\Phi$ Angle [radians]')\n",
    "    plt.xlim(-np.pi, np.pi)\n",
    "    ax.set_ylabel(r'$\\Psi$ Angle [radians]')\n",
    "    plt.ylim(-np.pi, np.pi)\n",
    "    plt.show()\n",
    "\n"
   ]
  },
  {
   "cell_type": "code",
   "execution_count": 7,
   "metadata": {},
   "outputs": [
    {
     "data": {
      "image/png": "[encoded data removed]",
      "text/plain": [
       "<matplotlib.figure.Figure at 0x108dec358>"
      ]
     },
     "metadata": {},
     "output_type": "display_data"
    },
    {
     "data": {
      "image/png": "[encoded data removed]",
      "text/plain": [
       "<matplotlib.figure.Figure at 0x11a4c59b0>"
      ]
     },
     "metadata": {},
     "output_type": "display_data"
    }
   ],
   "source": [
    "plotSamplingDihedrals_fromData(st.qInit, st.topology, methodName=None, color='b', title='Initial state', leader_set=None)\n",
    "plotSamplingDihedrals_fromData(st.q, st.topology, methodName=None, color='b', title='Final state', leader_set=None)"
   ]
  },
  {
   "cell_type": "markdown",
   "metadata": {},
   "source": [
    "# Compare free energies with reference"
   ]
  },
  {
   "cell_type": "code",
   "execution_count": 8,
   "metadata": {
    "collapsed": true
   },
   "outputs": [],
   "source": [
    "# load reference free energy profile at 300 K\n",
    "reference_folder_300K='/Users/zofia/github/DFM/Results/Alanine/T300/'\n",
    "\n",
    "FE_ref_phi = np.load(reference_folder_300K+ 'reference_alanine_300K_1fs_FE_phi.npy')\n",
    "bc_ref_phi = np.load(reference_folder_300K+ 'reference_alanine_300K_1fs_bins_phi.npy')\n",
    "\n",
    "FE_ref_psi = np.load(reference_folder_300K+ 'reference_alanine_300K_1fs_FE.npy')\n",
    "bc_ref_psi = np.load(reference_folder_300K+ 'reference_alanine_300K_1fs_bins.npy')"
   ]
  },
  {
   "cell_type": "code",
   "execution_count": 9,
   "metadata": {
    "collapsed": true
   },
   "outputs": [],
   "source": [
    "def compute_dihedrals_phi(X_FT):\n",
    "            psi_indices, phi_indices = [6, 8, 14, 16], [4, 6, 8, 14]\n",
    "\n",
    "            inp=md.Trajectory(X_FT, md.Topology().from_openmm(smpl.model.testsystem.topology))\n",
    "\n",
    "            Y = md.geometry.compute_dihedrals(inp, [phi_indices, psi_indices])\n",
    "            return Y[:,0]\n",
    "\n",
    "def compute_dihedrals_psi(X_FT):\n",
    "            psi_indices, phi_indices = [6, 8, 14, 16], [4, 6, 8, 14]\n",
    "\n",
    "            inp=md.Trajectory(X_FT, md.Topology().from_openmm(smpl.model.testsystem.topology))\n",
    "\n",
    "            Y = md.geometry.compute_dihedrals(inp, [phi_indices, psi_indices])\n",
    "            return Y[:,1]\n"
   ]
  },
  {
   "cell_type": "code",
   "execution_count": 10,
   "metadata": {},
   "outputs": [
    {
     "name": "stdout",
     "output_type": "stream",
     "text": [
      "Computing collective variable of trajetory of  100 points\n",
      "(101,)\n",
      "(101,)\n"
     ]
    },
    {
     "name": "stderr",
     "output_type": "stream",
     "text": [
      "/Users/zofia/github/DFM/srcDiffmap/helpers.py:164: RuntimeWarning: divide by zero encountered in log\n",
      "  free_energy= - np.log(free_energy)\n"
     ]
    },
    {
     "data": {
      "image/png": "[encoded data removed]",
      "text/plain": [
       "<matplotlib.figure.Figure at 0x11a99acc0>"
      ]
     },
     "metadata": {},
     "output_type": "display_data"
    }
   ],
   "source": [
    "nrBins=100\n",
    "X_short=st.X_FT\n",
    "\n",
    "print('Computing collective variable of trajetory of  '+repr(len(st.X_FT))+' points')\n",
    "cv=compute_dihedrals_phi(X_short)\n",
    "cv_stein=compute_dihedrals_phi(st.q)\n",
    "\n",
    "free_energy_raw_phi, bin_centers_raw_phi = helpers.compute_free_energy(cv, nrbins = nrBins)\n",
    "free_energy_SteinIS_phi, bin_centers_SteinIS_phi = helpers.compute_free_energy(cv_stein, nrbins = nrBins)\n",
    "\n",
    "fig = plt.figure(figsize=(16,6))\n",
    "ax = fig.add_subplot(121)\n",
    "ax.scatter(bin_centers_raw_phi, free_energy_raw_phi, s=5, c='b', marker='o')\n",
    "ax.scatter(bin_centers_SteinIS_phi, free_energy_SteinIS_phi, s=5, c='g', marker='o')\n",
    "ax.scatter(bc_ref_phi, FE_ref_phi, s=5, c='r', marker='o')\n",
    "plt.legend(['raw enahnced', 'steined', 'reference'])\n",
    "ax.set_xlabel('Dihedral angle phi')\n",
    "ax.set_ylabel('Free energy [kT]')\n",
    "\n",
    "plt.show()\n"
   ]
  },
  {
   "cell_type": "code",
   "execution_count": null,
   "metadata": {
    "collapsed": true
   },
   "outputs": [],
   "source": []
  }
 ],
 "metadata": {
  "kernelspec": {
   "display_name": "Python 3",
   "language": "python",
   "name": "python3"
  },
  "language_info": {
   "codemirror_mode": {
    "name": "ipython",
    "version": 3
   },
   "file_extension": ".py",
   "mimetype": "text/x-python",
   "name": "python",
   "nbconvert_exporter": "python",
   "pygments_lexer": "ipython3",
   "version": "3.6.1"
  }
 },
 "nbformat": 4,
 "nbformat_minor": 2
}
