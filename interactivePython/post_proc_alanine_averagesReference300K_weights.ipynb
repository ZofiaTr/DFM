{
 "cells": [
  {
   "cell_type": "markdown",
   "metadata": {},
   "source": [
    "Analyze the progression of the frontier points algorithm with temperature change\n"
   ]
  },
  {
   "cell_type": "code",
   "execution_count": 1,
   "metadata": {},
   "outputs": [
    {
     "data": {
      "text/plain": [
       "'/Users/zofia/github/DFM/interactivePython'"
      ]
     },
     "execution_count": 1,
     "metadata": {},
     "output_type": "execute_result"
    }
   ],
   "source": [
    "pwd"
   ]
  },
  {
   "cell_type": "code",
   "execution_count": 2,
   "metadata": {},
   "outputs": [
    {
     "name": "stdout",
     "output_type": "stream",
     "text": [
      "nanometer\n",
      "System has 22 particle(s)\n",
      "[[  2.00000100e-01   1.00000000e-01  -1.30000000e-07]\n",
      " [  2.00000100e-01   2.09000000e-01   1.00000000e-08]\n",
      " [  1.48626400e-01   2.45384900e-01   8.89824000e-02]\n",
      " [  1.48625900e-01   2.45385200e-01  -8.89820000e-02]\n",
      " [  3.42742000e-01   2.64079500e-01  -3.00000000e-07]\n",
      " [  4.39058000e-01   1.87740600e-01  -6.60000000e-07]\n",
      " [  3.55537540e-01   3.96964880e-01  -3.10000000e-07]\n",
      " [  2.73312000e-01   4.55616010e-01  -1.30000000e-07]\n",
      " [  4.85326210e-01   4.61392530e-01  -4.30000000e-07]\n",
      " [  5.40759600e-01   4.31553880e-01   8.89815200e-02]\n",
      " [  5.66130440e-01   4.22084250e-01  -1.23214800e-01]\n",
      " [  5.12326150e-01   4.52136300e-01  -2.13120160e-01]\n",
      " [  6.63048400e-01   4.71893540e-01  -1.20579070e-01]\n",
      " [  5.80854010e-01   3.14087240e-01  -1.24138500e-01]\n",
      " [  4.71267590e-01   6.12941850e-01   1.40000000e-07]\n",
      " [  3.60064450e-01   6.65270270e-01   6.20000000e-07]\n",
      " [  5.84605330e-01   6.83488330e-01   2.50000000e-07]\n",
      " [  6.73700140e-01   6.35916200e-01  -4.00000000e-08]\n",
      " [  5.84605510e-01   8.28388370e-01   6.20000000e-07]\n",
      " [  4.81857610e-01   8.64773490e-01   1.04000000e-06]\n",
      " [  6.35979840e-01   8.64773130e-01   8.89828300e-02]\n",
      " [  6.35979000e-01   8.64773540e-01  -8.89818700e-02]] nm\n",
      "Initial distance is 0.109000\n",
      "8.314472471220217 J/(K mol)\n",
      "TemperatureTAMDFactor = 30.0\n",
      "Gamma is Quantity(value=1.0, unit=/picosecond)\n",
      "Temperature is Quantity(value=300.0, unit=kelvin)\n",
      "Temperature TAMD 30.0xTemperature\n",
      "Mass alpha is 50.0x Mass\n",
      "409.802866984 K\n"
     ]
    }
   ],
   "source": [
    "import matplotlib.pyplot as plt\n",
    "%matplotlib inline\n",
    "\n",
    "import sys\n",
    "import os\n",
    "sys.path.append('/Users/zofia/github/DFM/srcDiffmap')\n",
    "\n",
    "import mdtraj as md\n",
    "\n",
    "import integrator\n",
    "import sampler #as sampler\n",
    "import model #as model\n",
    "import diffusionmap as dm\n",
    "import statistics_dfm as stat\n",
    "\n",
    "import numpy as np\n",
    "from simtk import openmm, unit\n",
    "from openmmtools.constants import kB\n",
    "\n",
    "import model\n",
    "mdl=model.Model('Alanine')\n",
    "mdlTopology=mdl.testsystem.topology\n",
    "print (mdl.x_unit)\n",
    "print('System has %d particle(s)' % mdl.system.getNumParticles())\n",
    "print (mdl.testsystem.positions)\n",
    "X0=mdl.testsystem.positions.value_in_unit(mdl.x_unit)\n",
    "print('Initial distance is %f' % np.linalg.norm(X0[0,:]-X0[ 1,:]))\n",
    "\n",
    "print(mdl.kB_const)\n",
    "\n",
    "algoVect=0\n",
    "\n",
    "# parameters\n",
    "# this is the target temperature \n",
    "T=300.0\n",
    "temperature =  T * unit.kelvin\n",
    "kT = kB * temperature\n",
    "\n",
    "\n",
    "gamma = 1.0 / unit.picosecond\n",
    "dt = 2.0 * unit.femtosecond\n",
    "\n",
    "TemperatureTAMDFactor=30.0\n",
    "massScale=50.0\n",
    "\n",
    "gammaScale=100.0\n",
    "kappaScale=1000.0\n",
    "\n",
    "print(\"TemperatureTAMDFactor = \" + repr(TemperatureTAMDFactor))\n",
    "temperatureAlpha= (T*TemperatureTAMDFactor)* unit.kelvin\n",
    "\n",
    "print('Gamma is '+repr(gamma))\n",
    "print('Temperature is '+repr(temperature))\n",
    "print('Temperature TAMD '+repr(TemperatureTAMDFactor)+'xTemperature')\n",
    "print('Mass alpha is '+repr(massScale)+'x Mass')\n",
    "\n",
    "\n",
    "\n",
    "# simulation class sampler takes integrator class with chosen parameters as input\n",
    "integrator=integrator.Integrator( model=mdl, gamma=gamma, temperature=temperature, temperatureAlpha=temperatureAlpha, dt=dt, massScale=massScale, gammaScale=gammaScale, kappaScale=kappaScale)\n",
    "smpl=sampler.Sampler(model=mdl, integrator=integrator, algorithm=0, dataFileName='Data')\n",
    "\n",
    "\n"
   ]
  },
  {
   "cell_type": "code",
   "execution_count": 3,
   "metadata": {},
   "outputs": [
    {
     "name": "stdout",
     "output_type": "stream",
     "text": [
      "(1350, 1000, 2)\n"
     ]
    }
   ],
   "source": [
    "methodName = 'T300/Std'#'std'# '# 'corner_temperature_change_off'# 'frontier_points_corner'\n",
    "#folderName='/Users/zofia/github/DFM/TemporaryData/Alanine/'\n",
    "folderName='/Users/zofia/github/DFM/Data/Alanine/'\n",
    "dataName='/Traj/'\n",
    "#dataName='/Trajshort/traj_reference_short.h5'\n",
    "numberOfIterations=1360\n",
    "\n",
    "import pyemma.coordinates as coor\n",
    "feat = coor.featurizer(md.Topology().from_openmm(smpl.model.testsystem.topology))\n",
    "feat.add_backbone_torsions()\n",
    "\n",
    "#inp=coor.load(folderName+methodName+dataName, feat) \n",
    "#inp=[coor.load(folderName+methodName+dataName+'Alaninetraj_'+repr(i)+'.h5', feat) for i in range(10,numberOfIterations)]\n",
    "inp=[coor.load(folderName+methodName+dataName+'Alaninetraj_'+repr(i)+'.h5', feat) for i in range(10,numberOfIterations)]\n",
    "print( np.asarray(inp).shape)\n"
   ]
  },
  {
   "cell_type": "code",
   "execution_count": 4,
   "metadata": {
    "scrolled": true
   },
   "outputs": [
    {
     "name": "stderr",
     "output_type": "stream",
     "text": [
      "/Users/zofia/miniconda3/lib/python3.6/site-packages/matplotlib/cbook.py:136: MatplotlibDeprecationWarning: The spectral and spectral_r colormap was deprecated in version 2.0. Use nipy_spectral and nipy_spectral_r instead.\n",
      "  warnings.warn(message, mplDeprecation, stacklevel=1)\n"
     ]
    },
    {
     "data": {
      "image/png": "[encoded data removed]",
      "text/plain": [
       "<matplotlib.figure.Figure at 0x1200050b8>"
      ]
     },
     "metadata": {},
     "output_type": "display_data"
    }
   ],
   "source": [
    "import pyemma.plots as mplt\n",
    "from math import pi\n",
    "   \n",
    "Y = inp   \n",
    "   \n",
    "mplt.plot_free_energy(np.vstack(Y)[:,0], np.vstack(Y)[:,1]);\n",
    "plt.title('Free energy: Alanine dipeptide ')\n",
    "plt.xlabel(r'$\\Phi$ Angle [radians]')\n",
    "plt.xlim(-pi, pi)\n",
    "plt.ylabel(r'$\\Psi$ Angle [radians]')\n",
    "plt.ylim(-pi, pi)\n",
    "#plt.savefig('/Users/zofia/github/DFM/Data/Alanine/'+methodName+'/freeEnergy.png', dpi='figure', bbox_inches='tight')\n",
    "\n",
    "plt.show()\n",
    "   "
   ]
  },
  {
   "cell_type": "code",
   "execution_count": 5,
   "metadata": {
    "collapsed": true
   },
   "outputs": [],
   "source": [
    "#'/Users/zofia/github/DFM/Data/Std/Traj/*.h5'\n",
    "\n",
    "\n",
    "#---------------- load trajectories: for example from simulation at higher temperature\n",
    "import glob\n",
    "\n",
    "nrEquil=10\n",
    "\n",
    "def loadData(fileName, iteration=False):\n",
    "    print('Loading data from '+ fileName)\n",
    "    numpy_vars = []\n",
    "    \n",
    "    print(fileName+'*.h5')\n",
    "    if iteration== False:\n",
    "        \n",
    "        for np_name in glob.glob(fileName+'*.h5'):\n",
    "            numpy_vars.append(md.load(np_name))\n",
    "    else:\n",
    "        for np_name in glob.glob(fileName):\n",
    "            numpy_vars.append(md.load(np_name))\n",
    "\n",
    "    traj = numpy_vars\n",
    "    print(len(traj))\n",
    "\n",
    "    Xmdtraj=list()\n",
    "    for i in range(0,len(traj)):\n",
    "        #print(traj[i][0].xyz)\n",
    "        Xmdtraj.append(md.Trajectory(traj[i].xyz, smpl.model.testsystem.topology))#mdl.testsystem.topology) )\n",
    "    \n",
    "    print(Xmdtraj[0].xyz.shape[2])\n",
    "    L=int(Xmdtraj[0].xyz.shape[0]*len(traj))\n",
    "    nrP=int(Xmdtraj[0].xyz.shape[1])\n",
    "    print(nrP)\n",
    "    D=int(Xmdtraj[0].xyz.shape[2])\n",
    "    X=np.zeros((L, nrP, D))\n",
    "    for i in range(0,len(Xmdtraj)):\n",
    "            X[i*len(Xmdtraj[i].xyz):(i+1)*len(Xmdtraj[i].xyz),:,:]=Xmdtraj[i].xyz\n",
    "    \n",
    "    \n",
    "    Xmdtraj = md.Trajectory(X, mdlTopology )\n",
    "    Xmdtraj = Xmdtraj.superpose(Xmdtraj[0])\n",
    "    \n",
    "    X= Xmdtraj.xyz\n",
    "    \n",
    "    \n",
    "    return X, traj, Xmdtraj\n"
   ]
  },
  {
   "cell_type": "code",
   "execution_count": 6,
   "metadata": {},
   "outputs": [
    {
     "name": "stdout",
     "output_type": "stream",
     "text": [
      "Loading data from /Users/zofia/github/DFM/Data/Alanine/T300/Std/Traj/\n",
      "/Users/zofia/github/DFM/Data/Alanine/T300/Std/Traj/*.h5\n",
      "1368\n",
      "3\n",
      "22\n",
      "(1368000, 22, 3)\n",
      "(1268000, 22, 3)\n"
     ]
    }
   ],
   "source": [
    "#nameData = '/Users/zofia/github/DFM/Data/Alanine/'+methodName+'/Trajshort/'\n",
    "nameData = folderName+methodName+dataName\n",
    "X_FT, traj_FT, Xmdtraj_FT = loadData(nameData)\n",
    "print(X_FT.shape)\n",
    "\n",
    "X_FT=X_FT[100000:]\n",
    "print(X_FT.shape)"
   ]
  },
  {
   "cell_type": "code",
   "execution_count": 7,
   "metadata": {
    "collapsed": true
   },
   "outputs": [],
   "source": [
    "\n",
    "# E=[]\n",
    "# Eval=np.zeros(len(X_FT))\n",
    "# Evalues=np.zeros(len(X_FT))\n",
    "\n",
    "# for i in range(0,numberOfIterations):\n",
    "#     nameData = folderName+methodName+dataName+'AlanineE_'+repr(i)+'.npy'\n",
    "#     Etmp=np.load(nameData)\n",
    "    \n",
    "#     E.append(Etmp)\n",
    "# Eval=np.hstack(E)\n",
    "# print((Eval.shape))\n",
    "# print(Eval[0])\n",
    "# for i in range(len(Eval )):\n",
    "#     Evalues[i]=Eval[i].value_in_unit(unit.kilojoule_per_mole)\n",
    "# plt.hist(Evalues, 1000)\n",
    "# plt.title('Saved from openmm')\n",
    "# plt.show()\n"
   ]
  },
  {
   "cell_type": "code",
   "execution_count": 8,
   "metadata": {
    "collapsed": true
   },
   "outputs": [],
   "source": [
    "# Evalues_ft=np.zeros(len(X_FT))\n",
    "\n",
    "# for i in range(len(Evalues_ft )):\n",
    "#     e=smpl.model.energy(X_FT[i])\n",
    "#     #print(e)\n",
    "#     Evalues_ft[i]=e.value_in_unit(unit.kilojoule_per_mole)\n",
    "# plt.hist(Evalues_ft, 1000)\n",
    "# plt.title('Energy of trajectories in postprocessing')\n",
    "# plt.show()"
   ]
  },
  {
   "cell_type": "code",
   "execution_count": 9,
   "metadata": {
    "collapsed": true
   },
   "outputs": [],
   "source": [
    "# print(X_FT.shape)\n",
    "# top=md.Topology().from_openmm(smpl.model.testsystem.topology)\n",
    "# Xmdtrajshort=md.Trajectory(np.asarray(X_FT[::10,:,:]), top)  \n",
    "# nameDataShort = '/Users/zofia/github/DFM/Data/Alanine/'+methodName+'/Trajshort/'\n",
    "# Xmdtrajshort.save(nameDataShort+'traj_reference_short.h5')"
   ]
  },
  {
   "cell_type": "code",
   "execution_count": 10,
   "metadata": {},
   "outputs": [
    {
     "name": "stdout",
     "output_type": "stream",
     "text": [
      "Data size\n",
      "(126800, 66)\n"
     ]
    }
   ],
   "source": [
    "X_FT=X_FT[::10]\n",
    "\n",
    "Xresh = X_FT.reshape(X_FT.shape[0], X_FT.shape[1]*X_FT.shape[2])\n",
    "print('Data size')\n",
    "print(Xresh.shape)\n"
   ]
  },
  {
   "cell_type": "code",
   "execution_count": 31,
   "metadata": {
    "collapsed": true
   },
   "outputs": [],
   "source": [
    "#print(1/(1*smpl.model.x_unit).value_in_unit(unit.meter))"
   ]
  },
  {
   "cell_type": "code",
   "execution_count": 32,
   "metadata": {},
   "outputs": [],
   "source": [
    "\n",
    "\n",
    "# # import imp\n",
    "# # imp.reload(dm)\n",
    "# # epsilon=1\n",
    "# # Xresh=Xresh#*smpl.model.x_unit\n",
    "\n",
    "\n",
    "# # print('Compute kernel')\n",
    "# # kernel_all=dm.compute_kernel(Xresh, epsilon, myMetric = 'euclidean')\n",
    "# # print('Kernel computation done')\n",
    "\n",
    "# ### or use the nearest neighbors\n",
    "# epsilon=0.5\n",
    "# import kernel as krnl\n",
    "# kernel = krnl.Kernel(epsilon=epsilon)\n",
    "\n",
    "# print('Initialize kernel')\n",
    "# kernel.fit(Xresh)\n",
    "# print('Compute kernel')\n",
    "# kernel_all = kernel.compute(Xresh)\n",
    "# print('Kernel computation done')\n"
   ]
  },
  {
   "cell_type": "code",
   "execution_count": 11,
   "metadata": {},
   "outputs": [
    {
     "name": "stdout",
     "output_type": "stream",
     "text": [
      "(126800,)\n"
     ]
    }
   ],
   "source": [
    "### use a landmark kde estimator\n",
    "from pydiffmap import kernel as kernel\n",
    "import scipy.sparse.linalg as spsl\n",
    "#import scipy.sparse as sps\n",
    "\n",
    "def kde_landmarks(X, epsilon = 1.0, n_landmarks = 100, sparse_coeff = 0.5, method = 'random'):\n",
    "    m = np.shape(X)[0]\n",
    "    if (method=='random'):\n",
    "        # choose some landmarks at random\n",
    "        landmarks = np.random.choice(m, size = n_landmarks, replace = False)\n",
    "    else:\n",
    "        raise NotImplementedError('no other method for choosing landmarks implemented yet!')\n",
    "    X_l = X[landmarks,:]\n",
    "    #non-landmarks\n",
    "    mask = np.ones(m,dtype=bool)\n",
    "    mask[landmarks] = False\n",
    "    #compute kernel K(X_l, X)\n",
    "    my_kernel = kernel.Kernel(type='gaussian', epsilon=epsilon, k=n_landmarks).fit(X_l)\n",
    "    Q_J = my_kernel.compute(X_l)\n",
    "    Q_J = 0.5*(Q_J + Q_J.transpose())\n",
    "    my_kernel = kernel.Kernel(type='gaussian', epsilon=epsilon, k=np.int(m*sparse_coeff)).fit(X[mask])\n",
    "    Y = my_kernel.compute(X_l)\n",
    "    # compute kde\n",
    "    q_landmarks = np.array(Q_J.sum(axis=1)).ravel() + np.array(Y.sum(axis=1)).ravel()\n",
    "    q_mask = Y.sum(axis=0) + Y.transpose() * spsl.spsolve(Q_J,Y.sum(axis=1))\n",
    "    q_mask = np.array(q_mask).ravel()\n",
    "    # prepare output\n",
    "    q = np.ones(m,dtype=float)\n",
    "    q[landmarks] = q_landmarks\n",
    "    q[mask] = q_mask\n",
    "        \n",
    "    return q\n",
    "\n",
    "q_landmarks = kde_landmarks(Xresh, epsilon = 2.0, n_landmarks = 2000, method='random')\n",
    "q_landmarks = q_landmarks/sum(q_landmarks)\n",
    "print(q_landmarks.shape)"
   ]
  },
  {
   "cell_type": "code",
   "execution_count": null,
   "metadata": {},
   "outputs": [],
   "source": [
    "# print('Compute KDE')\n",
    "# print(kernel_all.shape[0])\n",
    "# qEmp=kernel_all.mean(axis=1)#/epsilon#kernel_all.shape[0]/(epsilon)\n",
    "# print(np.sum(qEmp))"
   ]
  },
  {
   "cell_type": "code",
   "execution_count": 12,
   "metadata": {},
   "outputs": [],
   "source": [
    "# plt.hist(np.asarray(kernel_all[0].data), 100)\n",
    "# plt.show()\n",
    "\n",
    "# print((np.argsort(kernel_all[0].data)[-6:-1]))\n",
    "\n",
    "qEmp=q_landmarks"
   ]
  },
  {
   "cell_type": "code",
   "execution_count": 13,
   "metadata": {
    "collapsed": true
   },
   "outputs": [],
   "source": [
    "### use sklearn density\n",
    "# import sklearn.neighbors as skl\n",
    "# skl_kernel_density =skl.KernelDensity(bandwidth=0.001)\n",
    "# skl_kernel_density.fit(Xresh)\n",
    "# qskl=np.exp(skl_kernel_density.score_samples(Xresh))\n",
    "# print(Xresh.shape)\n",
    "# print(qskl.shape)\n",
    "# print(np.sum(qskl))\n",
    "# qEmp=qskl/np.sum(qskl)\n",
    "# print('Kernel computation done')"
   ]
  },
  {
   "cell_type": "code",
   "execution_count": 14,
   "metadata": {
    "collapsed": true
   },
   "outputs": [],
   "source": [
    "# import imp\n",
    "# imp.reload(dm)\n",
    "# print('Compute kernel')\n",
    "\n",
    "# X_FT=X_FT[::100]\n",
    "# #Xresh = X_FT.reshape(X_FT.shape[0], X_FT.shape[1]*X_FT.shape[2])\n",
    "# #Xresh=Xresh*smpl.model.x_unit\n",
    "# kernel = dm.compute_kernel(X_FT, 1.0, metric=dm.myEuclideanMetric)\n",
    "\n",
    "# print('Compute KDE')\n",
    "# qEmp=kernel_all.sum(axis=1)\n",
    "\n"
   ]
  },
  {
   "cell_type": "code",
   "execution_count": 15,
   "metadata": {
    "collapsed": true
   },
   "outputs": [],
   "source": [
    "# import imp\n",
    "# imp.reload(dm)\n",
    "# Y=X_FT[:10]\n",
    "\n",
    "# Xresh = Xsp_FT.reshape(Xsp_FT.shape[0], Xsp_FT.shape[1]*Xsp_FT.shape[2])\n",
    "\n",
    "# Y=Y.reshape(Y.shape[0], Y.shape[1]* Y.shape[2])\n",
    "# print(Y.shape)\n",
    "# vy=np.vstack([Xresh, Y])\n",
    "# data=Xresh\n",
    "# print(data.shape)\n",
    "# kernel_extended = dm.compute_kernel(vy, 1.0)\n",
    "# print(kernel_extended.shape)\n",
    "# kernel_extended = kernel_extended[:data.shape[0], :vy.shape[0]]\n",
    "# print(kernel_extended.shape)\n",
    "\n",
    "\n",
    "# print(kernel_extended.transpose().shape)\n",
    "# print(V1_FT.shape)\n",
    "\n",
    "# # TODO: need to save lambdas-> see other notebook\n",
    "# #V1= np.dot(V1_FT,np.power(lambdas[1],-1))\n",
    "\n",
    "# xsum=kernel_extended.transpose() * V1 / lambdas[1]#\n",
    "# print(xsum.shape)\n",
    "# V1_ext = xsum\n",
    "\n",
    "# plt.scatter(range(len(V1)), np.abs(V1-V1_ext[:len(V1)]))\n",
    "# plt.show()\n",
    "# # print(vy.shape)\n",
    "# # dm.compute_extended_P(Y, Xresh, kernel_all, 1.0)"
   ]
  },
  {
   "cell_type": "code",
   "execution_count": 17,
   "metadata": {},
   "outputs": [
    {
     "name": "stdout",
     "output_type": "stream",
     "text": [
      "Get the target density at sampled data points\n",
      "... might take a while ...\n",
      "Done\n"
     ]
    }
   ],
   "source": [
    "print('Get the target density at sampled data points')\n",
    "print('... might take a while ...')\n",
    "\n",
    "\"\"\"\n",
    "target density: exp(-beta V(q)) : [V(q)] = kilojoule/mole, [beta] =  J/mol\n",
    "\"\"\"\n",
    "from simtk import unit\n",
    "\n",
    "tr=X_FT#Xresh\n",
    "\n",
    "qTargetDistribution=np.zeros(len(tr))\n",
    "E=np.zeros(len(tr))\n",
    "for i in range(0,len(tr)):\n",
    "            tmp=tr[i]#.reshape(smpl.model.testsystem.positions.shape)#*smpl.model.x_unit\n",
    "            #E[i]=smpl.model.energy(tmp) #/ smpl.model.energy_unit\n",
    "            #print(tmp)\n",
    "            Etmp= smpl.model.energy(tmp)\n",
    "            #print(smpl.kT.value_in_unit(smpl.model.energy_unit))\n",
    "            #print(Etmp)\n",
    "            #print(Etmp)\n",
    "            betatimesH_unitless =Etmp.value_in_unit(smpl.model.energy_unit) / smpl.kT.value_in_unit(smpl.model.energy_unit) #* smpl.model.temperature_unit \n",
    "            qTargetDistribution[i]=np.exp(-(betatimesH_unitless))\n",
    "            #print(betatimesH_unitless)\n",
    "            E[i]=Etmp.value_in_unit(smpl.model.energy_unit)\n",
    "            #print(E[i])\n",
    "            \n",
    "print('Done')\n",
    "\n",
    "# qTargetDistribution=np.zeros(len(tr))\n",
    "# E=np.zeros(len(tr))\n",
    "# Esmooth=np.zeros(len(tr))\n",
    "\n",
    "\n",
    "\n",
    "# for i in range(0,len(tr)):\n",
    "#             tmp=tr[i].reshape(smpl.model.testsystem.positions.shape)#*smpl.model.x_unit\n",
    "#             #E[i]=smpl.model.energy(tmp) #/ smpl.model.energy_unit\n",
    "#             #print(tmp)\n",
    "#             Etmp= smpl.model.energy(tmp)\n",
    "#             E[i]=Etmp.value_in_unit(unit.kilojoule_per_mole)\n",
    "\n",
    "# for i in range(0,len(tr)):\n",
    "#             tmp=tr[i].reshape(smpl.model.testsystem.positions.shape)#*smpl.model.x_unit\n",
    "#             #E[i]=smpl.model.energy(tmp) #/ smpl.model.energy_unit\n",
    "#             #print(tmp)\n",
    "#             Etmp= E[i]\n",
    "            \n",
    "#             idx=np.argsort(kernel_all[i].data)[-6:-1]\n",
    "#             ee=Etmp\n",
    "#             for j in range(len(idx)):\n",
    "#                 ee+=E[idx[j]]\n",
    "#             Etmp=ee/(len(idx)+1)\n",
    "#             Esmooth[i]=Etmp\n",
    "#             #print(Etmp)\n",
    "#             betatimesH_unitless =Etmp / smpl.kT.value_in_unit(unit.kilojoule_per_mole) #* smpl.model.temperature_unit \n",
    "#             qTargetDistribution[i]=np.exp(-(betatimesH_unitless))\n",
    "#             #print(betatimesH_unitless)\n",
    "#             #E[i]=Etmp.value_in_unit(unit.kilocalorie_per_mole)\n",
    "            \n",
    "# print('Done')\n",
    "\n",
    "# plt.hist(E, 1000)\n",
    "# plt.title('Histogram Energy')\n",
    "# plt.show()\n",
    "\n",
    "# print(qTargetDistribution.shape)\n",
    "\n",
    "# plt.hist(Esmooth, 1000)\n",
    "# plt.title('Histogram Smoothed Energy')\n",
    "# plt.show()\n",
    "\n",
    "# print(qTargetDistribution.shape)\n"
   ]
  },
  {
   "cell_type": "code",
   "execution_count": null,
   "metadata": {},
   "outputs": [],
   "source": [
    "idx=10\n",
    "\n",
    "qEmpNormalized=qEmp/np.sum(qEmp)\n",
    "qTargetDistributionNormalized=qTargetDistribution/np.sum(qTargetDistribution)\n",
    "\n",
    "print('Value at point with index ' +repr(idx))\n",
    "print('Energy '+repr(E[idx]))\n",
    "print('KDE: '+repr(qEmp[idx]))\n",
    "print('Target density(normalized):'+repr(qTargetDistribution[idx]))\n",
    "\n",
    "\n",
    "def computeWeights(t, q):\n",
    "    w=np.zeros(len(t))\n",
    "    for i in range(len(t)):\n",
    "        #if(q[i]>10**(-10)):\n",
    "            w[i] = t[i] / q[i]\n",
    "        #else:\n",
    "        #    w[i] = 1.0\n",
    "        \n",
    "            \n",
    "    return w\n",
    "\n",
    "\n",
    "print('Sum qEmp is '+repr(np.sum(qEmpNormalized)))\n",
    "weight=computeWeights(qTargetDistributionNormalized, qEmpNormalized)\n",
    "print('Sum weights is '+repr(np.sum(weight)))\n",
    "print('mean weight is '+repr(np.mean(weight)))\n",
    "print('sum weight is '+repr(np.sum(weight)))\n",
    "print('max weight is '+repr(np.max(weight)))\n",
    "print('min weight is '+repr(np.min(weight)))\n",
    "print('Max error is '+repr(np.max(np.abs(qTargetDistributionNormalized-qEmpNormalized))))\n",
    "print('Mean error is '+repr(np.mean(np.abs(qTargetDistributionNormalized-qEmpNormalized))))"
   ]
  },
  {
   "cell_type": "code",
   "execution_count": null,
   "metadata": {
    "collapsed": true
   },
   "outputs": [],
   "source": [
    "psi_indices, phi_indices = [6, 8, 14, 16], [4, 6, 8, 14]\n",
    "top=md.Topology().from_openmm(smpl.model.testsystem.topology)\n",
    "    \n",
    "            \n",
    "inp=md.Trajectory(X_FT, top)\n",
    "\n",
    "Y = md.geometry.compute_dihedrals(inp, [phi_indices, psi_indices]) \n",
    "\n",
    "Qest = qEmpNormalized\n",
    "qT = qTargetDistributionNormalized\n",
    "\n",
    "\n",
    "##################\n",
    "\n",
    "plt.scatter(np.vstack(Y)[:,0], np.log(qT), s=5, c='b')\n",
    "#plt.scatter(np.vstack(Y)[:,0], Qest/np.mean(Qest), s=5, c='r')\n",
    "\n",
    "\n",
    "plt.xlabel('Psi')\n",
    "plt.ylabel('Density')\n",
    "plt.legend(['Target','KDE'])\n",
    "\n",
    "plt.show()\n",
    "\n",
    "plt.scatter(np.vstack(Y)[:,1], np.log(qT), s=5, c='b')\n",
    "#plt.scatter(np.vstack(Y)[:,0], Qest/np.mean(Qest), s=5, c='r')\n",
    "\n",
    "plt.xlabel('Phi')\n",
    "plt.ylabel('Density')\n",
    "plt.legend(['Target','KDE'])\n",
    "\n",
    "plt.show()\n",
    "\n",
    "\n",
    "#plt.scatter(np.vstack(Y)[:,0], qT/np.mean(qT), s=5, c='b')\n",
    "plt.scatter(np.vstack(Y)[:,0], np.log(Qest), s=5, c='r')\n",
    "\n",
    "plt.xlabel('Psi')\n",
    "plt.ylabel('Density')\n",
    "plt.legend(['KDE'])\n",
    "\n",
    "plt.show()\n",
    "\n",
    "\n",
    "plt.scatter(np.vstack(Y)[:,0], np.log(qT), s=5, c='b')\n",
    "plt.scatter(np.vstack(Y)[:,0], np.log(Qest), s=5, c='r')\n",
    "plt.xlabel('Psi')\n",
    "plt.ylabel('Density')\n",
    "plt.legend(['Target','KDE'])\n",
    "\n",
    "plt.show()\n",
    "\n",
    "\n",
    "plt.scatter(np.vstack(Y)[:,0], weight, s=5)\n",
    "plt.xlabel('Psi')\n",
    "plt.ylabel('Weights')\n",
    "\n",
    "plt.show()\n",
    "\n",
    "plt.scatter(np.vstack(Y)[:,1], weight, s=5)\n",
    "plt.xlabel('Phi')\n",
    "plt.ylabel('Weights')\n",
    "\n",
    "plt.show()\n",
    "\n",
    "print('Mean weigth is '+repr(np.mean(weight)))"
   ]
  },
  {
   "cell_type": "code",
   "execution_count": null,
   "metadata": {
    "collapsed": true
   },
   "outputs": [],
   "source": [
    "##################\n",
    "\n",
    "\n",
    "fig = plt.figure(figsize=(16,6))\n",
    "ax = fig.add_subplot(121)\n",
    "\n",
    "cax = ax.scatter(Y[:,0], Y[:,1], c = np.log(qT), s=5, cmap=plt.cm.Spectral)\n",
    "cbar = fig.colorbar(cax)\n",
    "#plt.scatter(np.vstack(Y)[:,0], Qest/np.mean(Qest), s=5, c='r')\n",
    "ax.set_xlabel('Psi')\n",
    "ax.set_ylabel('Phi')\n",
    "ax.set_title('Target')\n",
    "\n",
    "ax2 = fig.add_subplot(122)\n",
    "cax2 = ax2.scatter(Y[:,0], Y[:,1], c = np.log(np.array(Qest)), s=5, cmap=plt.cm.Spectral)\n",
    "cbar = fig.colorbar(cax2)\n",
    "ax2.set_xlabel('Psi')\n",
    "ax2.set_ylabel('Phi')\n",
    "ax2.set_title('KDE')\n",
    "\n",
    "plt.show()\n",
    "\n"
   ]
  },
  {
   "cell_type": "code",
   "execution_count": null,
   "metadata": {
    "collapsed": true
   },
   "outputs": [],
   "source": [
    "#-----------average energy\n",
    "# meanV = stat.computeAverages(Xsp_FT, samplerAlgo.model.energy, units=samplerAlgo.model.energy_unit)\n",
    "# meanVunbiased = stat.computeUnbiasedAverages(Xsp_FT, samplerAlgo.model.energy, weight, units=samplerAlgo.model.energy_unit)\n",
    "import imp\n",
    "imp.reload(stat)\n",
    "\n",
    "Xsp_FT=X_FT\n",
    "\n",
    "# meanV = stat.computeAverages(Xsp_FT, smpl.model.energy, units=smpl.model.energy_unit, vectorFunction=False)\n",
    "# meanVunbiased = stat.computeUnbiasedAverages(Xsp_FT, smpl.model.energy, weight, units=smpl.model.energy_unit,  vectorFunction=False)\n",
    "\n",
    "meanV = stat.computeAverages(Xsp_FT, E, units=1, vectorFunction=True)\n",
    "meanVunbiased = stat.computeUnbiasedAverages(Xsp_FT, E, weight, units=1,  vectorFunction=True)\n",
    "\n",
    "\n",
    "            \n",
    "Vef_unb=0\n",
    "ci=0\n",
    "for xi in X_FT:\n",
    "\n",
    "            Vef_unb+=weight[ci]*E[ci]\n",
    "            ci=ci+1\n",
    "Vef_unb=Vef_unb/np.sum(weight)\n",
    "\n",
    "print('Raw:')\n",
    "#print('<V> = '+repr(meanV*smpl.model.energy_unit))\n",
    "print('<V> = '+repr(np.mean(E)*smpl.model.energy_unit))\n",
    "\n",
    "print('\\nUnbiased:')\n",
    "#print('<V> = '+repr(meanVunbiased*smpl.model.energy_unit))\n",
    "print('<V> = '+repr(Vef_unb*smpl.model.energy_unit))\n",
    "\n",
    "#Reference averages at 300K:\n",
    "#<V> = Quantity(value=-23.990307294355031, unit=kilojoule/mole)\n"
   ]
  },
  {
   "cell_type": "code",
   "execution_count": null,
   "metadata": {
    "collapsed": true
   },
   "outputs": [],
   "source": []
  },
  {
   "cell_type": "code",
   "execution_count": null,
   "metadata": {
    "collapsed": true
   },
   "outputs": [],
   "source": [
    "top=md.Topology().from_openmm(smpl.model.testsystem.topology)\n",
    "#---------- average rmsd\n",
    "\n",
    "# #print(Xmdtraj_FT[0].xyz)\n",
    "def computeRMSD(Xmdtraj_FT):\n",
    "    rmsd=np.zeros(len(Xmdtraj_FT))\n",
    "    for i in range(len(Xmdtraj_FT)):\n",
    "        rmsd[i]= md.rmsd(Xmdtraj_FT[0], Xmdtraj_FT[i])\n",
    "\n",
    "    return rmsd\n",
    "\n",
    "\n",
    "#give the rmsd vector\n",
    "rmsdShort=computeRMSD(md.Trajectory(X_FT,top))\n",
    "\n",
    "meanR = stat.computeAverages(X_FT, rmsdShort, vectorFunction=True)\n",
    "meanRunbiased = stat.computeUnbiasedAverages(X_FT, rmsdShort, weight, vectorFunction=True)\n",
    "\n",
    "print('Raw:')\n",
    "print('<rmsd> = '+repr(meanR*smpl.model.x_unit))\n",
    "\n",
    "print('\\nUnbiased:')\n",
    "print('<rmsd> = '+repr(meanRunbiased*smpl.model.x_unit))\n",
    "\n",
    "#Reference averages at 300K:\n",
    "#<rmsd> = Quantity(value=0.13858858377493002, unit=nanometer)\n",
    "\n"
   ]
  },
  {
   "cell_type": "code",
   "execution_count": null,
   "metadata": {
    "collapsed": true
   },
   "outputs": [],
   "source": [
    "maxValEnergy=15\n",
    "\n",
    "psi_indices, phi_indices = [6, 8, 14, 16], [4, 6, 8, 14]\n",
    "top=md.Topology().from_openmm(smpl.model.testsystem.topology)\n",
    "print(weight.shape)\n",
    "            \n",
    "inp=md.Trajectory(X_FT, top)\n",
    "\n",
    "Y = md.geometry.compute_dihedrals(inp, [phi_indices, psi_indices]) \n",
    "angles=Y\n",
    "\n",
    "######### raw\n",
    "\n",
    "mplt.plot_free_energy(np.vstack(Y)[:,0], np.vstack(Y)[:,1],   kT=2.494, vmin=0, vmax=maxValEnergy,avoid_zero_count=False);\n",
    "plt.title('Raw: Free energy: Alanine dipeptide ')\n",
    "plt.xlabel(r'$\\Phi$ Angle [radians]')\n",
    "plt.xlim(-pi, pi)\n",
    "plt.ylabel(r'$\\Psi$ Angle [radians]')\n",
    "plt.ylim(-pi, pi)\n",
    "plt.show()\n",
    "\n",
    "######### weights\n",
    "\n",
    "fepyemma = mplt.plot_free_energy(np.vstack(Y)[:,0], np.vstack(Y)[:,1], weights=weight,  kT=2.494 , vmin=0, vmax=maxValEnergy,avoid_zero_count=False);\n",
    "plt.title('Weigths: Free energy: Alanine dipeptide ')\n",
    "plt.xlabel(r'$\\Phi$ Angle [radians]')\n",
    "plt.xlim(-pi, pi)\n",
    "plt.ylabel(r'$\\Psi$ Angle [radians]')\n",
    "plt.ylim(-pi, pi)\n",
    "plt.show()\n",
    "\n",
    "######### reference\n",
    "  \n",
    "inpRef = np.load('/Users/zofia/github/DFM/Data/Alanine/T300/Std/dihedrals_reference_data.npy')\n",
    "\n",
    "\n",
    "mplt.plot_free_energy(np.vstack(inpRef)[:,0], np.vstack(inpRef)[:,1], kT=2.494,  vmin=0, vmax=maxValEnergy,avoid_zero_count=False);\n",
    "plt.title('Free energy: Alanine dipeptide ')\n",
    "plt.xlabel(r'$\\Phi$ Angle [radians]')\n",
    "plt.xlim(-pi, pi)\n",
    "plt.ylabel(r'$\\Psi$ Angle [radians]')\n",
    "plt.ylim(-pi, pi)\n",
    "plt.show()\n",
    "\n",
    "print('Number of reference points is '+repr(inpRef.shape[0]*inpRef.shape[1]))\n",
    "print('Number of sampled points is '+repr(Y.shape[0]))"
   ]
  },
  {
   "cell_type": "code",
   "execution_count": null,
   "metadata": {
    "collapsed": true
   },
   "outputs": [],
   "source": [
    "def histogramFreeEnergy(angles, weights = weight, kT=1):\n",
    "    \n",
    "\n",
    "    nrbins=200\n",
    "    FplotPhi=np.zeros(( nrbins))\n",
    "    FplotPsi=np.zeros(( nrbins))\n",
    "\n",
    "\n",
    "    Y=angles\n",
    "    minx=np.min(Y[:,0])\n",
    "    maxx=np.max(Y[:,0])\n",
    "    miny=np.min(Y[:,1])\n",
    "    maxy=np.max(Y[:,1])\n",
    "\n",
    "\n",
    "    xd=np.linspace(minx, maxx, num=nrbins)\n",
    "    yd=np.linspace(miny, maxy, num=nrbins)\n",
    "    \n",
    "    if weights == None:\n",
    "        H,x,y = np.histogram2d(Y[:,0], Y[:,1], bins=nrbins, weights=None, normed=True)\n",
    "    else:\n",
    "        H,x,y = np.histogram2d(Y[:,0], Y[:,1], bins=nrbins, weights=weight, normed=True)\n",
    "    \n",
    "    #avoid zeros\n",
    "    \n",
    "    # compute free energies\n",
    "#     Hminzero = np.min(H[np.where(H > 0)])\n",
    "#     H = np.maximum(H, Hminzero)\n",
    "    F = -kT*np.log(H)\n",
    "\n",
    "    # contour plot\n",
    "    extent = [x[0], x[-1], y[0], y[-1]]\n",
    "    xticks(np.arange(int(minx), int(maxx)+1, 1))\n",
    "    yticks(np.arange(int(miny), int(maxy)+1, 2))\n",
    "    plt.contourf(F.T, 50, cmap=plt.cm.spectral, extent=extent)\n",
    "    cbar=colorbar()\n",
    "    cbar.set_label('Free Energy [kJ]')\n",
    "    xlabel(r'$\\Phi$ Angle [radians]')\n",
    "    xlim(-pi, pi)\n",
    "    ylabel(r'$\\Psi$ Angle [radians]')\n",
    "    ylim(-pi, pi)\n",
    "    if weights == None:\n",
    "        plt.title('Raw')\n",
    "        w=1\n",
    "        wght=1\n",
    "    else:\n",
    "        plt.title('Weights')\n",
    "        w=np.sum(weight)\n",
    "        wght=weight\n",
    "    plt.show()\n",
    "\n",
    "    FplotPhi=-np.log(np.mean(H, axis=1)) \n",
    "    FplotPsi=-np.log(np.mean(H, axis=0)) \n",
    "    \n",
    "#     if weights == None:\n",
    "#         w=1#np.ones(len(Y))\n",
    "#     else:\n",
    "#         w=np.mean(weight)\n",
    "    \n",
    "#     FplotPhi=np.mean(F.T, axis=1)\n",
    "#     FplotPsi=np.mean(F.T, axis=0)\n",
    "\n",
    "    \n",
    "    \n",
    "    \n",
    "    return FplotPhi, FplotPsi, xd\n",
    "\n",
    "\n",
    "\n",
    "def histogramFreeEnergyPsi(angles, phiPsi, weights = weight, kT=1):\n",
    "    \n",
    "\n",
    "    nrbins=200\n",
    "    FplotPhi=np.zeros(( nrbins))\n",
    "    \n",
    "    Y=angles\n",
    "    minx=np.min(Y[:,phiPsi])\n",
    "    maxx=np.max(Y[:,phiPsi])\n",
    "    \n",
    "\n",
    "    xd=np.linspace(minx, maxx, num=nrbins)\n",
    "    \n",
    "    \n",
    "    if weights == None:\n",
    "        H,x = np.histogram(Y[:,phiPsi], bins=nrbins, weights=None, normed=True)\n",
    "    else:\n",
    "        H,x = np.histogram(Y[:,phiPsi], bins=nrbins, weights=weight, normed=True)\n",
    "    \n",
    "    FplotPhi = -kT*np.log(H)\n",
    "  \n",
    "    \n",
    "    \n",
    "    return FplotPhi, xd"
   ]
  },
  {
   "cell_type": "code",
   "execution_count": null,
   "metadata": {
    "collapsed": true
   },
   "outputs": [],
   "source": [
    "%pylab inline\n",
    "\n",
    "#################\n",
    "\n",
    "psi_indices, phi_indices = [6, 8, 14, 16], [4, 6, 8, 14]\n",
    "top=md.Topology().from_openmm(smpl.model.testsystem.topology)\n",
    "    \n",
    "            \n",
    "inp=md.Trajectory(X_FT, top)\n",
    "\n",
    "angles_raw = md.geometry.compute_dihedrals(inp, [phi_indices, psi_indices]) \n",
    "angles_ref =inpRef.reshape(inpRef.shape[0]*inpRef.shape[1],inpRef.shape[2])# md.geometry.compute_dihedrals(inpRef, [phi_indices, psi_indices])\n",
    "\n",
    "cl=angles_raw.shape[0]\n",
    "#angles_ref = angles_ref[:cl,:]\n",
    "#angles_ref = angles_ref[::100,:]\n",
    "\n",
    "print('Data size:')\n",
    "print(len(angles_raw))\n",
    "print(len(angles_ref))\n",
    "###################\n",
    "\n",
    "# reference values - free energies are recomputed again to check normalizations, the data below was computed while postprocessing the reference simulation\n",
    "\n",
    "# FplotPhi_ref = np.load('/Users/zofia/github/DFM/Data/Alanine/T300/Std/FreeEnergy_Phi_reference300K.npy')\n",
    "# FplotPsi_ref = np.load('/Users/zofia/github/DFM/Data/Alanine/T300/Std/FreeEnergy_Psi_reference300K.npy')\n",
    "# xd_ref = np.load('/Users/zofia/github/DFM/Data/Alanine/T300/Std/FreeEnergy_Grid_reference300K.npy')\n",
    "\n",
    "weightNorm=weight#/np.sum(weight)\n",
    "#print(weight)\n",
    "###\n",
    "print(smpl.kT.value_in_unit(smpl.model.energy_unit))\n",
    "print('Enhanced raw')\n",
    "FplotPhi, FplotPsi, xd = histogramFreeEnergy(angles_raw, weights = None, kT = smpl.kT.value_in_unit(smpl.model.energy_unit))\n",
    "\n",
    "# FplotPhi, xd = histogramFreeEnergyPsi(angles_raw, 0, weights = None, kT = 2.494)\n",
    "# FplotPsi, xd = histogramFreeEnergyPsi(angles_raw, 1, weights = None, kT = 2.494)\n",
    "\n",
    "print('Enhanced weights')\n",
    "FplotPhi_weight, FplotPsi_weight, xd = histogramFreeEnergy(angles, weights = weightNorm, kT = smpl.kT.value_in_unit(smpl.model.energy_unit))#kT = 2.494)\n",
    "\n",
    "# FplotPhi_weight, xd = histogramFreeEnergyPsi(angles_raw, 0, weights = weight, kT = 2.494)\n",
    "# FplotPsi_weight, xd = histogramFreeEnergyPsi(angles_raw, 1, weights = weight, kT = 2.494)\n",
    "\n",
    "print('Reference raw')\n",
    "FplotPhi_ref, FplotPsi_ref, xd = histogramFreeEnergy(angles_ref, weights = None, kT = smpl.kT.value_in_unit(smpl.model.energy_unit))#kT = 2.494)\n",
    "\n",
    "# FplotPhi_ref, xd = histogramFreeEnergyPsi(angles_ref, 0, weights = None, kT = 2.494)\n",
    "# FplotPsi_ref, xd = histogramFreeEnergyPsi(angles_ref, 1, weights = None, kT = 2.494)\n",
    "###############################\n",
    "\n",
    "\n",
    "\n",
    "\n",
    "########################\n",
    "\n",
    "# minY=0\n",
    "# maxY=25\n",
    "\n",
    "# plt.plot(xd, FplotPhi_ref,  c='r')\n",
    "# plt.plot(xd, FplotPhi,  c='b')\n",
    "# plt.plot(xd, FplotPhi_weight,  c='g')\n",
    "\n",
    "# plt.xlabel(r'$\\Phi$ Angle [radians]')\n",
    "# plt.ylabel(r'Free Energy [kJ]')\n",
    "# plt.ylim(minY, maxY)\n",
    "# plt.legend(['Reference','Enhanced raw', 'Enhanced weight'], bbox_to_anchor=(0, 1), loc=2, borderaxespad=0.5)\n",
    "# plt.savefig('/Users/zofia/github/DFM/Data/Alanine/'+methodName+'/freeEnergyAnglePhi_comparison.png', dpi='figure', bbox_inches='tight')\n",
    "# plt.show()\n",
    "\n",
    "# ###############################\n",
    "# plt.plot(xd, FplotPsi_ref, c='r')\n",
    "# plt.plot(xd, FplotPsi, c='b')\n",
    "# plt.plot(xd, FplotPsi_weight, c='g')\n",
    "# plt.ylim(minY, maxY)\n",
    "# plt.xlabel(r'$\\Psi$ Angle [radians]')\n",
    "# plt.ylabel(r'Free Energy [kJ]')\n",
    "# plt.legend(['Reference','Enhanced raw', 'Enhanced weight'], bbox_to_anchor=(1, 1), loc=1, borderaxespad=0.5) \n",
    "\n",
    "# plt.show()\n"
   ]
  },
  {
   "cell_type": "code",
   "execution_count": null,
   "metadata": {
    "collapsed": true
   },
   "outputs": [],
   "source": [
    "\n",
    "fig = plt.figure(figsize=(16,6))\n",
    "ax = fig.add_subplot(121)\n",
    "\n",
    "cax = ax.plot(xd, FplotPhi_ref,  c='r')\n",
    "cax = ax.plot(xd, FplotPhi,  c='b')\n",
    "cax = ax.plot(xd, FplotPhi_weight,  c='g')\n",
    "#cbar = fig.colorbar(cax)\n",
    "#plt.scatter(np.vstack(Y)[:,0], Qest/np.mean(Qest), s=5, c='r')\n",
    "ax.set_xlabel('Psi')\n",
    "ax.set_ylabel('Free energy')\n",
    "ax.legend(['Reference','Reference sparse', 'Reference weight'], bbox_to_anchor=(0, 1), loc=2, borderaxespad=0.5)\n",
    "\n",
    "\n",
    "\n",
    "#ax.set_title('Psi')\n",
    "\n",
    "ax2 = fig.add_subplot(122)\n",
    "cax2 = ax2.plot(xd, FplotPsi_ref,  c='r')\n",
    "cax2 = ax2.plot(xd, FplotPsi,  c='b')\n",
    "cax2 = ax2.plot(xd, FplotPsi_weight,  c='g')\n",
    "#cbar = fig.colorbar(cax2)\n",
    "ax2.set_xlabel('Phi')\n",
    "ax2.set_ylabel('Free energy')\n",
    "ax2.legend(['Reference','Reference sparse', 'Reference weight'], bbox_to_anchor=(0, 1), loc=2, borderaxespad=0.5)\n",
    "\n",
    "\n",
    "#ax2.set_title('KDE')\n",
    "\n",
    "plt.show()"
   ]
  },
  {
   "cell_type": "code",
   "execution_count": 2,
   "metadata": {},
   "outputs": [
    {
     "ename": "NameError",
     "evalue": "name 'imp' is not defined",
     "output_type": "error",
     "traceback": [
      "\u001b[0;31m---------------------------------------------------------------------------\u001b[0m",
      "\u001b[0;31mNameError\u001b[0m                                 Traceback (most recent call last)",
      "\u001b[0;32m<ipython-input-2-1936a97ec7d8>\u001b[0m in \u001b[0;36m<module>\u001b[0;34m()\u001b[0m\n\u001b[0;32m----> 1\u001b[0;31m \u001b[0mimp\u001b[0m\u001b[0;34m.\u001b[0m\u001b[0mreload\u001b[0m\u001b[0;34m(\u001b[0m\u001b[0mdm\u001b[0m\u001b[0;34m)\u001b[0m\u001b[0;34m\u001b[0m\u001b[0m\n\u001b[0m\u001b[1;32m      2\u001b[0m \u001b[0mXfttmp\u001b[0m\u001b[0;34m=\u001b[0m\u001b[0mX_FT\u001b[0m\u001b[0;34m[\u001b[0m\u001b[0;34m:\u001b[0m\u001b[0;34m:\u001b[0m\u001b[0;36m100\u001b[0m\u001b[0;34m]\u001b[0m\u001b[0;34m\u001b[0m\u001b[0m\n\u001b[1;32m      3\u001b[0m \u001b[0mXreshShort\u001b[0m\u001b[0;34m=\u001b[0m\u001b[0mXfttmp\u001b[0m\u001b[0;34m\u001b[0m\u001b[0m\n\u001b[1;32m      4\u001b[0m \u001b[0mXreshShort\u001b[0m\u001b[0;34m=\u001b[0m\u001b[0mXreshShort\u001b[0m\u001b[0;34m.\u001b[0m\u001b[0mreshape\u001b[0m\u001b[0;34m(\u001b[0m\u001b[0mXreshShort\u001b[0m\u001b[0;34m.\u001b[0m\u001b[0mshape\u001b[0m\u001b[0;34m[\u001b[0m\u001b[0;36m0\u001b[0m\u001b[0;34m]\u001b[0m\u001b[0;34m,\u001b[0m\u001b[0mXreshShort\u001b[0m\u001b[0;34m.\u001b[0m\u001b[0mshape\u001b[0m\u001b[0;34m[\u001b[0m\u001b[0;36m1\u001b[0m\u001b[0;34m]\u001b[0m\u001b[0;34m*\u001b[0m\u001b[0mXreshShort\u001b[0m\u001b[0;34m.\u001b[0m\u001b[0mshape\u001b[0m\u001b[0;34m[\u001b[0m\u001b[0;36m2\u001b[0m\u001b[0;34m]\u001b[0m\u001b[0;34m)\u001b[0m\u001b[0;34m\u001b[0m\u001b[0m\n\u001b[1;32m      5\u001b[0m \u001b[0mepsilon\u001b[0m\u001b[0;34m=\u001b[0m\u001b[0;36m0.0100\u001b[0m\u001b[0;34m\u001b[0m\u001b[0m\n",
      "\u001b[0;31mNameError\u001b[0m: name 'imp' is not defined"
     ]
    }
   ],
   "source": [
    "imp.reload(dm)\n",
    "Xfttmp=X_FT[::100]\n",
    "XreshShort=Xfttmp\n",
    "XreshShort=XreshShort.reshape(XreshShort.shape[0],XreshShort.shape[1]*XreshShort.shape[2])\n",
    "epsilon=0.0100\n",
    "print(XreshShort.shape)\n",
    "\n",
    "#FEV, qTarget_FT,qEstimated, E_FT, kernelDiff =sampler.dominantEigenvectorDiffusionMap(XreshShort, epsilon, smpl, smpl.kT, 'Diffmap', nrOfFirstEigenVectors=2)\n",
    "FEV_tmdmap, qTarget_FT,qEstimated, E_FT, kernelDiff =sampler.dominantEigenvectorDiffusionMap(XreshShort, epsilon, smpl, smpl.kT, 'TMDiffmap', nrOfFirstEigenVectors=2)\n",
    "\n"
   ]
  },
  {
   "cell_type": "code",
   "execution_count": 131,
   "metadata": {},
   "outputs": [
    {
     "name": "stdout",
     "output_type": "stream",
     "text": [
      "(1268, 1)\n"
     ]
    }
   ],
   "source": [
    "\n",
    "tmp=FEV_tmdmap\n",
    "\n",
    "print(FEV_tmdmap.shape)\n",
    "#V1_FT=tmp[:,0]\n",
    "V1_FT_tmdmap=tmp[:,0]\n",
    "#V2_FT=tmp[:,1]"
   ]
  },
  {
   "cell_type": "code",
   "execution_count": 2,
   "metadata": {},
   "outputs": [
    {
     "ename": "NameError",
     "evalue": "name 'plt' is not defined",
     "output_type": "error",
     "traceback": [
      "\u001b[0;31m---------------------------------------------------------------------------\u001b[0m",
      "\u001b[0;31mNameError\u001b[0m                                 Traceback (most recent call last)",
      "\u001b[0;32m<ipython-input-2-c3dd955eba82>\u001b[0m in \u001b[0;36m<module>\u001b[0;34m()\u001b[0m\n\u001b[0;32m----> 1\u001b[0;31m \u001b[0mfig\u001b[0m \u001b[0;34m=\u001b[0m \u001b[0mplt\u001b[0m\u001b[0;34m.\u001b[0m\u001b[0mfigure\u001b[0m\u001b[0;34m(\u001b[0m\u001b[0mfigsize\u001b[0m\u001b[0;34m=\u001b[0m\u001b[0;34m(\u001b[0m\u001b[0;36m16\u001b[0m\u001b[0;34m,\u001b[0m\u001b[0;36m6\u001b[0m\u001b[0;34m)\u001b[0m\u001b[0;34m)\u001b[0m\u001b[0;34m\u001b[0m\u001b[0m\n\u001b[0m\u001b[1;32m      2\u001b[0m \u001b[0max\u001b[0m \u001b[0;34m=\u001b[0m \u001b[0mfig\u001b[0m\u001b[0;34m.\u001b[0m\u001b[0madd_subplot\u001b[0m\u001b[0;34m(\u001b[0m\u001b[0;36m121\u001b[0m\u001b[0;34m)\u001b[0m\u001b[0;34m\u001b[0m\u001b[0m\n\u001b[1;32m      3\u001b[0m \u001b[0;31m#plt.scatter(angles[:, 0], V1_FT, s=5);\u001b[0m\u001b[0;34m\u001b[0m\u001b[0;34m\u001b[0m\u001b[0m\n\u001b[1;32m      4\u001b[0m \u001b[0max\u001b[0m\u001b[0;34m.\u001b[0m\u001b[0mscatter\u001b[0m\u001b[0;34m(\u001b[0m\u001b[0mangles\u001b[0m\u001b[0;34m[\u001b[0m\u001b[0;34m:\u001b[0m\u001b[0;34m,\u001b[0m \u001b[0;36m0\u001b[0m\u001b[0;34m]\u001b[0m\u001b[0;34m,\u001b[0m \u001b[0mV1_FT_tmdmap\u001b[0m\u001b[0;34m,\u001b[0m \u001b[0ms\u001b[0m\u001b[0;34m=\u001b[0m\u001b[0;36m5\u001b[0m\u001b[0;34m)\u001b[0m\u001b[0;34m;\u001b[0m\u001b[0;34m\u001b[0m\u001b[0m\n\u001b[1;32m      5\u001b[0m \u001b[0max\u001b[0m\u001b[0;34m.\u001b[0m\u001b[0mtitle\u001b[0m\u001b[0;34m(\u001b[0m\u001b[0;34m'Does V1 correlate with dihedral angles? '\u001b[0m\u001b[0;34m)\u001b[0m\u001b[0;34m\u001b[0m\u001b[0m\n",
      "\u001b[0;31mNameError\u001b[0m: name 'plt' is not defined"
     ]
    }
   ],
   "source": [
    "fig = plt.figure(figsize=(16,6))\n",
    "ax = fig.add_subplot(121)\n",
    "#plt.scatter(angles[:, 0], V1_FT, s=5);\n",
    "ax.scatter(angles[:, 0], V1_FT_tmdmap, s=5);\n",
    "ax.title('Does V1 correlate with dihedral angles? ')\n",
    "ax.xlabel(r'$\\Phi$ Angle [radians]')\n",
    "ax.xlim(-np.pi, np.pi)\n",
    "ax.ylabel('V1')\n",
    "ax.legend(['TMDmap'])\n",
    "\n",
    "ax.savefig('V1_phi_eps_'+repr(epsilon)+'nrneigh_'+repr(neighnr)+'.png')\n",
    "\n",
    "ax2 = fig.add_subplot(122)\n",
    "#plt.scatter(angles[:, 1], V1_FT, s=5);\n",
    "ax2.scatter(angles[:, 1], V1_FT_tmdmap, s=5);\n",
    "ax2.title('Does V1 correlate with dihedral angles? ')\n",
    "ax2.xlabel(r'$\\Psi$ Angle [radians]')\n",
    "ax2.xlim(-np.pi, np.pi)\n",
    "ax2.ylabel('V1')\n",
    "ax2.legend(['TMDmap'])\n",
    "\n",
    "ax2.savefig('V1_psi_eps_'+repr(epsilon)+'nrneigh_'+repr(neighnr)+'.png')\n",
    "\n"
   ]
  },
  {
   "cell_type": "code",
   "execution_count": 1,
   "metadata": {},
   "outputs": [
    {
     "ename": "NameError",
     "evalue": "name 'V1_FT_tmdmap' is not defined",
     "output_type": "error",
     "traceback": [
      "\u001b[0;31m---------------------------------------------------------------------------\u001b[0m",
      "\u001b[0;31mNameError\u001b[0m                                 Traceback (most recent call last)",
      "\u001b[0;32m<ipython-input-1-b0695fefd454>\u001b[0m in \u001b[0;36m<module>\u001b[0;34m()\u001b[0m\n\u001b[0;32m----> 1\u001b[0;31m \u001b[0mV1_FT_tmdmap\u001b[0m\u001b[0;34m\u001b[0m\u001b[0m\n\u001b[0m",
      "\u001b[0;31mNameError\u001b[0m: name 'V1_FT_tmdmap' is not defined"
     ]
    }
   ],
   "source": [
    "V1_FT_tmdmap"
   ]
  },
  {
   "cell_type": "code",
   "execution_count": null,
   "metadata": {
    "collapsed": true
   },
   "outputs": [],
   "source": []
  }
 ],
 "metadata": {
  "kernelspec": {
   "display_name": "Python 3",
   "language": "python",
   "name": "python3"
  },
  "language_info": {
   "codemirror_mode": {
    "name": "ipython",
    "version": 3
   },
   "file_extension": ".py",
   "mimetype": "text/x-python",
   "name": "python",
   "nbconvert_exporter": "python",
   "pygments_lexer": "ipython3",
   "version": "3.6.1"
  },
  "widgets": {
   "state": {
    "57a8aa23016042e9a5a23e6a2f177777": {
     "views": [
      {
       "cell_index": 7
      }
     ]
    }
   },
   "version": "1.2.0"
  }
 },
 "nbformat": 4,
 "nbformat_minor": 2
}
