{
 "cells": [
  {
   "cell_type": "code",
   "execution_count": 1,
   "metadata": {
    "collapsed": true
   },
   "outputs": [],
   "source": [
    "\n",
    "import matplotlib.pyplot as plt\n",
    "#%matplotlib inline\n",
    "\n",
    "import sys\n",
    "import os\n",
    "\n",
    "import scipy.sparse.linalg as spsl\n",
    "\n",
    "import numpy as np\n"
   ]
  },
  {
   "cell_type": "code",
   "execution_count": 12,
   "metadata": {
    "collapsed": true
   },
   "outputs": [],
   "source": [
    "h1=5\n",
    "w1=1\n",
    "\n",
    "def force(x):\n",
    "    return -h1*4*(x**2-w1)*x;\n",
    "def energy(x):\n",
    "    return h1*(x**2-w1)**2\n",
    "\n",
    "nrSteps = 1000\n",
    "\n",
    "x = np.ones(nrSteps)\n",
    "p = np.random.randn(nrSteps)\n",
    "dt=0.01\n",
    "gamma = 1\n",
    "kT = 1\n",
    "a = np.exp(-gamma * (dt))\n",
    "b = np.sqrt(1 - np.exp(-2 * gamma * (dt)))\n",
    "\n",
    "\n",
    "pn = p[0]\n",
    "xn = x[0]\n",
    "    \n",
    "f=force(xn)\n",
    "\n",
    "for n in range(nrSteps-1):\n",
    "        \n",
    "        if n % 10 ==0:\n",
    "            pn = p[0]\n",
    "            xn = x[0]\n",
    "        \n",
    "        pn = pn + 0.5* f * dt\n",
    "        xn = xn + 0.5* pn * dt\n",
    "        pn = (a * pn) + b * np.random.randn(*xn.shape) * np.sqrt(kT)\n",
    "        f=force(xn)\n",
    "        xn = xn + 0.5* pn * dt\n",
    "        pn = pn + 0.5* f * dt\n",
    "        \n",
    "        p[n+1] = pn\n",
    "        x[n+1] = xn\n",
    "    \n"
   ]
  },
  {
   "cell_type": "code",
   "execution_count": 13,
   "metadata": {},
   "outputs": [
    {
     "data": {
      "image/png": "[encoded data removed]",
      "text/plain": [
       "<matplotlib.figure.Figure at 0x1104756d8>"
      ]
     },
     "metadata": {},
     "output_type": "display_data"
    }
   ],
   "source": [
    "def plotSampling_fromData(x, methodName=None, color='b', title = 'Initial condition', savefigure=None):\n",
    "    \n",
    "    fig = plt.figure(figsize=(6,4.5))\n",
    "    ax = fig.add_subplot(111)\n",
    "    ax.scatter(x, energy(x))\n",
    "    ax.set_xlim([-2,2])\n",
    "    ax.set_ylim([-0.1,7])\n",
    "    if savefigure is not None:\n",
    "        plt.savefig(savefigure,  format='png', dpi=100, bbox_inches='tight')\n",
    "        \n",
    "    plt.show()\n",
    "        \n",
    "   \n",
    "    \n",
    "plotSampling_fromData(x, methodName=None, color='b', title = 'Initial condition', savefigure=None)"
   ]
  },
  {
   "cell_type": "markdown",
   "metadata": {},
   "source": [
    "#  Stein force"
   ]
  },
  {
   "cell_type": "code",
   "execution_count": 14,
   "metadata": {
    "collapsed": true
   },
   "outputs": [],
   "source": [
    "from sklearn.neighbors import NearestNeighbors\n",
    "from scipy.spatial.distance import cdist\n",
    "\n",
    "def compute_force(XL, leader_set):\n",
    "       \n",
    "    f = []\n",
    "    \n",
    "    for n in range(len(leader_set)):\n",
    "        f.append( force(XL[leader_set[n]]))\n",
    "\n",
    "    return f\n",
    "\n",
    "def compute_force_all(XL):\n",
    "       \n",
    "    f = []\n",
    "    \n",
    "    for n in range(len(XL)):\n",
    "        f.append( force(XL[n]))\n",
    "\n",
    "    return f\n",
    "\n",
    "def compute_stein_force(XL, leader_set):\n",
    "   \n",
    "    f = compute_force(XL, leader_set)\n",
    "    # create numpy array from the list force which has also units    \n",
    "    forcenp = []\n",
    "    # remove units (we needed the units for the force call before!)\n",
    "    for n in range(len(leader_set)):\n",
    "        forcenp.append(f[n])\n",
    "    \n",
    "    forcenp = np.asarray(forcenp)\n",
    "    # create numpy array from the list XL which has also units\n",
    "    \n",
    "    #XreshList = []\n",
    "    ## remove units (we needed the units for the force call before!)\n",
    "    #for n in range(len(XL)):\n",
    "    #    XreshList.append(XL[n])\n",
    "    \n",
    "    Xresh = np.asarray(XL)\n",
    "    #print(Xresh.shape)\n",
    "    # reshape for neighbor search steps x DOF\n",
    "    Xresh = Xresh.reshape(Xresh.shape[0],Xresh.shape[1]*Xresh.shape[2])\n",
    "    # choose leader particles using the index set leader_set\n",
    "    X_leader = np.copy(Xresh[leader_set,:])\n",
    "    \n",
    "    force_resh = forcenp.reshape(forcenp.shape[0])\n",
    "   \n",
    "    # kernel scaling parameter\n",
    "    h=0.4\n",
    "    \n",
    "    distances = cdist(X_leader, Xresh)\n",
    "    kernel = np.exp(-distances**2 / h)\n",
    "    \n",
    "    # this computes the first part (without the kernel derivatives)\n",
    "    # f_MDforce is of the format (N_particles, dim)\n",
    "    f_MDforce = np.dot(kernel.transpose(), force_resh)\n",
    "    f_MDforce = f_MDforce / len(leader_set)\n",
    "    # reshape to format (N_particles, n_atoms, 3)\n",
    "    f_MDforce = f_MDforce.reshape(Xresh.shape[0], forcenp.shape[1], forcenp.shape[2])\n",
    "    # add force unit and divide by kT\n",
    "    #f_MDforce = f_MDforce * model.force_unit / smpl.kT\n",
    "    f_MDforce = f_MDforce  / kT\n",
    "    \n",
    "    #derivative part\n",
    "    f_der = -2.0/h * np.dot(kernel.transpose(), X_leader)\n",
    "    f_der += 2.0/h * np.outer(np.sum(kernel,0),np.ones(Xresh.shape[1])) * Xresh\n",
    "    f_der = f_der / len(leader_set)\n",
    "    # reshape to format (N_particles, n_atoms, 3)\n",
    "    f_der = f_der.reshape(Xresh.shape[0], forcenp.shape[1], forcenp.shape[2])\n",
    "    # add unit\n",
    "    #f_der = f_der * model.x_unit**(-1)\n",
    "    \n",
    "    return f_MDforce + f_der\n",
    "\n"
   ]
  },
  {
   "cell_type": "markdown",
   "metadata": {},
   "source": [
    "# Iterate Stein"
   ]
  },
  {
   "cell_type": "code",
   "execution_count": 17,
   "metadata": {},
   "outputs": [
    {
     "name": "stdout",
     "output_type": "stream",
     "text": [
      "1\n",
      "Stein iteration 0\n"
     ]
    },
    {
     "data": {
      "image/png": "[encoded data removed]",
      "text/plain": [
       "<matplotlib.figure.Figure at 0x10fc29438>"
      ]
     },
     "metadata": {},
     "output_type": "display_data"
    },
    {
     "name": "stdout",
     "output_type": "stream",
     "text": [
      "Stein iteration 100\n",
      "Stein iteration 200\n",
      "Stein iteration 300\n",
      "Stein iteration 400\n",
      "Stein iteration 500\n",
      "Stein iteration 600\n",
      "Stein iteration 700\n",
      "Stein iteration 800\n",
      "Stein iteration 900\n"
     ]
    }
   ],
   "source": [
    "numberOfSteinSteps = 1000\n",
    "\n",
    "X_short = np.copy(x)\n",
    "\n",
    "epsilon_step=0.1\n",
    "\n",
    "# choose leader set\n",
    "numberOfLeaderParticles = int(0.2*(X_short.shape[0]))\n",
    "leader_set = np.random.choice(range(X_short.shape[0]), numberOfLeaderParticles)#np.array(range(X_short.shape[0]))# \n",
    "\n",
    "mass = 1 \n",
    "\n",
    "q = np.zeros((len(X_short), 1, 1))\n",
    "q[:,0,0] = np.copy(X_short)\n",
    "print(q.shape[2])\n",
    "\n",
    "XL=np.copy(q)\n",
    "#plotSampling_fromData(q, methodName=None, color='b', title = 'Initial condition')\n",
    "f = compute_stein_force(XL,leader_set)\n",
    "#f = compute_force(XL)\n",
    "\n",
    "modit = int(numberOfSteinSteps/10)\n",
    "moditfig =numberOfSteinSteps #int(numberOfSteinSteps/100)\n",
    "\n",
    "for ns in range(numberOfSteinSteps):\n",
    "    if ns%modit==0:\n",
    "        print('Stein iteration '+repr(ns))\n",
    "    f = compute_stein_force(XL,leader_set)\n",
    "    for n in range(len(XL)):\n",
    "        XL[n] = (XL[n] + epsilon_step * f[n])#/mass );\n",
    "        q[n,:,:] =  np.copy(XL[n])\n",
    "    \n",
    "    ## plot progress\n",
    "    if ns%moditfig==0:\n",
    "        plotSampling_fromData(q, methodName=None, color='b', title = 'Initial condition', savefigure='SteinFigures/it_'+repr(ns)+'.png')\n",
    "    if np.isnan(q).any():\n",
    "        print('Explosion. Nan.')\n",
    "        break\n",
    "    "
   ]
  },
  {
   "cell_type": "code",
   "execution_count": 18,
   "metadata": {},
   "outputs": [
    {
     "data": {
      "image/png": "[encoded data removed]",
      "text/plain": [
       "<matplotlib.figure.Figure at 0x10e85f828>"
      ]
     },
     "metadata": {},
     "output_type": "display_data"
    },
    {
     "data": {
      "image/png": "[encoded data removed]",
      "text/plain": [
       "<matplotlib.figure.Figure at 0x10ee218d0>"
      ]
     },
     "metadata": {},
     "output_type": "display_data"
    }
   ],
   "source": [
    "plotSampling_fromData(x,  methodName=None, color='b', title='Initial state')\n",
    "plotSampling_fromData(q, methodName=None, color='b', title = 'After '+repr(numberOfSteinSteps)+' Stein steps')\n"
   ]
  },
  {
   "cell_type": "code",
   "execution_count": 19,
   "metadata": {
    "collapsed": true
   },
   "outputs": [],
   "source": [
    "from scipy.integrate import quadrature\n",
    "def fit_distribution(x):\n",
    "    x = x[:,0,0]\n",
    "    Z = 0.5725340617#quadrature(lambda y : np.exp(-energy(y)), -1000, 1000)[1]\n",
    "    xx = np.linspace(-2,2,100)\n",
    "    \n",
    "    fig = plt.figure(figsize=(6,4.5))\n",
    "    ax = fig.add_subplot(111)\n",
    "    ax.hist(x, 50, density=True);\n",
    "    ax.scatter(xx, np.exp(- energy(xx))/Z , c='r', s=5)\n",
    "   \n",
    "    plt.show()"
   ]
  },
  {
   "cell_type": "code",
   "execution_count": 20,
   "metadata": {},
   "outputs": [
    {
     "data": {
      "image/png": "[encoded data removed]",
      "text/plain": [
       "<matplotlib.figure.Figure at 0x11033af98>"
      ]
     },
     "metadata": {},
     "output_type": "display_data"
    }
   ],
   "source": [
    "fit_distribution(q)\n"
   ]
  },
  {
   "cell_type": "code",
   "execution_count": 21,
   "metadata": {},
   "outputs": [
    {
     "name": "stdout",
     "output_type": "stream",
     "text": [
      "Z=0.5725340617\n",
      "E[x] = 0\n",
      "0.901355107291\n",
      "-0.408236645721\n",
      "************\n",
      "E[V(x)] = 0.5247724179\n",
      "0.212976087348\n",
      "1.02131081933\n",
      "************\n",
      "E[-f(x)*x] = 1\n",
      "-2.84747211222\n",
      "-2.60235672679\n"
     ]
    }
   ],
   "source": [
    "Z = 0.5725340617\n",
    "print('Z='+repr(Z))\n",
    "\n",
    "print('E[x] = 0')\n",
    "print(np.mean(X_short))\n",
    "print(np.mean(q))\n",
    "print('************')\n",
    "\n",
    "print('E[V(x)] = 0.5247724179')\n",
    "print(np.mean(energy(X_short)))\n",
    "print(np.mean(energy(q)))\n",
    "print('************')\n",
    "\n",
    "print('E[-f(x)*x] = 1')\n",
    "print(np.mean((-force(X_short)* X_short)))\n",
    "print((np.mean(-force(q)* q)))"
   ]
  },
  {
   "cell_type": "code",
   "execution_count": 248,
   "metadata": {
    "collapsed": true
   },
   "outputs": [],
   "source": [
    "# import glob\n",
    "# import moviepy.editor as mpy\n",
    "\n",
    "# gif_name = 'SteinFigures/stein'\n",
    "# fps = 1000\n",
    "# file_list = glob.glob('SteinFigures/'+'/*.png') # Get all the pngs in the current directory\n",
    "# list.sort(file_list, key=lambda x: int(x.split('_')[1].split('.png')[0])) # Sort the images by #, this may need to be tweaked for your use case\n",
    "# clip = mpy.ImageSequenceClip(file_list, fps=fps)\n",
    "# clip.write_gif('{}.gif'.format(gif_name), fps=fps)"
   ]
  },
  {
   "cell_type": "code",
   "execution_count": null,
   "metadata": {
    "collapsed": true
   },
   "outputs": [],
   "source": []
  }
 ],
 "metadata": {
  "kernelspec": {
   "display_name": "Python 3",
   "language": "python",
   "name": "python3"
  },
  "language_info": {
   "codemirror_mode": {
    "name": "ipython",
    "version": 3
   },
   "file_extension": ".py",
   "mimetype": "text/x-python",
   "name": "python",
   "nbconvert_exporter": "python",
   "pygments_lexer": "ipython3",
   "version": "3.6.1"
  }
 },
 "nbformat": 4,
 "nbformat_minor": 2
}
