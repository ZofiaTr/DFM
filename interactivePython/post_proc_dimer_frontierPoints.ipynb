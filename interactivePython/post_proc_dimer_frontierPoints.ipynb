{
 "cells": [
  {
   "cell_type": "code",
   "execution_count": 1,
   "metadata": {},
   "outputs": [
    {
     "data": {
      "text/plain": [
       "'/Users/zofia/github/DFM/interactivePython'"
      ]
     },
     "execution_count": 1,
     "metadata": {},
     "output_type": "execute_result"
    }
   ],
   "source": [
    "pwd"
   ]
  },
  {
   "cell_type": "code",
   "execution_count": 2,
   "metadata": {},
   "outputs": [
    {
     "name": "stdout",
     "output_type": "stream",
     "text": [
      "Dimer model: double-well with 2 states\n",
      "State1: r=Quantity(value=1.55, unit=angstrom)\n",
      "State2: r=Quantity(value=2.55, unit=angstrom)\n",
      "Dimer model: double-well with 2 states\n",
      "State1: r=Quantity(value=1.55, unit=angstrom)\n",
      "State2: r=Quantity(value=2.55, unit=angstrom)\n",
      "angstrom\n",
      "System has 2 particle(s)\n",
      "[[ 0.          0.          0.        ]\n",
      " [ 1.54999995  0.          0.        ]] A\n",
      "Initial distance is 1.550000\n",
      "TemperatureTAMDFactor = 30.0\n",
      "Gamma is Quantity(value=1.0, unit=/picosecond)\n",
      "Temperature is Quantity(value=100.0, unit=kelvin)\n",
      "Temperature TAMD 30.0xTemperature\n",
      "Mass alpha is 50.0x Mass\n",
      "120.248610983 K\n"
     ]
    }
   ],
   "source": [
    "import matplotlib.pyplot as plt\n",
    "%matplotlib inline\n",
    "\n",
    "import sys\n",
    "import os\n",
    "sys.path.append('/Users/zofia/github/DFM/srcDiffmap')\n",
    "\n",
    "import mdtraj as md\n",
    "\n",
    "import integrator\n",
    "import sampler #as sampler\n",
    "import model #as model\n",
    "import diffusionmap as dm\n",
    "import statistics_dfm as stat\n",
    "\n",
    "import numpy as np\n",
    "from simtk import openmm, unit\n",
    "from openmmtools.constants import kB\n",
    "\n",
    "import model\n",
    "mdl=model.Model('Dimer')\n",
    "print (mdl.x_unit)\n",
    "print('System has %d particle(s)' % mdl.system.getNumParticles())\n",
    "print (mdl.testsystem.positions)\n",
    "X0=mdl.testsystem.positions.value_in_unit(mdl.x_unit)\n",
    "print('Initial distance is %f' % np.linalg.norm(X0[0,:]-X0[ 1,:]))\n",
    "\n",
    "algoVect=0\n",
    "\n",
    "# parameters\n",
    "# this is the target temperature \n",
    "T=100.0\n",
    "temperature =  T * unit.kelvin#300 * unit.kelvin\n",
    "kT = kB * temperature\n",
    "\n",
    "\n",
    "gamma = 1.0 / unit.picosecond\n",
    "dt = 2.0 * unit.femtosecond\n",
    "\n",
    "TemperatureTAMDFactor=30.0\n",
    "massScale=50.0\n",
    "\n",
    "gammaScale=100.0\n",
    "kappaScale=1000.0\n",
    "\n",
    "print(\"TemperatureTAMDFactor = \" + repr(TemperatureTAMDFactor))\n",
    "temperatureAlpha= (T*TemperatureTAMDFactor)* unit.kelvin\n",
    "\n",
    "print('Gamma is '+repr(gamma))\n",
    "print('Temperature is '+repr(temperature))\n",
    "print('Temperature TAMD '+repr(TemperatureTAMDFactor)+'xTemperature')\n",
    "print('Mass alpha is '+repr(massScale)+'x Mass')\n",
    "\n",
    "\n",
    "\n",
    "# simulation class sampler takes integrator class with chosen parameters as input\n",
    "integrator=integrator.Integrator( model=mdl, gamma=gamma, temperature=temperature, temperatureAlpha=temperatureAlpha, dt=dt, massScale=massScale, gammaScale=gammaScale, kappaScale=kappaScale)\n",
    "samplerAlgo=sampler.Sampler(model=mdl, integrator=integrator, algorithm=0, dataFileName='Data')\n",
    "\n",
    "# nrSteps is number of steps for each nrRep , and iterate the algo nrIterations times - total simulation time is nrSteps x nrIterations\n",
    "# nrSteps=args.nrSteps\n",
    "# nrEquilSteps = 10 #10000\n",
    "# nrIterations=args.niterations\n",
    "# nrRep=args.nreplicas\n",
    "\n",
    "algoNames=samplerAlgo.algorithmName\n",
    "\n",
    "simulatedTemperature=100\n",
    "\n"
   ]
  },
  {
   "cell_type": "code",
   "execution_count": 3,
   "metadata": {
    "collapsed": true
   },
   "outputs": [],
   "source": [
    "colorList=['red', 'blue', 'black', 'green']\n",
    "    \n",
    "# copy values for the two states from above\n",
    "min1=1.55*model.unit.angstroms\n",
    "min2=2.55*model.unit.angstroms\n"
   ]
  },
  {
   "cell_type": "code",
   "execution_count": 4,
   "metadata": {},
   "outputs": [
    {
     "name": "stdout",
     "output_type": "stream",
     "text": [
      "10\n",
      "3\n"
     ]
    }
   ],
   "source": [
    "#---------------- load trajectories: for example from simulation at higher temperature\n",
    "import glob\n",
    "numpy_vars = []\n",
    "for np_name in glob.glob('/Users/zofia/github/DFM/Data/frontier_points/Traj/*.h5'):\n",
    "    numpy_vars.append(md.load(np_name))\n",
    "\n",
    "traj = numpy_vars\n",
    "print(len(traj))\n",
    "\n",
    "\n",
    "import mdtraj as md\n",
    "Xmdtraj=list()\n",
    "for i in range(len(traj)):\n",
    "    Xmdtraj.append(md.Trajectory(traj[i].xyz, mdl.testsystem.topology) )\n",
    "\n",
    "print(Xmdtraj[0].xyz.shape[2])\n",
    "L=int(Xmdtraj[0].xyz.shape[0]*len(traj))\n",
    "nrP=int(Xmdtraj[0].xyz.shape[1])\n",
    "D=int(Xmdtraj[0].xyz.shape[2])\n",
    "X=np.zeros((L, nrP, D))\n",
    "for i in range(0,len(Xmdtraj)):\n",
    "        X[i*len(Xmdtraj[i].xyz):(i+1)*len(Xmdtraj[i].xyz),:,:]=Xmdtraj[i].xyz\n",
    "\n",
    "X_F=X\n",
    "\n"
   ]
  },
  {
   "cell_type": "code",
   "execution_count": 5,
   "metadata": {},
   "outputs": [
    {
     "name": "stdout",
     "output_type": "stream",
     "text": [
      "100\n",
      "3\n"
     ]
    }
   ],
   "source": [
    "#---------------- load trajectories: for example from simulation at higher temperature\n",
    "import glob\n",
    "numpy_vars = []\n",
    "for np_name in glob.glob('/Users/zofia/github/DFM/Data/T100InitialCondition/Traj/*.h5'):\n",
    "    numpy_vars.append(md.load(np_name))\n",
    "\n",
    "traj = numpy_vars\n",
    "print(len(traj))\n",
    "\n",
    "\n",
    "import mdtraj as md\n",
    "Xmdtraj=list()\n",
    "for i in range(len(traj)):\n",
    "    Xmdtraj.append(md.Trajectory(traj[i].xyz, mdl.testsystem.topology) )\n",
    "\n",
    "print(Xmdtraj[0].xyz.shape[2])\n",
    "L=int(Xmdtraj[0].xyz.shape[0]*len(traj))\n",
    "nrP=int(Xmdtraj[0].xyz.shape[1])\n",
    "D=int(Xmdtraj[0].xyz.shape[2])\n",
    "X=np.zeros((L, nrP, D))\n",
    "for i in range(0,len(Xmdtraj)):\n",
    "        X[i*len(Xmdtraj[i].xyz):(i+1)*len(Xmdtraj[i].xyz),:,:]=Xmdtraj[i].xyz\n",
    "\n",
    "X_IC=X\n"
   ]
  },
  {
   "cell_type": "code",
   "execution_count": 20,
   "metadata": {},
   "outputs": [
    {
     "name": "stdout",
     "output_type": "stream",
     "text": [
      "10\n",
      "3\n"
     ]
    }
   ],
   "source": [
    "#---------------- load trajectories: for example from simulation at higher temperature\n",
    "import glob\n",
    "numpy_vars = []\n",
    "for np_name in glob.glob('/Users/zofia/github/DFM/Data/Std/Traj/*.h5'):\n",
    "    numpy_vars.append(md.load(np_name))\n",
    "\n",
    "traj = numpy_vars\n",
    "print(len(traj))\n",
    "\n",
    "\n",
    "import mdtraj as md\n",
    "Xmdtraj=list()\n",
    "for i in range(len(traj)):\n",
    "    Xmdtraj.append(md.Trajectory(traj[i].xyz, mdl.testsystem.topology) )\n",
    "\n",
    "print(Xmdtraj[0].xyz.shape[2])\n",
    "L=int(Xmdtraj[0].xyz.shape[0]*len(traj))\n",
    "nrP=int(Xmdtraj[0].xyz.shape[1])\n",
    "D=int(Xmdtraj[0].xyz.shape[2])\n",
    "X=np.zeros((L, nrP, D))\n",
    "for i in range(0,len(Xmdtraj)):\n",
    "        X[i*len(Xmdtraj[i].xyz):(i+1)*len(Xmdtraj[i].xyz),:,:]=Xmdtraj[i].xyz\n",
    "\n",
    "Xref=X\n",
    "\n"
   ]
  },
  {
   "cell_type": "code",
   "execution_count": 21,
   "metadata": {},
   "outputs": [
    {
     "name": "stdout",
     "output_type": "stream",
     "text": [
      "3\n",
      "(1000, 2, 3)\n"
     ]
    },
    {
     "data": {
      "image/png": "[encoded data removed]",
      "text/plain": [
       "<matplotlib.figure.Figure at 0x119254588>"
      ]
     },
     "metadata": {},
     "output_type": "display_data"
    }
   ],
   "source": [
    "\n",
    "import mdtraj as md\n",
    "Xmdtraj=list()\n",
    "for i in range(len(traj)):\n",
    "    Xmdtraj.append(md.Trajectory(traj[i].xyz, mdl.testsystem.topology) )\n",
    "\n",
    "print(Xmdtraj[0].xyz.shape[2])\n",
    "L=int(Xmdtraj[0].xyz.shape[0]*len(traj))\n",
    "nrP=int(Xmdtraj[0].xyz.shape[1])\n",
    "D=int(Xmdtraj[0].xyz.shape[2])\n",
    "X=np.zeros((L, nrP, D))\n",
    "for i in range(0,len(Xmdtraj)):\n",
    "        X[i*len(Xmdtraj[i].xyz):(i+1)*len(Xmdtraj[i].xyz),:,:]=Xmdtraj[i].xyz\n",
    "\n",
    "print(X.shape)\n",
    "\n",
    "#---------------- radius \n",
    "\n",
    "def radius(X):\n",
    "    return np.linalg.norm(X[:,0,:]-X[:,1,:], 2, axis=1)\n",
    "rref=np.linalg.norm(Xref[:,0,:]-Xref[:,1,:], 2, axis=1)\n",
    "rIC=np.linalg.norm(X_IC[:,0,:]-X_IC[:,1,:], 2, axis=1)\n",
    "rF=np.linalg.norm(X_F[:,0,:]-X_F[:,1,:], 2, axis=1)\n",
    "\n",
    "\n",
    "#print(r.shape)\n",
    "\n",
    "plt.plot(range(len(rF)), rF)\n",
    "plt.plot(range(len(rIC)), rIC)\n",
    "plt.plot(range(len(rref)), rref)\n",
    "plt.plot(range(len(rref)), np.ones(len(rref))*min1)\n",
    "plt.plot(range(len(rref)), np.ones(len(rref))*min2)\n",
    "plt.legend(['Frontier','max RMSD','Ref'])\n",
    "plt.show()\n",
    "\n",
    "#print(\"Initial radius: \"+repr(np.linalg.norm(X[0, 0,:]-X[0, 1,:])))\n",
    "#print(\"Mean radius: \" +repr(np.mean(r)))\n"
   ]
  },
  {
   "cell_type": "code",
   "execution_count": 8,
   "metadata": {},
   "outputs": [
    {
     "name": "stdout",
     "output_type": "stream",
     "text": [
      "<mdtraj.Topology with 1 chains, 1 residues, 2 atoms, 0 bonds>\n"
     ]
    },
    {
     "data": {
      "application/vnd.jupyter.widget-view+json": {
       "model_id": "ef3e964c49a84540af58588b56697a57",
       "version_major": 2,
       "version_minor": 0
      },
      "text/plain": [
       "A Jupyter Widget"
      ]
     },
     "metadata": {},
     "output_type": "display_data"
    }
   ],
   "source": [
    "#---------- VISUALISATION OF THE MOLECULE\n",
    "#align according to first frame\n",
    "traj[0]=traj[0].superpose(traj[0][0])\n",
    "tpl=traj[0].topology\n",
    "print(tpl)\n",
    "import nglview as nv\n",
    "view = nv.show_mdtraj(traj[0])\n",
    "\n",
    "view.add_representation('spacefill', selection='all' )\n",
    "view.frame = 10\n",
    "view\n",
    "\n",
    "#--- saving as gif: does not work :(\n",
    "# from nglview.contrib.movie import MovieMaker\n",
    "# movie = MovieMaker(view, output='my.gif')\n",
    "# movie.make()\n"
   ]
  },
  {
   "cell_type": "code",
   "execution_count": 9,
   "metadata": {
    "collapsed": true
   },
   "outputs": [],
   "source": [
    "def plotResults(freeEnergyUnWeighted, freeEnergyWeighted, V1, lm, Epot, r):\n",
    "    print(freeEnergyUnWeighted)\n",
    "    freeEnergy=freeEnergyUnWeighted\n",
    "    #plt.scatter(v1TMDiffmap, Epot)\n",
    "    plt.plot(V1[lm], freeEnergy, '*-b')\n",
    "    plt.xlabel('V1')\n",
    "    plt.ylabel('Free energy ln(pi(V1(x)))')\n",
    "    plt.show()\n",
    "\n",
    "    plt.plot(r[lm], freeEnergyWeighted, '*-b')\n",
    "    plt.plot(r[lm], freeEnergyUnWeighted, '*-r')\n",
    "    plt.xlabel('r')\n",
    "    plt.ylabel('Free energy ln(pi(V1(x)))')\n",
    "    plt.show()\n",
    "\n",
    "\n",
    "    plt.scatter(  V1, Epot)\n",
    "    plt.plot( V1[lm],Epot[lm], '*-r')\n",
    "    plt.xlabel('V1')\n",
    "    plt.ylabel('potential energy')\n",
    "    plt.show()\n",
    "\n",
    "    plt.scatter(  r, Epot, c=V1)\n",
    "    plt.plot(  r[lm], Epot[lm], '-*r')\n",
    "    plt.xlabel('r')\n",
    "    plt.ylabel('potential energy')\n",
    "    plt.show()\n",
    "\n",
    "    plt.scatter(  r, V1)\n",
    "    plt.plot(  r[lm], V1[lm], '*-r')\n",
    "    plt.xlabel('r')\n",
    "    plt.ylabel('V1')\n",
    "    plt.show()\n",
    "    \n",
    "def plotAndSaveResults(freeEnergyUnWeighted, freeEnergyWeighted, V1, lm, Epot, r):\n",
    "    #print(freeEnergyUnWeighted)\n",
    "    #freeEnergy=freeEnergyUnWeighted\n",
    "    #plt.scatter(v1TMDiffmap, Epot)\n",
    "    plt.plot(V1[lm], freeEnergyUnWeighted, '*-b')\n",
    "    plt.xlabel('V1')\n",
    "    plt.ylabel('Free energy ln(pi(V1(x)))')\n",
    "    plt.show()#('V1_freeEn.png')\n",
    "\n",
    "    plt.plot(r[lm], freeEnergyWeighted, '*-b')\n",
    "    plt.plot(r[lm], freeEnergyUnWeighted, '*-r')\n",
    "    plt.xlabel('r')\n",
    "    plt.ylabel('Free energy ln(pi(V1(x)))')\n",
    "    plt.show()\n",
    "    #plt.save('r_freeEn.png')\n",
    "\n",
    "    plt.scatter(  V1, Epot)\n",
    "    plt.plot( V1[lm],Epot[lm], '*-r')\n",
    "    plt.xlabel('V1')\n",
    "    plt.ylabel('potential energy')\n",
    "    plt.show()\n",
    "    \n",
    "    \n",
    "    #plt.save('V1_ePot.png')\n",
    "\n",
    "    plt.scatter(  r, Epot, c=V1)\n",
    "    plt.plot(  r[lm], Epot[lm], '-*r')\n",
    "    plt.xlabel('r')\n",
    "    plt.ylabel('potential energy')\n",
    "    plt.show()\n",
    "   \n",
    "    plt.scatter(  r, Epot, c=V1)\n",
    "    #plt.plot(  r[lm], Epot[lm], '-*r')\n",
    "    plt.colorbar()\n",
    "    plt.xlabel('radius')\n",
    "    plt.ylabel('potential energy')\n",
    "    plt.show()\n",
    "   \n",
    "    #plt.save('r_ePot.png')\n",
    "\n",
    "    plt.scatter(  r, V1)\n",
    "    plt.plot(  r[lm], V1[lm], '*-r')\n",
    "    plt.xlabel('r')\n",
    "    plt.ylabel('V1')\n",
    "    plt.show()\n",
    "    \n",
    "    plt.scatter(  r, V1)\n",
    "    #plt.plot(  r[lm], V1[lm], '*-r')\n",
    "    plt.xlabel('radius')\n",
    "    plt.ylabel('dominant eigenvector')\n",
    "    plt.show()\n",
    "    \n",
    "    plt.scatter(  r,   Epot, c=V1)\n",
    "    plt.plot(  r[lm], freeEnergyUnWeighted, '-*b')\n",
    "    plt.xlabel('radius')\n",
    "    plt.legend(['dominant eigenvector', 'free energy'])\n",
    "    plt.show()\n",
    "    #plt.save('r_V1.png')\n",
    "    \n",
    "def plotCompareResults(fe1, fe2, v11 , v12,  lm1, lm2, r1, r2):\n",
    "    #print(freeEnergyUnWeighted)\n",
    "    \n",
    "  \n",
    "    plt.plot(r1[lm1], fe1, '*-b')\n",
    "    plt.plot(r2[lm2], fe2, '*-r')\n",
    "    plt.xlabel('r')\n",
    "    plt.ylabel('Free energy ln(pi(V1(x)))')\n",
    "    plt.show()\n",
    "\n"
   ]
  },
  {
   "cell_type": "code",
   "execution_count": 10,
   "metadata": {
    "collapsed": true
   },
   "outputs": [],
   "source": [
    "import imp\n",
    "imp.reload(sampler)\n",
    "imp.reload(dm)\n",
    "imp.reload(stat)\n",
    "\n",
    "def getDominantEigenvector(tr, eps, numberOfLandmarks, smpl, model, T, method): \n",
    "        \n",
    "        tr_orig=tr\n",
    "        \n",
    "        tmp=md.Trajectory(tr, model.testsystem.topology)\n",
    "        tmp = tmp.superpose(tmp[0])\n",
    "        #------ reshape data ------------------------------\n",
    "\n",
    "        tmp =  tmp.xyz.reshape((tmp.xyz.shape[0], tmp.xyz.shape[1]*tmp.xyz.shape[2]))\n",
    "                \n",
    "        tr=tmp\n",
    "        v1, qTarget, qEmp, Epot, kernel=sampler.dominantEigenvectorDiffusionMap(tr, eps, smpl, T, method)\n",
    "        \n",
    "        #qTargetNormalized = qTarget/np.sum(qTarget)\n",
    "        \n",
    "        #get landmarks\n",
    "        lm, levelsets, linspV = dm.get_landmarks(tr, numberOfLandmarks, qTarget, v1, Epot, getLevelSets=True)\n",
    "        \n",
    "        levelsets, levels = dm.get_levelsets(tr, numberOfLandmarks, qTarget, v1);\n",
    "        \n",
    "        tr =  tr.reshape((tr_orig.shape[0], tr_orig.shape[1],tr_orig.shape[2]))\n",
    "        \n",
    "        return tr, levelsets, v1, lm, qEmp, Epot, qTarget\n",
    "\n",
    "\n",
    "def computeFreeEnergyAtLandmarkedPoint(qTarget, qEmp, levelsets, method='weighted'):\n",
    "      \n",
    "        if(method=='weighted'):\n",
    "            weight, Ntilde = stat.compute_weight_target_distribution(qTarget, qEmp)\n",
    "        \n",
    "        \n",
    "        K=len(levelsets)\n",
    "        \n",
    "        freeEnergy=np.zeros(K)\n",
    "        h=np.zeros(K)\n",
    "\n",
    "        for k in range(0,K):\n",
    "            # simple histogram\n",
    "            if(method == 'raw'):\n",
    "                h[k] = np.sum(len(levelsets[k]))\n",
    "            elif(method=='weighted'):\n",
    "#              # unbiased histogram- we can use weights!!\n",
    "                h[k] = np.sum(weight[levelsets[k]])\n",
    "            \n",
    "        for k in range(0,K):\n",
    "            if(h[k] == 0):\n",
    "                freeEnergy[k] = 0 # if the bin is empty set 0\n",
    "            else:\n",
    "                if(method == 'raw'):\n",
    "                    freeEnergy[k] = -np.log(h[k]/sum(h))\n",
    "                elif(method=='weighted'):\n",
    "#              \n",
    "                    freeEnergy[k] =  -np.log( h[k]/sum(h) / Ntilde)\n",
    "                \n",
    "            \n",
    "        if(method=='weighted'):\n",
    "            return freeEnergy, weight, Ntilde\n",
    "        else:\n",
    "            return freeEnergy\n",
    "\n",
    "maxLength=100"
   ]
  },
  {
   "cell_type": "code",
   "execution_count": 11,
   "metadata": {},
   "outputs": [
    {
     "name": "stdout",
     "output_type": "stream",
     "text": [
      "10\n",
      "Temperature in dominantEigenvectorDiffusionMap is Quantity(value=100.0, unit=kelvin)\n",
      "constructing neighbor graph\n",
      "neighbor graph done\n",
      "Temperature in dominantEigenvectorDiffusionMap is Quantity(value=100.0, unit=kelvin)\n",
      "constructing neighbor graph\n",
      "neighbor graph done\n",
      "Temperature in dominantEigenvectorDiffusionMap is Quantity(value=100.0, unit=kelvin)\n",
      "constructing neighbor graph\n",
      "neighbor graph done\n",
      "Temperature in dominantEigenvectorDiffusionMap is Quantity(value=100.0, unit=kelvin)\n",
      "constructing neighbor graph\n",
      "neighbor graph done\n",
      "Temperature in dominantEigenvectorDiffusionMap is Quantity(value=100.0, unit=kelvin)\n",
      "constructing neighbor graph\n",
      "neighbor graph done\n",
      "Temperature in dominantEigenvectorDiffusionMap is Quantity(value=100.0, unit=kelvin)\n",
      "constructing neighbor graph\n",
      "neighbor graph done\n",
      "Temperature in dominantEigenvectorDiffusionMap is Quantity(value=100.0, unit=kelvin)\n",
      "constructing neighbor graph\n",
      "neighbor graph done\n",
      "Temperature in dominantEigenvectorDiffusionMap is Quantity(value=100.0, unit=kelvin)\n",
      "constructing neighbor graph\n",
      "neighbor graph done\n",
      "Temperature in dominantEigenvectorDiffusionMap is Quantity(value=100.0, unit=kelvin)\n",
      "constructing neighbor graph\n",
      "neighbor graph done\n"
     ]
    }
   ],
   "source": [
    "numberOfLandmarks=10\n",
    "method='TMDiffmap'\n",
    "X=Xref\n",
    "V1iref=list()\n",
    "Xiref=list()\n",
    "print(len(traj))\n",
    "for i in range(1, len(traj)):\n",
    "    m=(int(i*len(X)/len(traj)))\n",
    "    Xi = X[:m]\n",
    "    while(len(Xi)>100):\n",
    "         Xi=Xi[::2]\n",
    "    \n",
    "    Xi,lvst, V1i, lmi, qEmpi, Epoti, qTargeti =getDominantEigenvector(Xi, 1, numberOfLandmarks, samplerAlgo, samplerAlgo.model, samplerAlgo.T, method)\n",
    "\n",
    "    V1iref.append(V1i)\n",
    "    Xiref.append(Xi)\n",
    "    \n"
   ]
  },
  {
   "cell_type": "code",
   "execution_count": 27,
   "metadata": {},
   "outputs": [
    {
     "name": "stdout",
     "output_type": "stream",
     "text": [
      "10\n"
     ]
    },
    {
     "data": {
      "image/png": "[encoded data removed]",
      "text/plain": [
       "<matplotlib.figure.Figure at 0x1123a8080>"
      ]
     },
     "metadata": {},
     "output_type": "display_data"
    }
   ],
   "source": [
    "print(len(traj))\n",
    "\n",
    "sign1=np.sign(V1iref[count][0])\n",
    "\n",
    "for count in range(len(traj)-1):\n",
    "        sign=np.sign(V1iref[count][0])\n",
    "        if(sign==sign1):\n",
    "            pass\n",
    "        else:\n",
    "            V1iref[count]=-1*V1iref[count]\n",
    "        plt.scatter(radius(Xiref[count]), V1iref[count], s=10)\n",
    "        plt.xlabel('radius')\n",
    "        plt.ylabel('dominant eigenvector')\n",
    "plt.show()\n",
    "#     axarr[0, 1].scatter(x, y)\n",
    "#     axarr[0, 1].set_title('Axis [0,1]')\n",
    "# # Fine-tune figure; hide x ticks for top plots and y ticks for right plots\n",
    "# plt.setp([a.get_xticklabels() for a in axarr[0, :]], visible=False)\n",
    "# plt.setp([a.get_yticklabels() for a in axarr[:, 1]], visible=False)\n"
   ]
  },
  {
   "cell_type": "code",
   "execution_count": null,
   "metadata": {
    "scrolled": true
   },
   "outputs": [],
   "source": [
    "method='TMDiffmap' #'Diffmap'\n",
    "numberOfLandmarks=10\n",
    "epsilon=1\n",
    "\n",
    "Xshort=X_IC\n",
    "while(len(Xshort)>maxLength):\n",
    "    Xshort=Xshort[::2]\n",
    "print(\"Shape of input data: \"+repr((Xshort.shape)))\n",
    "\n",
    "# note that samplerAlgo.T gives the target temperature from the at the beginning initialized class\n",
    "print(\"Target temperature is \"+repr(samplerAlgo.T))\n",
    "\n",
    "\n",
    "# target temperature T= low temperature 100K\n",
    "XspIC,levelsetsIC, V1IC, lmIC, qEmpIC, EpotIC, qTargetIC =getDominantEigenvector(Xshort, epsilon, numberOfLandmarks, samplerAlgo, samplerAlgo.model, samplerAlgo.T, method)\n",
    "\n",
    "\n"
   ]
  },
  {
   "cell_type": "code",
   "execution_count": null,
   "metadata": {},
   "outputs": [],
   "source": [
    "Xshort=X_F\n",
    "while(len(Xshort)>maxLength):\n",
    "    Xshort=Xshort[::2]\n",
    "print(\"Shape of input data: \"+repr((Xshort.shape)))\n",
    "\n",
    "# note that samplerAlgo.T gives the target temperature from the at the beginning initialized class\n",
    "print(\"Target temperature is \"+repr(samplerAlgo.T))\n",
    "\n",
    "\n",
    "# target temperature T= low temperature 100K\n",
    "XspF,levelsetsF, V1F, lmF, qEmpF, EpotF, qTargetF =getDominantEigenvector(Xshort, epsilon, numberOfLandmarks, samplerAlgo, samplerAlgo.model, samplerAlgo.T, method)#'TMDiffmap')#'Diffmap')\n"
   ]
  },
  {
   "cell_type": "code",
   "execution_count": null,
   "metadata": {
    "collapsed": true
   },
   "outputs": [],
   "source": [
    "Xshort=Xref\n",
    "while(len(Xshort)>maxLength):\n",
    "    Xshort=Xshort[::2]\n",
    "print(\"Shape of input data: \"+repr((Xshort.shape)))\n",
    "\n",
    "# note that samplerAlgo.T gives the target temperature from the at the beginning initialized class\n",
    "print(\"Target temperature is \"+repr(samplerAlgo.T))\n",
    "\n",
    "\n",
    "# target temperature T= low temperature 100K\n",
    "Xspref,levelsetsref, V1ref, lmref, qEmpref, Epotref, qTargetref =getDominantEigenvector(Xshort, epsilon, numberOfLandmarks, samplerAlgo, samplerAlgo.model, samplerAlgo.T, method)#'TMDiffmap')#'Diffmap')\n"
   ]
  },
  {
   "cell_type": "code",
   "execution_count": null,
   "metadata": {
    "collapsed": true
   },
   "outputs": [],
   "source": [
    "rref=np.linalg.norm(Xspref[:,0,:]-Xspref[:,1,:], 2, axis=1)\n",
    "rIC=np.linalg.norm(XspIC[:,0,:]-XspIC[:,1,:], 2, axis=1)\n",
    "rF=np.linalg.norm(XspF[:,0,:]-XspF[:,1,:], 2, axis=1)\n",
    "\n",
    "plt.plot(rref, V1ref, '*b')\n",
    "plt.plot(rF, V1F, '*r')\n",
    "plt.plot(rIC, V1IC, '*g')\n",
    "plt.legend(['Ref','Frontier','max rmsd'])\n",
    "plt.xlabel('r')\n",
    "plt.ylabel('Free energy ln(pi(V1(x)))')\n",
    "plt.show()"
   ]
  },
  {
   "cell_type": "code",
   "execution_count": null,
   "metadata": {
    "collapsed": true
   },
   "outputs": [],
   "source": [
    "\n",
    "print(\"Target temperature is \"+repr(samplerAlgo.T))\n",
    "#qTargetTGT=np.exp(-EpotTGT/samplerAlgo.T)\n",
    "\n",
    "freeEnergyref= computeFreeEnergyAtLandmarkedPoint(qTargetref, qEmpref, levelsetsref, method='raw')\n",
    "freeEnergyIC= computeFreeEnergyAtLandmarkedPoint(qTargetIC, qEmpIC, levelsetsIC, method='raw')\n",
    "freeEnergyF= computeFreeEnergyAtLandmarkedPoint(qTargetF, qEmpF, levelsetsF, method='raw')\n",
    "\n",
    "\n",
    "# freeEnergyref, weightref, Ntilderef= computeFreeEnergyAtLandmarkedPoint(qTargetref, qEmpref, levelsetsref, method='raw')\n",
    "# freeEnergyIC, weightIC, NtildeIC= computeFreeEnergyAtLandmarkedPoint(qTargetIC, qEmpIC, levelsetsIC, method='raw')\n",
    "# freeEnergyF, weightF, NtildeF= computeFreeEnergyAtLandmarkedPoint(qTargetF, qEmpF, levelsetsF, method='raw')\n",
    "\n"
   ]
  },
  {
   "cell_type": "code",
   "execution_count": null,
   "metadata": {
    "collapsed": true
   },
   "outputs": [],
   "source": [
    "#qTarget=np.exp(-Epot/samplerAlgo.T)\n",
    "plt.plot(rref, qEmpref/np.mean(qEmpref), '*b')\n",
    "plt.plot(rF, qEmpF/np.mean(qEmpF), '*r')\n",
    "plt.plot(rIC, qEmpIC/np.mean(qEmpIC), '*g')\n",
    "plt.xlabel('r')\n",
    "plt.ylabel('distribution')\n",
    "plt.show()"
   ]
  },
  {
   "cell_type": "code",
   "execution_count": null,
   "metadata": {
    "collapsed": true
   },
   "outputs": [],
   "source": [
    "\n",
    "plt.plot(rref[lmref], freeEnergyref, '*-b')\n",
    "plt.plot(rIC[lmIC], freeEnergyIC, '*-g')\n",
    "plt.plot(rF[lmF], freeEnergyF, '*-r')\n",
    "plt.xlabel('r')\n",
    "plt.ylabel('Free energy ln(pi(V1(x)))')\n",
    "plt.show()\n"
   ]
  },
  {
   "cell_type": "code",
   "execution_count": null,
   "metadata": {
    "collapsed": true
   },
   "outputs": [],
   "source": [
    "# plotResults(freeEnergyref, freeEnergyref, V1TGT, lmTGT, EpotTGT, rTGT)\n",
    "# plotResults(freeEnergyRawST, freeEnergyWeightedST, V1ST, lmST, EpotST, rST)\n",
    "\n",
    "# plotAndSaveResults(freeEnergyRawTGT, freeEnergyWeightedTGT, V1TGT, lmTGT, EpotTGT, rTGT)\n",
    "# plotAndSaveResults(freeEnergyRawST, freeEnergyWeightedST, V1ST, lmST, EpotST, rST)"
   ]
  },
  {
   "cell_type": "code",
   "execution_count": null,
   "metadata": {
    "collapsed": true
   },
   "outputs": [],
   "source": []
  },
  {
   "cell_type": "code",
   "execution_count": null,
   "metadata": {
    "collapsed": true
   },
   "outputs": [],
   "source": []
  }
 ],
 "metadata": {
  "kernelspec": {
   "display_name": "Python 3",
   "language": "python",
   "name": "python3"
  },
  "language_info": {
   "codemirror_mode": {
    "name": "ipython",
    "version": 3
   },
   "file_extension": ".py",
   "mimetype": "text/x-python",
   "name": "python",
   "nbconvert_exporter": "python",
   "pygments_lexer": "ipython3",
   "version": "3.6.1"
  },
  "widgets": {
   "state": {
    "57a8aa23016042e9a5a23e6a2f177777": {
     "views": [
      {
       "cell_index": 7
      }
     ]
    }
   },
   "version": "1.2.0"
  }
 },
 "nbformat": 4,
 "nbformat_minor": 2
}
