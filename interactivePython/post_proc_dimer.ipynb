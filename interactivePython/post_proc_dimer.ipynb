{
 "cells": [
  {
   "cell_type": "code",
   "execution_count": 2,
   "metadata": {},
   "outputs": [
    {
     "data": {
      "text/plain": [
       "'/Users/zofia/github/DFM/interactivePython'"
      ]
     },
     "execution_count": 2,
     "metadata": {},
     "output_type": "execute_result"
    }
   ],
   "source": [
    "pwd"
   ]
  },
  {
   "cell_type": "code",
   "execution_count": 3,
   "metadata": {},
   "outputs": [
    {
     "name": "stdout",
     "output_type": "stream",
     "text": [
      "39.948 Da\n",
      "Thomson model: radius constraint at r0=Quantity(value=1, unit=angstrom)\n",
      "39.948 Da\n",
      "Thomson model: radius constraint at r0=Quantity(value=1, unit=angstrom)\n",
      "angstrom\n",
      "System has 11 particle(s)\n",
      "[[ 0.          0.          0.        ]\n",
      " [ 0.0965205  -0.99225706  0.07816477]\n",
      " [-0.82286865  0.5681892   0.00694391]\n",
      " [-0.00479064  0.70937502 -0.70481497]\n",
      " [-0.30248794 -0.13515729  0.94352186]\n",
      " [ 0.08103249  0.81809497  0.56934553]\n",
      " [ 0.85920244  0.50163287 -0.10067566]\n",
      " [-0.42386019 -0.28891054 -0.85841322]\n",
      " [ 0.73113877 -0.28530717  0.61970627]\n",
      " [-0.85920244 -0.50163287  0.10067566]\n",
      " [ 0.64531565 -0.39402714 -0.65445423]] A\n",
      "Initial distance is 1.000000\n",
      "TemperatureTAMDFactor = 30.0\n",
      "Gamma is Quantity(value=1.0, unit=/picosecond)\n",
      "Temperature is Quantity(value=400.0, unit=kelvin)\n",
      "Temperature TAMD 30.0xTemperature\n",
      "Mass alpha is 50.0x Mass\n",
      "860.539542589 K\n"
     ]
    }
   ],
   "source": [
    "import matplotlib.pyplot as plt\n",
    "%matplotlib inline\n",
    "\n",
    "import sys\n",
    "import os\n",
    "sys.path.append('/Users/zofia/github/DFM/srcDiffmap')\n",
    "\n",
    "import mdtraj as md\n",
    "\n",
    "import integrator\n",
    "import sampler #as sampler\n",
    "import model #as model\n",
    "import diffusionmap as dm\n",
    "import numpy as np\n",
    "from simtk import openmm, unit\n",
    "from openmmtools.constants import kB\n",
    "\n",
    "import model\n",
    "mdl=model.Model('Thomson')\n",
    "print (mdl.x_unit)\n",
    "print('System has %d particle(s)' % mdl.system.getNumParticles())\n",
    "print (mdl.testsystem.positions)\n",
    "X0=mdl.testsystem.positions.value_in_unit(mdl.x_unit)\n",
    "print('Initial distance is %f' % np.linalg.norm(X0[0,:]-X0[ 1,:]))\n",
    "\n",
    "algoVect=0\n",
    "\n",
    "# parameters\n",
    "T=400.0#400\n",
    "temperature =  T * unit.kelvin#300 * unit.kelvin\n",
    "kT = kB * temperature\n",
    "\n",
    "\n",
    "gamma = 1.0 / unit.picosecond\n",
    "dt = 2.0 * unit.femtosecond\n",
    "\n",
    "TemperatureTAMDFactor=30.0\n",
    "massScale=50.0\n",
    "\n",
    "gammaScale=100.0\n",
    "kappaScale=1000.0\n",
    "\n",
    "print(\"TemperatureTAMDFactor = \" + repr(TemperatureTAMDFactor))\n",
    "temperatureAlpha= (T*TemperatureTAMDFactor)* unit.kelvin\n",
    "\n",
    "print('Gamma is '+repr(gamma))\n",
    "print('Temperature is '+repr(temperature))\n",
    "print('Temperature TAMD '+repr(TemperatureTAMDFactor)+'xTemperature')\n",
    "print('Mass alpha is '+repr(massScale)+'x Mass')\n",
    "\n",
    "\n",
    "\n",
    "# simulation class sampler takes integrator class with chosen parameters as input\n",
    "integrator=integrator.Integrator( model=mdl, gamma=gamma, temperature=temperature, temperatureAlpha=temperatureAlpha, dt=dt, massScale=massScale, gammaScale=gammaScale, kappaScale=kappaScale)\n",
    "samplerAlgo=sampler.Sampler(model=mdl, integrator=integrator, algorithm=0, dataFileName='Data')\n",
    "\n",
    "# nrSteps is number of steps for each nrRep , and iterate the algo nrIterations times - total simulation time is nrSteps x nrIterations\n",
    "# nrSteps=args.nrSteps\n",
    "# nrEquilSteps = 10 #10000\n",
    "# nrIterations=args.niterations\n",
    "# nrRep=args.nreplicas\n",
    "\n",
    "algoNames=samplerAlgo.algorithmName\n",
    "\n"
   ]
  },
  {
   "cell_type": "code",
   "execution_count": 12,
   "metadata": {},
   "outputs": [
    {
     "name": "stdout",
     "output_type": "stream",
     "text": [
      "1.55 A\n"
     ]
    }
   ],
   "source": [
    "colorList=['red', 'blue', 'black', 'green']\n",
    "    \n",
    "min1=1.55*model.unit.angstroms\n",
    "min2=2.55*model.unit.angstroms\n",
    "\n",
    "print(min1)"
   ]
  },
  {
   "cell_type": "code",
   "execution_count": 16,
   "metadata": {},
   "outputs": [
    {
     "name": "stdout",
     "output_type": "stream",
     "text": [
      "2\n"
     ]
    }
   ],
   "source": [
    "import glob\n",
    "numpy_vars = []\n",
    "for np_name in glob.glob('/Users/zofia/github/DFM/Data/Std/Traj/*.h5'):\n",
    "    numpy_vars.append(md.load(np_name))\n",
    "\n",
    "traj = numpy_vars\n",
    "\n",
    "# traj=(traj.reshape(traj.shape[0]*traj.shape[1],traj.shape[2]))\n",
    "\n",
    "print(len(traj))\n",
    "#print(Xmdtraj[0].xyz.shape)"
   ]
  },
  {
   "cell_type": "code",
   "execution_count": 17,
   "metadata": {},
   "outputs": [
    {
     "name": "stdout",
     "output_type": "stream",
     "text": [
      "3\n",
      "(20, 11, 3)\n",
      "(20,)\n"
     ]
    },
    {
     "data": {
      "image/png": "[encoded data removed]",
      "text/plain": [
       "<matplotlib.figure.Figure at 0x123d2a748>"
      ]
     },
     "metadata": {},
     "output_type": "display_data"
    },
    {
     "name": "stdout",
     "output_type": "stream",
     "text": [
      "nan\n",
      "nan\n"
     ]
    }
   ],
   "source": [
    "import mdtraj as md\n",
    "Xmdtraj=list()\n",
    "for i in range(len(traj)):\n",
    "    Xmdtraj.append(md.Trajectory(traj[i].xyz, model.dummyTopology) )\n",
    "#md.load('/Users/zofia/github/DFM/Data/Std/Traj/std_traj_0.h5')\n",
    "#Xmdtraj=md.load('/Users/zofia/github/DFM/Data/Tsc30MS50/Traj/eftad_diffmap_local_traj_0.h5')\n",
    "#Xmdtraj=md.load('/Users/zofia/github/DFM/Data/Tsc30MS50/Traj/eftad_diffmap_local_trajTAMD_0.h5')\n",
    "\n",
    "print(Xmdtraj[0].xyz.shape[2])\n",
    "L=int(Xmdtraj[0].xyz.shape[0]*len(traj))\n",
    "nrP=int(Xmdtraj[0].xyz.shape[1])\n",
    "D=int(Xmdtraj[0].xyz.shape[2])\n",
    "X=np.zeros((L, nrP, D))\n",
    "for i in range(0,len(Xmdtraj)):\n",
    "        X[i*len(Xmdtraj[i].xyz):(i+1)*len(Xmdtraj[i].xyz),:,:]=Xmdtraj[i].xyz\n",
    "\n",
    "\n",
    "#Xmdtraj.topology=mdl.testsystem.topology\n",
    "#Xmdtraj=Xmdtraj.superpose(Xmdtraj[0])\n",
    "\n",
    "\n",
    "print(X.shape)\n",
    "#r=(np.sqrt(np.sum((X[:, 0, :] - X[:, 1, :])**2, axis=1)))\n",
    "\n",
    "r=np.linalg.norm(X[:,0,:]-X[:,1,:], 2, axis=1)\n",
    "#rmsd=md.rmsd(Xmdtraj[0],Xmdtraj)\n",
    "print(r.shape)\n",
    "\n",
    "\n",
    "plt.plot(range(len(r)), r)\n",
    "plt.plot(range(len(r)), np.ones(len(r))*min1)\n",
    "plt.plot(range(len(r)), np.ones(len(r))*min2)\n",
    "plt.show()\n",
    "\n",
    "print(np.linalg.norm(X[0, 0,:]-X[0, 1,:]))\n",
    "print(np.mean(r))\n",
    "\n",
    "# plt.plot(range(len(r)),X[:,1,0])\n",
    "# plt.show()\n",
    "\n",
    "#print(X[:,0,1])\n",
    "\n",
    "#print(Xmdtraj[0].xyz)\n",
    "#XT=md.Trajectory(traj[0].xyz, mdl.testsystem.topology)\n",
    "#print(traj[0])\n"
   ]
  },
  {
   "cell_type": "code",
   "execution_count": 21,
   "metadata": {},
   "outputs": [
    {
     "name": "stdout",
     "output_type": "stream",
     "text": [
      "[[[ nan  nan  nan]\n",
      "  [ nan  nan  nan]\n",
      "  [ nan  nan  nan]\n",
      "  [ nan  nan  nan]\n",
      "  [ nan  nan  nan]\n",
      "  [ nan  nan  nan]\n",
      "  [ nan  nan  nan]\n",
      "  [ nan  nan  nan]\n",
      "  [ nan  nan  nan]\n",
      "  [ nan  nan  nan]\n",
      "  [ nan  nan  nan]]\n",
      "\n",
      " [[ nan  nan  nan]\n",
      "  [ nan  nan  nan]\n",
      "  [ nan  nan  nan]\n",
      "  [ nan  nan  nan]\n",
      "  [ nan  nan  nan]\n",
      "  [ nan  nan  nan]\n",
      "  [ nan  nan  nan]\n",
      "  [ nan  nan  nan]\n",
      "  [ nan  nan  nan]\n",
      "  [ nan  nan  nan]\n",
      "  [ nan  nan  nan]]\n",
      "\n",
      " [[ nan  nan  nan]\n",
      "  [ nan  nan  nan]\n",
      "  [ nan  nan  nan]\n",
      "  [ nan  nan  nan]\n",
      "  [ nan  nan  nan]\n",
      "  [ nan  nan  nan]\n",
      "  [ nan  nan  nan]\n",
      "  [ nan  nan  nan]\n",
      "  [ nan  nan  nan]\n",
      "  [ nan  nan  nan]\n",
      "  [ nan  nan  nan]]\n",
      "\n",
      " [[ nan  nan  nan]\n",
      "  [ nan  nan  nan]\n",
      "  [ nan  nan  nan]\n",
      "  [ nan  nan  nan]\n",
      "  [ nan  nan  nan]\n",
      "  [ nan  nan  nan]\n",
      "  [ nan  nan  nan]\n",
      "  [ nan  nan  nan]\n",
      "  [ nan  nan  nan]\n",
      "  [ nan  nan  nan]\n",
      "  [ nan  nan  nan]]\n",
      "\n",
      " [[ nan  nan  nan]\n",
      "  [ nan  nan  nan]\n",
      "  [ nan  nan  nan]\n",
      "  [ nan  nan  nan]\n",
      "  [ nan  nan  nan]\n",
      "  [ nan  nan  nan]\n",
      "  [ nan  nan  nan]\n",
      "  [ nan  nan  nan]\n",
      "  [ nan  nan  nan]\n",
      "  [ nan  nan  nan]\n",
      "  [ nan  nan  nan]]\n",
      "\n",
      " [[ nan  nan  nan]\n",
      "  [ nan  nan  nan]\n",
      "  [ nan  nan  nan]\n",
      "  [ nan  nan  nan]\n",
      "  [ nan  nan  nan]\n",
      "  [ nan  nan  nan]\n",
      "  [ nan  nan  nan]\n",
      "  [ nan  nan  nan]\n",
      "  [ nan  nan  nan]\n",
      "  [ nan  nan  nan]\n",
      "  [ nan  nan  nan]]\n",
      "\n",
      " [[ nan  nan  nan]\n",
      "  [ nan  nan  nan]\n",
      "  [ nan  nan  nan]\n",
      "  [ nan  nan  nan]\n",
      "  [ nan  nan  nan]\n",
      "  [ nan  nan  nan]\n",
      "  [ nan  nan  nan]\n",
      "  [ nan  nan  nan]\n",
      "  [ nan  nan  nan]\n",
      "  [ nan  nan  nan]\n",
      "  [ nan  nan  nan]]\n",
      "\n",
      " [[ nan  nan  nan]\n",
      "  [ nan  nan  nan]\n",
      "  [ nan  nan  nan]\n",
      "  [ nan  nan  nan]\n",
      "  [ nan  nan  nan]\n",
      "  [ nan  nan  nan]\n",
      "  [ nan  nan  nan]\n",
      "  [ nan  nan  nan]\n",
      "  [ nan  nan  nan]\n",
      "  [ nan  nan  nan]\n",
      "  [ nan  nan  nan]]\n",
      "\n",
      " [[ nan  nan  nan]\n",
      "  [ nan  nan  nan]\n",
      "  [ nan  nan  nan]\n",
      "  [ nan  nan  nan]\n",
      "  [ nan  nan  nan]\n",
      "  [ nan  nan  nan]\n",
      "  [ nan  nan  nan]\n",
      "  [ nan  nan  nan]\n",
      "  [ nan  nan  nan]\n",
      "  [ nan  nan  nan]\n",
      "  [ nan  nan  nan]]\n",
      "\n",
      " [[ nan  nan  nan]\n",
      "  [ nan  nan  nan]\n",
      "  [ nan  nan  nan]\n",
      "  [ nan  nan  nan]\n",
      "  [ nan  nan  nan]\n",
      "  [ nan  nan  nan]\n",
      "  [ nan  nan  nan]\n",
      "  [ nan  nan  nan]\n",
      "  [ nan  nan  nan]\n",
      "  [ nan  nan  nan]\n",
      "  [ nan  nan  nan]]]\n",
      "<mdtraj.Topology with 1 chains, 1 residues, 11 atoms, 0 bonds>\n"
     ]
    },
    {
     "ename": "ValueError",
     "evalue": "Particle position is NaN",
     "output_type": "error",
     "traceback": [
      "\u001b[0;31m---------------------------------------------------------------------------\u001b[0m",
      "\u001b[0;31mValueError\u001b[0m                                Traceback (most recent call last)",
      "\u001b[0;32m<ipython-input-21-cb32f4cf901e>\u001b[0m in \u001b[0;36m<module>\u001b[0;34m()\u001b[0m\n\u001b[1;32m     16\u001b[0m \u001b[0;31m#view = nglview.show_structure_file('dimer.pdb')  # load \"3pqr\" from RCSB PDB and display viewer widget\u001b[0m\u001b[0;34m\u001b[0m\u001b[0;34m\u001b[0m\u001b[0m\n\u001b[1;32m     17\u001b[0m \u001b[0;31m#t = md.load_xtc('dimer.XTC',mdl.testsystem.topology)\u001b[0m\u001b[0;34m\u001b[0m\u001b[0;34m\u001b[0m\u001b[0m\n\u001b[0;32m---> 18\u001b[0;31m \u001b[0mview\u001b[0m \u001b[0;34m=\u001b[0m \u001b[0mnv\u001b[0m\u001b[0;34m.\u001b[0m\u001b[0mshow_mdtraj\u001b[0m\u001b[0;34m(\u001b[0m\u001b[0mtraj\u001b[0m\u001b[0;34m[\u001b[0m\u001b[0;36m0\u001b[0m\u001b[0;34m]\u001b[0m\u001b[0;34m)\u001b[0m\u001b[0;34m\u001b[0m\u001b[0m\n\u001b[0m\u001b[1;32m     19\u001b[0m \u001b[0;34m\u001b[0m\u001b[0m\n\u001b[1;32m     20\u001b[0m \u001b[0mview\u001b[0m\u001b[0;34m.\u001b[0m\u001b[0madd_representation\u001b[0m\u001b[0;34m(\u001b[0m\u001b[0;34m'spacefill'\u001b[0m\u001b[0;34m,\u001b[0m \u001b[0mselection\u001b[0m\u001b[0;34m=\u001b[0m\u001b[0;34m'all'\u001b[0m \u001b[0;34m)\u001b[0m\u001b[0;34m\u001b[0m\u001b[0m\n",
      "\u001b[0;32m~/miniconda3/lib/python3.6/site-packages/nglview/show.py\u001b[0m in \u001b[0;36mshow_mdtraj\u001b[0;34m(mdtraj_trajectory, **kwargs)\u001b[0m\n\u001b[1;32m    133\u001b[0m     '''\n\u001b[1;32m    134\u001b[0m     \u001b[0mstructure_trajectory\u001b[0m \u001b[0;34m=\u001b[0m \u001b[0mMDTrajTrajectory\u001b[0m\u001b[0;34m(\u001b[0m\u001b[0mmdtraj_trajectory\u001b[0m\u001b[0;34m)\u001b[0m\u001b[0;34m\u001b[0m\u001b[0m\n\u001b[0;32m--> 135\u001b[0;31m     \u001b[0;32mreturn\u001b[0m \u001b[0mNGLWidget\u001b[0m\u001b[0;34m(\u001b[0m\u001b[0mstructure_trajectory\u001b[0m\u001b[0;34m,\u001b[0m \u001b[0;34m**\u001b[0m\u001b[0mkwargs\u001b[0m\u001b[0;34m)\u001b[0m\u001b[0;34m\u001b[0m\u001b[0m\n\u001b[0m\u001b[1;32m    136\u001b[0m \u001b[0;34m\u001b[0m\u001b[0m\n\u001b[1;32m    137\u001b[0m \u001b[0;34m\u001b[0m\u001b[0m\n",
      "\u001b[0;32m~/miniconda3/lib/python3.6/site-packages/nglview/widget.py\u001b[0m in \u001b[0;36m__init__\u001b[0;34m(self, structure, representations, parameters, **kwargs)\u001b[0m\n\u001b[1;32m    155\u001b[0m         \u001b[0;32mif\u001b[0m \u001b[0misinstance\u001b[0m\u001b[0;34m(\u001b[0m\u001b[0mstructure\u001b[0m\u001b[0;34m,\u001b[0m \u001b[0mTrajectory\u001b[0m\u001b[0;34m)\u001b[0m\u001b[0;34m:\u001b[0m\u001b[0;34m\u001b[0m\u001b[0m\n\u001b[1;32m    156\u001b[0m             \u001b[0mname\u001b[0m \u001b[0;34m=\u001b[0m \u001b[0mpy_utils\u001b[0m\u001b[0;34m.\u001b[0m\u001b[0mget_name\u001b[0m\u001b[0;34m(\u001b[0m\u001b[0mstructure\u001b[0m\u001b[0;34m,\u001b[0m \u001b[0mkwargs\u001b[0m\u001b[0;34m)\u001b[0m\u001b[0;34m\u001b[0m\u001b[0m\n\u001b[0;32m--> 157\u001b[0;31m             \u001b[0mself\u001b[0m\u001b[0;34m.\u001b[0m\u001b[0madd_trajectory\u001b[0m\u001b[0;34m(\u001b[0m\u001b[0mstructure\u001b[0m\u001b[0;34m,\u001b[0m \u001b[0mname\u001b[0m\u001b[0;34m=\u001b[0m\u001b[0mname\u001b[0m\u001b[0;34m)\u001b[0m\u001b[0;34m\u001b[0m\u001b[0m\n\u001b[0m\u001b[1;32m    158\u001b[0m         \u001b[0;32melif\u001b[0m \u001b[0misinstance\u001b[0m\u001b[0;34m(\u001b[0m\u001b[0mstructure\u001b[0m\u001b[0;34m,\u001b[0m \u001b[0;34m(\u001b[0m\u001b[0mlist\u001b[0m\u001b[0;34m,\u001b[0m \u001b[0mtuple\u001b[0m\u001b[0;34m)\u001b[0m\u001b[0;34m)\u001b[0m\u001b[0;34m:\u001b[0m\u001b[0;34m\u001b[0m\u001b[0m\n\u001b[1;32m    159\u001b[0m             \u001b[0mtrajectories\u001b[0m \u001b[0;34m=\u001b[0m \u001b[0mstructure\u001b[0m\u001b[0;34m\u001b[0m\u001b[0m\n",
      "\u001b[0;32m~/miniconda3/lib/python3.6/site-packages/nglview/widget.py\u001b[0m in \u001b[0;36madd_trajectory\u001b[0;34m(self, trajectory, **kwargs)\u001b[0m\n\u001b[1;32m   1028\u001b[0m             \u001b[0mtrajectory\u001b[0m \u001b[0;34m=\u001b[0m \u001b[0mtrajectory\u001b[0m\u001b[0;34m\u001b[0m\u001b[0m\n\u001b[1;32m   1029\u001b[0m \u001b[0;34m\u001b[0m\u001b[0m\n\u001b[0;32m-> 1030\u001b[0;31m         \u001b[0mself\u001b[0m\u001b[0;34m.\u001b[0m\u001b[0m_load_data\u001b[0m\u001b[0;34m(\u001b[0m\u001b[0mtrajectory\u001b[0m\u001b[0;34m,\u001b[0m \u001b[0;34m**\u001b[0m\u001b[0mkwargs\u001b[0m\u001b[0;34m)\u001b[0m\u001b[0;34m\u001b[0m\u001b[0m\n\u001b[0m\u001b[1;32m   1031\u001b[0m         \u001b[0msetattr\u001b[0m\u001b[0;34m(\u001b[0m\u001b[0mtrajectory\u001b[0m\u001b[0;34m,\u001b[0m \u001b[0;34m'shown'\u001b[0m\u001b[0;34m,\u001b[0m \u001b[0;32mTrue\u001b[0m\u001b[0;34m)\u001b[0m\u001b[0;34m\u001b[0m\u001b[0m\n\u001b[1;32m   1032\u001b[0m         \u001b[0mself\u001b[0m\u001b[0;34m.\u001b[0m\u001b[0m_trajlist\u001b[0m\u001b[0;34m.\u001b[0m\u001b[0mappend\u001b[0m\u001b[0;34m(\u001b[0m\u001b[0mtrajectory\u001b[0m\u001b[0;34m)\u001b[0m\u001b[0;34m\u001b[0m\u001b[0m\n",
      "\u001b[0;32m~/miniconda3/lib/python3.6/site-packages/nglview/widget.py\u001b[0m in \u001b[0;36m_load_data\u001b[0;34m(self, obj, **kwargs)\u001b[0m\n\u001b[1;32m   1094\u001b[0m         \u001b[0;32mif\u001b[0m \u001b[0;32mnot\u001b[0m \u001b[0mis_url\u001b[0m\u001b[0;34m:\u001b[0m\u001b[0;34m\u001b[0m\u001b[0m\n\u001b[1;32m   1095\u001b[0m             \u001b[0;32mif\u001b[0m \u001b[0mhasattr\u001b[0m\u001b[0;34m(\u001b[0m\u001b[0mobj\u001b[0m\u001b[0;34m,\u001b[0m \u001b[0;34m'get_structure_string'\u001b[0m\u001b[0;34m)\u001b[0m\u001b[0;34m:\u001b[0m\u001b[0;34m\u001b[0m\u001b[0m\n\u001b[0;32m-> 1096\u001b[0;31m                 \u001b[0mblob\u001b[0m \u001b[0;34m=\u001b[0m \u001b[0mobj\u001b[0m\u001b[0;34m.\u001b[0m\u001b[0mget_structure_string\u001b[0m\u001b[0;34m(\u001b[0m\u001b[0;34m)\u001b[0m\u001b[0;34m\u001b[0m\u001b[0m\n\u001b[0m\u001b[1;32m   1097\u001b[0m                 \u001b[0mkwargs2\u001b[0m\u001b[0;34m[\u001b[0m\u001b[0;34m'ext'\u001b[0m\u001b[0;34m]\u001b[0m \u001b[0;34m=\u001b[0m \u001b[0mobj\u001b[0m\u001b[0;34m.\u001b[0m\u001b[0mext\u001b[0m\u001b[0;34m\u001b[0m\u001b[0m\n\u001b[1;32m   1098\u001b[0m                 \u001b[0mpassing_buffer\u001b[0m \u001b[0;34m=\u001b[0m \u001b[0;32mTrue\u001b[0m\u001b[0;34m\u001b[0m\u001b[0m\n",
      "\u001b[0;32m~/miniconda3/lib/python3.6/site-packages/nglview/adaptor.py\u001b[0m in \u001b[0;36mget_structure_string\u001b[0;34m(self)\u001b[0m\n\u001b[1;32m    195\u001b[0m         \u001b[0;32mwith\u001b[0m \u001b[0mtempfolder\u001b[0m\u001b[0;34m(\u001b[0m\u001b[0;34m)\u001b[0m\u001b[0;34m:\u001b[0m\u001b[0;34m\u001b[0m\u001b[0m\n\u001b[1;32m    196\u001b[0m             \u001b[0mfname\u001b[0m \u001b[0;34m=\u001b[0m \u001b[0;34m'tmp.pdb'\u001b[0m\u001b[0;34m\u001b[0m\u001b[0m\n\u001b[0;32m--> 197\u001b[0;31m             \u001b[0mself\u001b[0m\u001b[0;34m.\u001b[0m\u001b[0mtrajectory\u001b[0m\u001b[0;34m[\u001b[0m\u001b[0;36m0\u001b[0m\u001b[0;34m]\u001b[0m\u001b[0;34m.\u001b[0m\u001b[0msave_pdb\u001b[0m\u001b[0;34m(\u001b[0m\u001b[0mfname\u001b[0m\u001b[0;34m)\u001b[0m\u001b[0;34m\u001b[0m\u001b[0m\n\u001b[0m\u001b[1;32m    198\u001b[0m             \u001b[0;32mwith\u001b[0m \u001b[0mopen\u001b[0m\u001b[0;34m(\u001b[0m\u001b[0mfname\u001b[0m\u001b[0;34m)\u001b[0m \u001b[0;32mas\u001b[0m \u001b[0mfh\u001b[0m\u001b[0;34m:\u001b[0m\u001b[0;34m\u001b[0m\u001b[0m\n\u001b[1;32m    199\u001b[0m                 \u001b[0mpdb_string\u001b[0m \u001b[0;34m=\u001b[0m \u001b[0mfh\u001b[0m\u001b[0;34m.\u001b[0m\u001b[0mread\u001b[0m\u001b[0;34m(\u001b[0m\u001b[0;34m)\u001b[0m\u001b[0;34m\u001b[0m\u001b[0m\n",
      "\u001b[0;32m~/miniconda3/lib/python3.6/site-packages/mdtraj/core/trajectory.py\u001b[0m in \u001b[0;36msave_pdb\u001b[0;34m(self, filename, force_overwrite, bfactors)\u001b[0m\n\u001b[1;32m   1395\u001b[0m                             \u001b[0mself\u001b[0m\u001b[0;34m.\u001b[0m\u001b[0mtopology\u001b[0m\u001b[0;34m,\u001b[0m\u001b[0;34m\u001b[0m\u001b[0m\n\u001b[1;32m   1396\u001b[0m                             \u001b[0mmodelIndex\u001b[0m\u001b[0;34m=\u001b[0m\u001b[0mi\u001b[0m\u001b[0;34m,\u001b[0m\u001b[0;34m\u001b[0m\u001b[0m\n\u001b[0;32m-> 1397\u001b[0;31m                             bfactors=bfactors[i])\n\u001b[0m\u001b[1;32m   1398\u001b[0m \u001b[0;34m\u001b[0m\u001b[0m\n\u001b[1;32m   1399\u001b[0m     \u001b[0;32mdef\u001b[0m \u001b[0msave_xtc\u001b[0m\u001b[0;34m(\u001b[0m\u001b[0mself\u001b[0m\u001b[0;34m,\u001b[0m \u001b[0mfilename\u001b[0m\u001b[0;34m,\u001b[0m \u001b[0mforce_overwrite\u001b[0m\u001b[0;34m=\u001b[0m\u001b[0;32mTrue\u001b[0m\u001b[0;34m)\u001b[0m\u001b[0;34m:\u001b[0m\u001b[0;34m\u001b[0m\u001b[0m\n",
      "\u001b[0;32m~/miniconda3/lib/python3.6/site-packages/mdtraj/formats/pdb/pdbfile.py\u001b[0m in \u001b[0;36mwrite\u001b[0;34m(self, positions, topology, modelIndex, unitcell_lengths, unitcell_angles, bfactors)\u001b[0m\n\u001b[1;32m    307\u001b[0m             \u001b[0;32mraise\u001b[0m \u001b[0mValueError\u001b[0m\u001b[0;34m(\u001b[0m\u001b[0;34m'The number of positions must match the number of atoms'\u001b[0m\u001b[0;34m)\u001b[0m\u001b[0;34m\u001b[0m\u001b[0m\n\u001b[1;32m    308\u001b[0m         \u001b[0;32mif\u001b[0m \u001b[0mnp\u001b[0m\u001b[0;34m.\u001b[0m\u001b[0many\u001b[0m\u001b[0;34m(\u001b[0m\u001b[0mnp\u001b[0m\u001b[0;34m.\u001b[0m\u001b[0misnan\u001b[0m\u001b[0;34m(\u001b[0m\u001b[0mpositions\u001b[0m\u001b[0;34m)\u001b[0m\u001b[0;34m)\u001b[0m\u001b[0;34m:\u001b[0m\u001b[0;34m\u001b[0m\u001b[0m\n\u001b[0;32m--> 309\u001b[0;31m             \u001b[0;32mraise\u001b[0m \u001b[0mValueError\u001b[0m\u001b[0;34m(\u001b[0m\u001b[0;34m'Particle position is NaN'\u001b[0m\u001b[0;34m)\u001b[0m\u001b[0;34m\u001b[0m\u001b[0m\n\u001b[0m\u001b[1;32m    310\u001b[0m         \u001b[0;32mif\u001b[0m \u001b[0mnp\u001b[0m\u001b[0;34m.\u001b[0m\u001b[0many\u001b[0m\u001b[0;34m(\u001b[0m\u001b[0mnp\u001b[0m\u001b[0;34m.\u001b[0m\u001b[0misinf\u001b[0m\u001b[0;34m(\u001b[0m\u001b[0mpositions\u001b[0m\u001b[0;34m)\u001b[0m\u001b[0;34m)\u001b[0m\u001b[0;34m:\u001b[0m\u001b[0;34m\u001b[0m\u001b[0m\n\u001b[1;32m    311\u001b[0m             \u001b[0;32mraise\u001b[0m \u001b[0mValueError\u001b[0m\u001b[0;34m(\u001b[0m\u001b[0;34m'Particle position is infinite'\u001b[0m\u001b[0;34m)\u001b[0m\u001b[0;34m\u001b[0m\u001b[0m\n",
      "\u001b[0;31mValueError\u001b[0m: Particle position is NaN"
     ]
    }
   ],
   "source": [
    "#Xshow=md.Trajectory(X, mdl.testsystem.topology)\n",
    "#print(X[0])\n",
    "#print(Xshow.xyz)\n",
    "#Xshow.save_pdb('dimer.pdb')\n",
    "#Xshow.topology.save_xtc('dimer_tp.XTC')\n",
    "#XT=traj[0]\n",
    "#print(traj[0])\n",
    "#traj[0].topology=mdl.testsystem.topology\n",
    "\n",
    "\n",
    "traj[0]=traj[0].superpose(traj[0][0])\n",
    "tpl=traj[0].topology\n",
    "print(tpl)\n",
    "import nglview as nv\n",
    "#import pytraj as pt\n",
    "#view = nglview.show_structure_file('dimer.pdb')  # load \"3pqr\" from RCSB PDB and display viewer widget\n",
    "#t = md.load_xtc('dimer.XTC',mdl.testsystem.topology)\n",
    "view = nv.show_mdtraj(traj[0])\n",
    "\n",
    "view.add_representation('spacefill', selection='all' )\n",
    "view.frame = 10\n",
    "#view\n",
    "\n",
    "#view = nglview.show_mdtraj(Xshow)\n",
    "view\n",
    "\n",
    "# from nglview.contrib.movie import MovieMaker\n",
    "# movie = MovieMaker(view, output='my.gif')\n",
    "# movie.make()\n"
   ]
  },
  {
   "cell_type": "code",
   "execution_count": 11,
   "metadata": {
    "collapsed": true
   },
   "outputs": [],
   "source": [
    "import imp\n",
    "imp.reload(sampler)\n",
    "imp.reload(dm)\n",
    "\n",
    "\n",
    "def FE(tr, eps, numberOfLandmarks, smpl, model, T, method): \n",
    "        \n",
    "        tr_orig=tr\n",
    "        \n",
    "        tmp=md.Trajectory(tr, model.testsystem.topology)\n",
    "        tmp.superpose(tmp[0])\n",
    "        #------ reshape data ------------------------------\n",
    "\n",
    "        tmp =  tmp.xyz.reshape((tmp.xyz.shape[0], tmp.xyz.shape[1]*tmp.xyz.shape[2]))\n",
    "                \n",
    "        tr=tmp\n",
    "        v1, qTarget, qEmp, Epot, kernel=sampler.dominantEigenvectorDiffusionMap(tr, eps, smpl, T, method)\n",
    "        \n",
    "        qTargetNormalized = qTarget/np.sum(qTarget)\n",
    "        \n",
    "        #get landmarks\n",
    "        lm, levelsets, linspV = dm.get_landmarks(tr, numberOfLandmarks, qTargetNormalized, v1, Epot, getLevelSets=True)\n",
    "        #(tr, numberOfLandmarks, q , v1)\n",
    "        levelsets, levels = dm.get_levelsets(tr, numberOfLandmarks, qTargetNormalized, v1);\n",
    "        \n",
    "        #xIS, Ntilde, weight = stat.unbias(tr, eps, samplerTAMD)\n",
    "        \n",
    "        K=len(levelsets)\n",
    "        print (K)\n",
    "        freeEnergy=np.zeros(K)\n",
    "        h=np.zeros(K)\n",
    "\n",
    "        for k in range(0,K):\n",
    "            # simple histogram\n",
    "            h[k] = np.sum(len(levelsets[k]))\n",
    "#              # unbiased histogram\n",
    "#               h[k] = np.sum(weight[levelsets[k]])\n",
    "            \n",
    "        for k in range(0,K):\n",
    "            if(h[k] == 0):\n",
    "                freeEnergy[k] = 1 # this happens if the bin is empty\n",
    "            else:\n",
    "                freeEnergy[k] = -np.log(h[k]/sum(h))\n",
    "\n",
    "        \n",
    "        tr =  tr.reshape((tr_orig.shape[0], tr_orig.shape[1],tr_orig.shape[2]))\n",
    "        \n",
    "        return tr, levelsets, v1, freeEnergy, linspV, lm, qEmp, Epot\n",
    "\n",
    "\n"
   ]
  },
  {
   "cell_type": "code",
   "execution_count": 12,
   "metadata": {
    "collapsed": true
   },
   "outputs": [],
   "source": [
    "#print(len(Xshort))"
   ]
  },
  {
   "cell_type": "code",
   "execution_count": 14,
   "metadata": {},
   "outputs": [
    {
     "name": "stdout",
     "output_type": "stream",
     "text": [
      "Temperature in dominantEigenvectorDiffusionMap is Quantity(value=400.0, unit=kelvin)\n",
      "constructing neighbor graph\n",
      "neighbor graph done\n",
      "10\n"
     ]
    }
   ],
   "source": [
    "numberOfLandmarks=10\n",
    "epsilon=1\n",
    "\n",
    "Xshort=X\n",
    "while(len(Xshort)>1000):\n",
    "    Xshort=Xshort[::2]\n",
    "\n",
    "#levelsets, v1PCA, freeEnergyPCA, linspV, lmPCA, qEmpPCA =FE(X, epsilon, numberOfLandmarks, samplerTAMD, samplerTAMD.model, samplerTAMD.T, 'PCA')#'TMDiffmap')#'Diffmap')\n",
    "\n",
    "#\n",
    "#Xsp,levelsets, V1, freeEnergy, linspV, lm, qEmp, Epot =FE(Xshort, epsilon, numberOfLandmarks, samplerAlgo, samplerAlgo.model, samplerAlgo.T, 'Diffmap')#'TMDiffmap')#'Diffmap')\n",
    "\n",
    "Xsp,levelsets, V1, freeEnergy, linspV, lm, qEmp, Epot =FE(Xshort, epsilon, numberOfLandmarks, samplerAlgo, samplerAlgo.model, samplerAlgo.T, 'TMDiffmap')#'TMDiffmap')#'Diffmap')\n",
    "\n",
    "r=np.linalg.norm(Xsp[:,0,:]-Xsp[:,1,:], 2, axis=1)"
   ]
  },
  {
   "cell_type": "code",
   "execution_count": 15,
   "metadata": {},
   "outputs": [
    {
     "data": {
      "image/png": "[encoded data removed]",
      "text/plain": [
       "<matplotlib.figure.Figure at 0x11a4ac400>"
      ]
     },
     "metadata": {},
     "output_type": "display_data"
    },
    {
     "data": {
      "image/png": "[encoded data removed]",
      "text/plain": [
       "<matplotlib.figure.Figure at 0x1169c0a20>"
      ]
     },
     "metadata": {},
     "output_type": "display_data"
    },
    {
     "data": {
      "image/png": "[encoded data removed]",
      "text/plain": [
       "<matplotlib.figure.Figure at 0x117415c18>"
      ]
     },
     "metadata": {},
     "output_type": "display_data"
    },
    {
     "data": {
      "image/png": "[encoded data removed]",
      "text/plain": [
       "<matplotlib.figure.Figure at 0x1174ec940>"
      ]
     },
     "metadata": {},
     "output_type": "display_data"
    },
    {
     "data": {
      "image/png": "[encoded data removed]",
      "text/plain": [
       "<matplotlib.figure.Figure at 0x117866fd0>"
      ]
     },
     "metadata": {},
     "output_type": "display_data"
    }
   ],
   "source": [
    "#print(freeEnergy)\n",
    "#plt.scatter(v1TMDiffmap, Epot)\n",
    "plt.plot(V1[lm], freeEnergy, '*-b')\n",
    "plt.xlabel('V1')\n",
    "plt.ylabel('Free energy ln(pi(V1(x)))')\n",
    "plt.show()\n",
    "\n",
    "plt.plot(r[lm], freeEnergy, '*-b')\n",
    "plt.xlabel('r')\n",
    "plt.ylabel('Free energy ln(pi(V1(x)))')\n",
    "plt.show()\n",
    "\n",
    "\n",
    "plt.scatter(  V1, Epot)\n",
    "plt.plot( V1[lm],Epot[lm], '*-r')\n",
    "plt.xlabel('V1')\n",
    "plt.ylabel('potential energy')\n",
    "plt.show()\n",
    "\n",
    "plt.scatter(  r, Epot, c=V1)\n",
    "plt.plot(  r[lm], Epot[lm], '-*r')\n",
    "plt.xlabel('r')\n",
    "plt.ylabel('potential energy')\n",
    "plt.show()\n",
    "\n",
    "plt.scatter(  r, V1)\n",
    "plt.plot(  r[lm], V1[lm], '*-r')\n",
    "plt.xlabel('r')\n",
    "plt.ylabel('V1')\n",
    "plt.show()"
   ]
  },
  {
   "cell_type": "code",
   "execution_count": 29,
   "metadata": {},
   "outputs": [
    {
     "name": "stdout",
     "output_type": "stream",
     "text": [
      "(9100, 2, 3)\n",
      "(9100, 2, 3)\n"
     ]
    }
   ],
   "source": [
    "# interpolate values over the whole trajectory (for example)\n",
    "import linear_approximation as aprx\n",
    "imp.reload(aprx)\n",
    "\n",
    "x=X#X[lm]+0.1#Xshort\n",
    "print(x.shape)\n",
    "freeEnergyLM=freeEnergy\n",
    "\n",
    "#print(x[lm].shape)\n",
    "\n",
    "linAprxFreeEnergy = np.zeros(x.shape[0])\n",
    "diff_linAprxFreeEnergy= np.zeros(x.shape)\n",
    "\n",
    "v=aprx.compute_all_derivatives(X[lm], freeEnergyLM)\n",
    "print(x.shape)\n",
    "count=0\n",
    "for point in x:\n",
    "\n",
    "    psi, diffPsi= aprx.linApproxPsi(point*mdl.x_unit, X[lm], freeEnergyLM, v)\n",
    "\n",
    "    linAprxFreeEnergy[count]=psi\n",
    "    diff_linAprxFreeEnergy[count,:]=diffPsi\n",
    "    count=count+1\n",
    "\n",
    "#di=linAprxPsi\n"
   ]
  },
  {
   "cell_type": "code",
   "execution_count": 32,
   "metadata": {},
   "outputs": [
    {
     "data": {
      "image/png": "[encoded data removed]",
      "text/plain": [
       "<matplotlib.figure.Figure at 0x117d78518>"
      ]
     },
     "metadata": {},
     "output_type": "display_data"
    },
    {
     "name": "stdout",
     "output_type": "stream",
     "text": [
      "[ 2.2622338   2.0677455   2.13507862  3.31124914  4.87343417  4.60517019\n",
      "  3.32750967  1.67319243  1.624253    1.73460106]\n",
      "[ 3.40573906  6.7055014   6.70118265 ..., -6.93639751  2.2622338\n",
      "  7.05939442]\n",
      "[[[ -0.00000000e+00  -0.00000000e+00  -0.00000000e+00]\n",
      "  [ -0.00000000e+00  -0.00000000e+00  -0.00000000e+00]]\n",
      "\n",
      " [[ -0.00000000e+00  -0.00000000e+00  -0.00000000e+00]\n",
      "  [ -0.00000000e+00  -0.00000000e+00  -0.00000000e+00]]\n",
      "\n",
      " [[ -0.00000000e+00  -0.00000000e+00  -0.00000000e+00]\n",
      "  [ -0.00000000e+00  -0.00000000e+00  -0.00000000e+00]]\n",
      "\n",
      " [[  1.68464205e-02   1.19105779e-02   9.57161599e-03]\n",
      "  [  1.83721505e-02   1.36005313e-02   9.80756486e-03]]\n",
      "\n",
      " [[ -1.65142585e-03  -1.07991247e-05   6.92145183e-04]\n",
      "  [ -1.57278101e-03   1.88159806e-05   6.92934321e-04]]\n",
      "\n",
      " [[  1.20508876e-01  -1.10720968e-03   2.44156398e-03]\n",
      "  [  9.71833573e-02  -3.56540135e-02  -1.21134135e-02]]\n",
      "\n",
      " [[  6.95080320e-03   7.21832563e-04  -1.61725604e-03]\n",
      "  [  6.97622265e-03   8.79420417e-04  -1.71446548e-03]]\n",
      "\n",
      " [[  1.20508876e-01  -1.10720968e-03   2.44156398e-03]\n",
      "  [  9.71833573e-02  -3.56540135e-02  -1.21134135e-02]]\n",
      "\n",
      " [[  1.20508876e-01  -1.10720968e-03   2.44156398e-03]\n",
      "  [  9.71833573e-02  -3.56540135e-02  -1.21134135e-02]]\n",
      "\n",
      " [[  1.20508876e-01  -1.10720968e-03   2.44156398e-03]\n",
      "  [  9.71833573e-02  -3.56540135e-02  -1.21134135e-02]]]\n"
     ]
    }
   ],
   "source": [
    "rlin=np.linalg.norm(x[:,0,:]-x[:,1,:], 2, axis=1)\n",
    "\n",
    "\n",
    "plt.plot(rlin[lm], linAprxFreeEnergy[lm], '*r')\n",
    "plt.plot(rlin[lm], diff_linAprxFreeEnergy[lm,0,0])\n",
    "plt.plot(r[lm], freeEnergy, '*-b')\n",
    "\n",
    "plt.xlabel('r')\n",
    "plt.ylabel('Free energy ln(pi(V1(x)))')\n",
    "#plt.xlim([1.8, 2.2])\n",
    "#plt.ylim([0, 10])\n",
    "plt.show()\n",
    "\n",
    "print(freeEnergy)\n",
    "print(linAprxFreeEnergy)\n",
    "print(diff_linAprxFreeEnergy[lm])"
   ]
  },
  {
   "cell_type": "code",
   "execution_count": null,
   "metadata": {
    "collapsed": true
   },
   "outputs": [],
   "source": [
    "# imp.reload(dm)\n",
    "\n",
    "# Xmd=traj[0]\n",
    "# tmp=md.Trajectory(Xmd[0].xyz, mdl.testsystem.topology)\n",
    "# tmp2=tmp.\n",
    "# #print(Xmd[0].xyz)\n",
    "\n",
    "\n",
    "# p1=Xmd[0].xyz\n",
    "# p2=Xmd[1].xyz\n",
    "\n",
    "# print (p1[0].shape)\n",
    "\n",
    "# #print(p1[0])#(p1.shape[0],p1.shape[1])\n",
    "# p1res=p1.reshape(p1[0].shape[0]*p1[0].shape[1])\n",
    "# print(p1res)\n",
    "# p2res=p2.reshape(p1[0].shape[0]*p1[0].shape[1])\n",
    "# print(p2res)\n",
    "\n",
    "# print(md.rmsd(Xmd[0], Xmd[1]))\n",
    "# print(np.linalg.norm(p1res-p2res,2))\n",
    "\n",
    "# print(len(p1res)/3)\n",
    "# p1md=p1res.reshape(int(len(p1res)/3), 3)\n",
    "# p2md=p2res.reshape(int(len(p2res)/3), 3)\n",
    "# print(p1md)\n",
    "\n",
    "# p1MD=md.Trajectory(p1md, mdl.testsystem.topology)\n",
    "# p2MD=md.Trajectory(p2md, mdl.testsystem.topology)\n",
    "\n",
    "# print(md.rmsd(p1MD, p2MD))\n",
    "# #kernel = dm.compute_kernel_mdtraj(Xmd, 0.1)\n",
    "\n",
    "#Xmdres = Xmd.\n",
    "#kernel = dm.compute_kernel(Xmdres, 1)"
   ]
  },
  {
   "cell_type": "code",
   "execution_count": 127,
   "metadata": {},
   "outputs": [
    {
     "name": "stdout",
     "output_type": "stream",
     "text": [
      "0.0\n"
     ]
    },
    {
     "data": {
      "image/png": "[encoded data removed]",
      "text/plain": [
       "<matplotlib.figure.Figure at 0x116f4c780>"
      ]
     },
     "metadata": {},
     "output_type": "display_data"
    }
   ],
   "source": [
    "Xmd = md.Trajectory(Xshort,  mdl.testsystem.topology)\n",
    "\n",
    "rmsd = md.rmsd(Xmd, Xmd[0])\n",
    "print(rmsd[0])\n",
    "\n",
    "plt.plot(rmsd[lm], freeEnergy, '*-b')\n",
    "#plt.plot(rmsd, r, '*b')\n",
    "plt.xlabel('rmsd')\n",
    "plt.ylabel('r')\n",
    "plt.show()"
   ]
  },
  {
   "cell_type": "code",
   "execution_count": null,
   "metadata": {
    "collapsed": true
   },
   "outputs": [],
   "source": []
  }
 ],
 "metadata": {
  "kernelspec": {
   "display_name": "Python 3",
   "language": "python",
   "name": "python3"
  },
  "language_info": {
   "codemirror_mode": {
    "name": "ipython",
    "version": 3
   },
   "file_extension": ".py",
   "mimetype": "text/x-python",
   "name": "python",
   "nbconvert_exporter": "python",
   "pygments_lexer": "ipython3",
   "version": "3.6.1"
  },
  "widgets": {
   "state": {
    "57a8aa23016042e9a5a23e6a2f177777": {
     "views": [
      {
       "cell_index": 7
      }
     ]
    }
   },
   "version": "1.2.0"
  }
 },
 "nbformat": 4,
 "nbformat_minor": 2
}
